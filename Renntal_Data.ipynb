{
 "cells": [
  {
   "cell_type": "code",
   "execution_count": 23,
   "id": "7815bff1",
   "metadata": {},
   "outputs": [],
   "source": [
    "import pandas as pd\n",
    "import numpy as np\n",
    "import matplotlib.pyplot as plt\n",
    "%matplotlib inline\n",
    "import seaborn as sns\n",
    "import plotly.express as px"
   ]
  },
  {
   "cell_type": "code",
   "execution_count": 24,
   "id": "7d0c1bdd",
   "metadata": {},
   "outputs": [],
   "source": [
    "df= pd.read_csv('Rental apt_data.csv.xls')"
   ]
  },
  {
   "cell_type": "code",
   "execution_count": 25,
   "id": "c94cd7ac",
   "metadata": {},
   "outputs": [
    {
     "data": {
      "text/html": [
       "<div>\n",
       "<style scoped>\n",
       "    .dataframe tbody tr th:only-of-type {\n",
       "        vertical-align: middle;\n",
       "    }\n",
       "\n",
       "    .dataframe tbody tr th {\n",
       "        vertical-align: top;\n",
       "    }\n",
       "\n",
       "    .dataframe thead th {\n",
       "        text-align: right;\n",
       "    }\n",
       "</style>\n",
       "<table border=\"1\" class=\"dataframe\">\n",
       "  <thead>\n",
       "    <tr style=\"text-align: right;\">\n",
       "      <th></th>\n",
       "      <th>title</th>\n",
       "      <th>location</th>\n",
       "      <th>price</th>\n",
       "      <th>area</th>\n",
       "      <th>rooms</th>\n",
       "    </tr>\n",
       "  </thead>\n",
       "  <tbody>\n",
       "    <tr>\n",
       "      <th>0</th>\n",
       "      <td>Apartment Veembroederh...</td>\n",
       "      <td>1019 HD Amsterdam (Oostelijk Haven...</td>\n",
       "      <td>€3,000 per month</td>\n",
       "      <td>146 m²</td>\n",
       "      <td>3 rooms</td>\n",
       "    </tr>\n",
       "    <tr>\n",
       "      <th>1</th>\n",
       "      <td>Apartment Weteringscha...</td>\n",
       "      <td>1017 RW Amsterdam (De Weteringscha...</td>\n",
       "      <td>€2,200 per month</td>\n",
       "      <td>70 m²</td>\n",
       "      <td>3 rooms</td>\n",
       "    </tr>\n",
       "    <tr>\n",
       "      <th>2</th>\n",
       "      <td>Apartment Warmoesstraa...</td>\n",
       "      <td>1012 JE Amsterdam (Burgwallen-Oude...</td>\n",
       "      <td>€2,250 per month</td>\n",
       "      <td>47 m²</td>\n",
       "      <td>2 rooms</td>\n",
       "    </tr>\n",
       "    <tr>\n",
       "      <th>3</th>\n",
       "      <td>Apartment Ruyschstraat...</td>\n",
       "      <td>1091 BZ Amsterdam (Oosterparkbuurt...</td>\n",
       "      <td>€2,600 per month</td>\n",
       "      <td>80 m²</td>\n",
       "      <td>3 rooms</td>\n",
       "    </tr>\n",
       "    <tr>\n",
       "      <th>4</th>\n",
       "      <td>Apartment Rijnstraat  ...</td>\n",
       "      <td>1078 PV Amsterdam (IJselbuurt)    ...</td>\n",
       "      <td>€2,350 per month</td>\n",
       "      <td>78 m²</td>\n",
       "      <td>3 rooms</td>\n",
       "    </tr>\n",
       "  </tbody>\n",
       "</table>\n",
       "</div>"
      ],
      "text/plain": [
       "                                               title  \\\n",
       "0                          Apartment Veembroederh...   \n",
       "1                          Apartment Weteringscha...   \n",
       "2                          Apartment Warmoesstraa...   \n",
       "3                          Apartment Ruyschstraat...   \n",
       "4                          Apartment Rijnstraat  ...   \n",
       "\n",
       "                                            location  \\\n",
       "0              1019 HD Amsterdam (Oostelijk Haven...   \n",
       "1              1017 RW Amsterdam (De Weteringscha...   \n",
       "2              1012 JE Amsterdam (Burgwallen-Oude...   \n",
       "3              1091 BZ Amsterdam (Oosterparkbuurt...   \n",
       "4              1078 PV Amsterdam (IJselbuurt)    ...   \n",
       "\n",
       "                                          price    area    rooms  \n",
       "0                  €3,000 per month              146 m²  3 rooms  \n",
       "1                  €2,200 per month               70 m²  3 rooms  \n",
       "2                  €2,250 per month               47 m²  2 rooms  \n",
       "3                  €2,600 per month               80 m²  3 rooms  \n",
       "4                  €2,350 per month               78 m²  3 rooms  "
      ]
     },
     "execution_count": 25,
     "metadata": {},
     "output_type": "execute_result"
    }
   ],
   "source": [
    "df.head()"
   ]
  },
  {
   "cell_type": "markdown",
   "id": "21dbd294",
   "metadata": {},
   "source": [
    "df.shape"
   ]
  },
  {
   "cell_type": "code",
   "execution_count": 26,
   "id": "0657ff48",
   "metadata": {},
   "outputs": [
    {
     "data": {
      "text/html": [
       "<div>\n",
       "<style scoped>\n",
       "    .dataframe tbody tr th:only-of-type {\n",
       "        vertical-align: middle;\n",
       "    }\n",
       "\n",
       "    .dataframe tbody tr th {\n",
       "        vertical-align: top;\n",
       "    }\n",
       "\n",
       "    .dataframe thead th {\n",
       "        text-align: right;\n",
       "    }\n",
       "</style>\n",
       "<table border=\"1\" class=\"dataframe\">\n",
       "  <thead>\n",
       "    <tr style=\"text-align: right;\">\n",
       "      <th></th>\n",
       "      <th>title</th>\n",
       "      <th>location</th>\n",
       "      <th>price</th>\n",
       "      <th>area</th>\n",
       "      <th>rooms</th>\n",
       "    </tr>\n",
       "  </thead>\n",
       "  <tbody>\n",
       "    <tr>\n",
       "      <th>count</th>\n",
       "      <td>288</td>\n",
       "      <td>288</td>\n",
       "      <td>288</td>\n",
       "      <td>288</td>\n",
       "      <td>288</td>\n",
       "    </tr>\n",
       "    <tr>\n",
       "      <th>unique</th>\n",
       "      <td>33</td>\n",
       "      <td>32</td>\n",
       "      <td>21</td>\n",
       "      <td>28</td>\n",
       "      <td>5</td>\n",
       "    </tr>\n",
       "    <tr>\n",
       "      <th>top</th>\n",
       "      <td>Apartment Nieuwezijds ...</td>\n",
       "      <td>1012 RZ Amsterdam (Burgwallen-Nieu...</td>\n",
       "      <td>€1,950 per month</td>\n",
       "      <td>100 m²</td>\n",
       "      <td>3 rooms</td>\n",
       "    </tr>\n",
       "    <tr>\n",
       "      <th>freq</th>\n",
       "      <td>18</td>\n",
       "      <td>27</td>\n",
       "      <td>45</td>\n",
       "      <td>36</td>\n",
       "      <td>177</td>\n",
       "    </tr>\n",
       "  </tbody>\n",
       "</table>\n",
       "</div>"
      ],
      "text/plain": [
       "                                                    title  \\\n",
       "count                                                 288   \n",
       "unique                                                 33   \n",
       "top                             Apartment Nieuwezijds ...   \n",
       "freq                                                   18   \n",
       "\n",
       "                                                 location  \\\n",
       "count                                                 288   \n",
       "unique                                                 32   \n",
       "top                 1012 RZ Amsterdam (Burgwallen-Nieu...   \n",
       "freq                                                   27   \n",
       "\n",
       "                                               price    area    rooms  \n",
       "count                                            288     288      288  \n",
       "unique                                            21      28        5  \n",
       "top                     €1,950 per month              100 m²  3 rooms  \n",
       "freq                                              45      36      177  "
      ]
     },
     "execution_count": 26,
     "metadata": {},
     "output_type": "execute_result"
    }
   ],
   "source": [
    "df.describe()"
   ]
  },
  {
   "cell_type": "code",
   "execution_count": 27,
   "id": "65e7725f",
   "metadata": {},
   "outputs": [
    {
     "data": {
      "text/plain": [
       "title       0\n",
       "location    0\n",
       "price       0\n",
       "area        0\n",
       "rooms       0\n",
       "dtype: int64"
      ]
     },
     "execution_count": 27,
     "metadata": {},
     "output_type": "execute_result"
    }
   ],
   "source": [
    "df.isnull().sum()"
   ]
  },
  {
   "cell_type": "markdown",
   "id": "d0ec2e50",
   "metadata": {},
   "source": [
    "Here we can see that there is no null or missing value in our data. "
   ]
  },
  {
   "cell_type": "code",
   "execution_count": 28,
   "id": "463ef5bf",
   "metadata": {},
   "outputs": [
    {
     "name": "stdout",
     "output_type": "stream",
     "text": [
      "<class 'pandas.core.frame.DataFrame'>\n",
      "RangeIndex: 288 entries, 0 to 287\n",
      "Data columns (total 5 columns):\n",
      " #   Column    Non-Null Count  Dtype \n",
      "---  ------    --------------  ----- \n",
      " 0   title     288 non-null    object\n",
      " 1   location  288 non-null    object\n",
      " 2   price     288 non-null    object\n",
      " 3   area      288 non-null    object\n",
      " 4   rooms     288 non-null    object\n",
      "dtypes: object(5)\n",
      "memory usage: 11.4+ KB\n"
     ]
    }
   ],
   "source": [
    "df.info()"
   ]
  },
  {
   "cell_type": "markdown",
   "id": "b74466f0",
   "metadata": {},
   "source": [
    "As we can see our whole data is in object form."
   ]
  },
  {
   "cell_type": "code",
   "execution_count": 29,
   "id": "9ebe52e5",
   "metadata": {},
   "outputs": [
    {
     "data": {
      "text/plain": [
       "3 rooms    177\n",
       "2 rooms     90\n",
       "5 rooms      9\n",
       "4 rooms      9\n",
       "6 rooms      3\n",
       "Name: rooms, dtype: int64"
      ]
     },
     "execution_count": 29,
     "metadata": {},
     "output_type": "execute_result"
    }
   ],
   "source": [
    "df.rooms.value_counts()"
   ]
  },
  {
   "cell_type": "code",
   "execution_count": 30,
   "id": "84090660",
   "metadata": {},
   "outputs": [
    {
     "data": {
      "text/plain": [
       "100 m²    36\n",
       "55 m²     27\n",
       "120 m²    13\n",
       "89 m²      9\n",
       "69 m²      9\n",
       "72 m²      9\n",
       "75 m²      9\n",
       "40 m²      9\n",
       "87 m²      9\n",
       "45 m²      9\n",
       "54 m²      9\n",
       "60 m²      9\n",
       "92 m²      9\n",
       "105 m²     9\n",
       "65 m²      9\n",
       "41 m²      9\n",
       "110 m²     9\n",
       "83 m²      9\n",
       "125 m²     9\n",
       "57 m²      9\n",
       "117 m²     9\n",
       "78 m²      9\n",
       "80 m²      9\n",
       "47 m²      9\n",
       "91 m²      9\n",
       "146 m²     6\n",
       "70 m²      5\n",
       "155 m²     3\n",
       "Name: area, dtype: int64"
      ]
     },
     "execution_count": 30,
     "metadata": {},
     "output_type": "execute_result"
    }
   ],
   "source": [
    "df.area.value_counts()"
   ]
  },
  {
   "cell_type": "markdown",
   "id": "3ccf1e42",
   "metadata": {},
   "source": [
    "# Data Preprocessing."
   ]
  },
  {
   "cell_type": "markdown",
   "id": "b22f38bd",
   "metadata": {},
   "source": [
    "Doing custom mapping as replacing rooms with a specific numbers just like labelencoding and one one hot encoding."
   ]
  },
  {
   "cell_type": "code",
   "execution_count": 31,
   "id": "e09d11ea",
   "metadata": {},
   "outputs": [],
   "source": [
    "df['rooms'] = df['rooms'].map({'3 rooms':3, '2 rooms':2, '5 rooms':5,'4 rooms':4, '6 rooms':6})"
   ]
  },
  {
   "cell_type": "code",
   "execution_count": 32,
   "id": "a17abea6",
   "metadata": {},
   "outputs": [],
   "source": [
    "df['area'] = df['area'].map({'100 m²':100*10.763,'55 m²':55*10.763,'120 m²':120*10.763, '89 m²':89*10.763, '69 m²':69*10.763, '72 m²':72*10.763, '75 m²':75*10.763, '40 m²':40*10.763, '87 m²':87*10.763, '45 m²':45*10.763, '54 m²':54*10.763, '60 m²':60*10.763, '92 m²':92*10.763, '105 m²':105*10.763, '65 m²':65*10.763, '41 m²':41*10.763, '110 m²':110*10.763, '83 m²':83*10.763, '125 m²':125*10.763, '57 m²':57*10.763, '117 m²':117*10.763, '78 m²':78*10.763, '80 m²':80*10.763, '47 m²':47*10.763, '91 m²':91*10.763, '146 m²':146*10.763, '70 m²':70*10.763, '155 m²':155*10.763})"
   ]
  },
  {
   "cell_type": "markdown",
   "id": "c8b5b128",
   "metadata": {},
   "source": [
    "Here i have done custom mapping to both rooms and area column, but in the area column i have converted all m² into feet."
   ]
  },
  {
   "cell_type": "code",
   "execution_count": 33,
   "id": "6c32a508",
   "metadata": {},
   "outputs": [],
   "source": [
    "df[\"price\"] = df['price'].str.replace(' ', '').str.replace(',', '').str.replace('€', '').str.replace('permonth', '').astype(float)"
   ]
  },
  {
   "cell_type": "code",
   "execution_count": 34,
   "id": "b40aaf30",
   "metadata": {},
   "outputs": [],
   "source": [
    "df['price'] = df['price'].astype(int)"
   ]
  },
  {
   "cell_type": "markdown",
   "id": "1b96f311",
   "metadata": {},
   "source": [
    "Here i have replaced all the symbols like( ',' , '€' ,) ..etc. and object('permonth') to float and the float to int."
   ]
  },
  {
   "cell_type": "code",
   "execution_count": 35,
   "id": "83576615",
   "metadata": {},
   "outputs": [],
   "source": [
    "final_df = df.iloc[:,2:5]"
   ]
  },
  {
   "cell_type": "code",
   "execution_count": 36,
   "id": "ef8686e9",
   "metadata": {},
   "outputs": [
    {
     "data": {
      "text/html": [
       "<div>\n",
       "<style scoped>\n",
       "    .dataframe tbody tr th:only-of-type {\n",
       "        vertical-align: middle;\n",
       "    }\n",
       "\n",
       "    .dataframe tbody tr th {\n",
       "        vertical-align: top;\n",
       "    }\n",
       "\n",
       "    .dataframe thead th {\n",
       "        text-align: right;\n",
       "    }\n",
       "</style>\n",
       "<table border=\"1\" class=\"dataframe\">\n",
       "  <thead>\n",
       "    <tr style=\"text-align: right;\">\n",
       "      <th></th>\n",
       "      <th>price</th>\n",
       "      <th>area</th>\n",
       "      <th>rooms</th>\n",
       "    </tr>\n",
       "  </thead>\n",
       "  <tbody>\n",
       "    <tr>\n",
       "      <th>0</th>\n",
       "      <td>3000</td>\n",
       "      <td>1571.398</td>\n",
       "      <td>3</td>\n",
       "    </tr>\n",
       "    <tr>\n",
       "      <th>1</th>\n",
       "      <td>2200</td>\n",
       "      <td>753.410</td>\n",
       "      <td>3</td>\n",
       "    </tr>\n",
       "    <tr>\n",
       "      <th>2</th>\n",
       "      <td>2250</td>\n",
       "      <td>505.861</td>\n",
       "      <td>2</td>\n",
       "    </tr>\n",
       "    <tr>\n",
       "      <th>3</th>\n",
       "      <td>2600</td>\n",
       "      <td>861.040</td>\n",
       "      <td>3</td>\n",
       "    </tr>\n",
       "    <tr>\n",
       "      <th>4</th>\n",
       "      <td>2350</td>\n",
       "      <td>839.514</td>\n",
       "      <td>3</td>\n",
       "    </tr>\n",
       "    <tr>\n",
       "      <th>...</th>\n",
       "      <td>...</td>\n",
       "      <td>...</td>\n",
       "      <td>...</td>\n",
       "    </tr>\n",
       "    <tr>\n",
       "      <th>283</th>\n",
       "      <td>1950</td>\n",
       "      <td>807.225</td>\n",
       "      <td>3</td>\n",
       "    </tr>\n",
       "    <tr>\n",
       "      <th>284</th>\n",
       "      <td>1950</td>\n",
       "      <td>774.936</td>\n",
       "      <td>3</td>\n",
       "    </tr>\n",
       "    <tr>\n",
       "      <th>285</th>\n",
       "      <td>1950</td>\n",
       "      <td>979.433</td>\n",
       "      <td>3</td>\n",
       "    </tr>\n",
       "    <tr>\n",
       "      <th>286</th>\n",
       "      <td>2500</td>\n",
       "      <td>1183.930</td>\n",
       "      <td>4</td>\n",
       "    </tr>\n",
       "    <tr>\n",
       "      <th>287</th>\n",
       "      <td>1750</td>\n",
       "      <td>742.647</td>\n",
       "      <td>3</td>\n",
       "    </tr>\n",
       "  </tbody>\n",
       "</table>\n",
       "<p>288 rows × 3 columns</p>\n",
       "</div>"
      ],
      "text/plain": [
       "     price      area  rooms\n",
       "0     3000  1571.398      3\n",
       "1     2200   753.410      3\n",
       "2     2250   505.861      2\n",
       "3     2600   861.040      3\n",
       "4     2350   839.514      3\n",
       "..     ...       ...    ...\n",
       "283   1950   807.225      3\n",
       "284   1950   774.936      3\n",
       "285   1950   979.433      3\n",
       "286   2500  1183.930      4\n",
       "287   1750   742.647      3\n",
       "\n",
       "[288 rows x 3 columns]"
      ]
     },
     "execution_count": 36,
     "metadata": {},
     "output_type": "execute_result"
    }
   ],
   "source": [
    "final_df"
   ]
  },
  {
   "cell_type": "markdown",
   "id": "28c8aea2",
   "metadata": {},
   "source": [
    "As we can see that this is my final data is ready on which i'm going to work."
   ]
  },
  {
   "cell_type": "code",
   "execution_count": 37,
   "id": "1ca79991",
   "metadata": {},
   "outputs": [
    {
     "name": "stdout",
     "output_type": "stream",
     "text": [
      "<class 'pandas.core.frame.DataFrame'>\n",
      "RangeIndex: 288 entries, 0 to 287\n",
      "Data columns (total 5 columns):\n",
      " #   Column    Non-Null Count  Dtype  \n",
      "---  ------    --------------  -----  \n",
      " 0   title     288 non-null    object \n",
      " 1   location  288 non-null    object \n",
      " 2   price     288 non-null    int32  \n",
      " 3   area      288 non-null    float64\n",
      " 4   rooms     288 non-null    int64  \n",
      "dtypes: float64(1), int32(1), int64(1), object(2)\n",
      "memory usage: 10.2+ KB\n"
     ]
    }
   ],
   "source": [
    "df.info()"
   ]
  },
  {
   "cell_type": "markdown",
   "id": "793325bf",
   "metadata": {},
   "source": [
    "As we can see here our data is in integer type."
   ]
  },
  {
   "cell_type": "code",
   "execution_count": 38,
   "id": "bd055204",
   "metadata": {},
   "outputs": [
    {
     "data": {
      "text/html": [
       "<div>\n",
       "<style scoped>\n",
       "    .dataframe tbody tr th:only-of-type {\n",
       "        vertical-align: middle;\n",
       "    }\n",
       "\n",
       "    .dataframe tbody tr th {\n",
       "        vertical-align: top;\n",
       "    }\n",
       "\n",
       "    .dataframe thead th {\n",
       "        text-align: right;\n",
       "    }\n",
       "</style>\n",
       "<table border=\"1\" class=\"dataframe\">\n",
       "  <thead>\n",
       "    <tr style=\"text-align: right;\">\n",
       "      <th></th>\n",
       "      <th>price</th>\n",
       "      <th>area</th>\n",
       "      <th>rooms</th>\n",
       "    </tr>\n",
       "  </thead>\n",
       "  <tbody>\n",
       "    <tr>\n",
       "      <th>count</th>\n",
       "      <td>288.000000</td>\n",
       "      <td>288.000000</td>\n",
       "      <td>288.000000</td>\n",
       "    </tr>\n",
       "    <tr>\n",
       "      <th>mean</th>\n",
       "      <td>2311.197917</td>\n",
       "      <td>877.259243</td>\n",
       "      <td>2.812500</td>\n",
       "    </tr>\n",
       "    <tr>\n",
       "      <th>std</th>\n",
       "      <td>507.219694</td>\n",
       "      <td>291.244059</td>\n",
       "      <td>0.727448</td>\n",
       "    </tr>\n",
       "    <tr>\n",
       "      <th>min</th>\n",
       "      <td>1500.000000</td>\n",
       "      <td>430.520000</td>\n",
       "      <td>2.000000</td>\n",
       "    </tr>\n",
       "    <tr>\n",
       "      <th>25%</th>\n",
       "      <td>1937.500000</td>\n",
       "      <td>608.109500</td>\n",
       "      <td>2.000000</td>\n",
       "    </tr>\n",
       "    <tr>\n",
       "      <th>50%</th>\n",
       "      <td>2250.000000</td>\n",
       "      <td>861.040000</td>\n",
       "      <td>3.000000</td>\n",
       "    </tr>\n",
       "    <tr>\n",
       "      <th>75%</th>\n",
       "      <td>2775.000000</td>\n",
       "      <td>1076.300000</td>\n",
       "      <td>3.000000</td>\n",
       "    </tr>\n",
       "    <tr>\n",
       "      <th>max</th>\n",
       "      <td>3250.000000</td>\n",
       "      <td>1668.265000</td>\n",
       "      <td>6.000000</td>\n",
       "    </tr>\n",
       "  </tbody>\n",
       "</table>\n",
       "</div>"
      ],
      "text/plain": [
       "             price         area       rooms\n",
       "count   288.000000   288.000000  288.000000\n",
       "mean   2311.197917   877.259243    2.812500\n",
       "std     507.219694   291.244059    0.727448\n",
       "min    1500.000000   430.520000    2.000000\n",
       "25%    1937.500000   608.109500    2.000000\n",
       "50%    2250.000000   861.040000    3.000000\n",
       "75%    2775.000000  1076.300000    3.000000\n",
       "max    3250.000000  1668.265000    6.000000"
      ]
     },
     "execution_count": 38,
     "metadata": {},
     "output_type": "execute_result"
    }
   ],
   "source": [
    "final_df.describe()"
   ]
  },
  {
   "cell_type": "markdown",
   "id": "bb67dfc4",
   "metadata": {},
   "source": [
    "Here we get to know that price has the highest mean(2311.19) value and rooms has the lowest mean value(2.81)."
   ]
  },
  {
   "cell_type": "markdown",
   "id": "22a4437d",
   "metadata": {},
   "source": [
    "# Exploratory Data Analysis."
   ]
  },
  {
   "cell_type": "code",
   "execution_count": 39,
   "id": "d174a20a",
   "metadata": {},
   "outputs": [
    {
     "data": {
      "application/vnd.plotly.v1+json": {
       "config": {
        "plotlyServerURL": "https://plot.ly"
       },
       "data": [
        {
         "hovertemplate": "rooms=%{x}<br>area=%{y}<br>price=%{marker.color}<extra></extra>",
         "legendgroup": "",
         "marker": {
          "color": [
           3000,
           2200,
           2250,
           2600,
           2350,
           3000,
           1950,
           2850,
           2450,
           2975,
           1850,
           2750,
           2100,
           1650,
           1950,
           2250,
           2950,
           1500,
           1850,
           2250,
           1600,
           3000,
           3000,
           3250,
           2500,
           1600,
           1900,
           1950,
           1950,
           1950,
           2500,
           1750,
           3250,
           3000,
           2250,
           2600,
           2350,
           3000,
           1950,
           2850,
           2450,
           2975,
           1850,
           2750,
           2100,
           1650,
           1950,
           2250,
           2950,
           1500,
           1850,
           2250,
           1600,
           3000,
           3000,
           3250,
           2500,
           1600,
           1900,
           1950,
           1950,
           1950,
           2500,
           1750,
           3000,
           2200,
           2250,
           2600,
           2350,
           3000,
           1950,
           2850,
           2450,
           2975,
           1850,
           2750,
           2100,
           1650,
           1950,
           2250,
           2950,
           1500,
           1850,
           2250,
           1600,
           3000,
           3000,
           3250,
           2500,
           1600,
           1900,
           1950,
           1950,
           1950,
           2500,
           1750,
           2650,
           2200,
           2250,
           2600,
           2350,
           3000,
           1950,
           2850,
           2450,
           2975,
           1850,
           2750,
           2100,
           1650,
           1950,
           2250,
           2950,
           1500,
           1850,
           2250,
           1600,
           3000,
           3000,
           3250,
           2500,
           1600,
           1900,
           1950,
           1950,
           1950,
           2500,
           1750,
           3000,
           2650,
           2250,
           2600,
           2350,
           3000,
           1950,
           2850,
           2450,
           2975,
           1850,
           2750,
           2100,
           1650,
           1950,
           2250,
           2950,
           1500,
           1850,
           2250,
           1600,
           3000,
           3000,
           3250,
           2500,
           1600,
           1900,
           1950,
           1950,
           1950,
           2500,
           1750,
           3000,
           3250,
           2250,
           2600,
           2350,
           3000,
           1950,
           2850,
           2450,
           2975,
           1850,
           2750,
           2100,
           1650,
           1950,
           2250,
           2950,
           1500,
           1850,
           2250,
           1600,
           3000,
           3000,
           3250,
           2500,
           1600,
           1900,
           1950,
           1950,
           1950,
           2500,
           1750,
           2650,
           3000,
           2250,
           2600,
           2350,
           3000,
           1950,
           2850,
           2450,
           2975,
           1850,
           2750,
           2100,
           1650,
           1950,
           2250,
           2950,
           1500,
           1850,
           2250,
           1600,
           3000,
           3000,
           3250,
           2500,
           1600,
           1900,
           1950,
           1950,
           1950,
           2500,
           1750,
           2200,
           2650,
           2250,
           2600,
           2350,
           3000,
           1950,
           2850,
           2450,
           2975,
           1850,
           2750,
           2100,
           1650,
           1950,
           2250,
           2950,
           1500,
           1850,
           2250,
           1600,
           3000,
           3000,
           3250,
           2500,
           1600,
           1900,
           1950,
           1950,
           1950,
           2500,
           1750,
           3250,
           2200,
           2250,
           2600,
           2350,
           3000,
           1950,
           2850,
           2450,
           2975,
           1850,
           2750,
           2100,
           1650,
           1950,
           2250,
           2950,
           1500,
           1850,
           2250,
           1600,
           3000,
           3000,
           3250,
           2500,
           1600,
           1900,
           1950,
           1950,
           1950,
           2500,
           1750
          ],
          "coloraxis": "coloraxis",
          "symbol": "circle"
         },
         "mode": "markers",
         "name": "",
         "orientation": "v",
         "showlegend": false,
         "type": "scatter",
         "x": [
          3,
          3,
          2,
          3,
          3,
          5,
          2,
          3,
          2,
          3,
          2,
          3,
          3,
          2,
          3,
          3,
          3,
          2,
          2,
          3,
          2,
          3,
          3,
          3,
          3,
          2,
          2,
          3,
          3,
          3,
          4,
          3,
          6,
          3,
          2,
          3,
          3,
          5,
          2,
          3,
          2,
          3,
          2,
          3,
          3,
          2,
          3,
          3,
          3,
          2,
          2,
          3,
          2,
          3,
          3,
          3,
          3,
          2,
          2,
          3,
          3,
          3,
          4,
          3,
          3,
          3,
          2,
          3,
          3,
          5,
          2,
          3,
          2,
          3,
          2,
          3,
          3,
          2,
          3,
          3,
          3,
          2,
          2,
          3,
          2,
          3,
          3,
          3,
          3,
          2,
          2,
          3,
          3,
          3,
          4,
          3,
          3,
          3,
          2,
          3,
          3,
          5,
          2,
          3,
          2,
          3,
          2,
          3,
          3,
          2,
          3,
          3,
          3,
          2,
          2,
          3,
          2,
          3,
          3,
          3,
          3,
          2,
          2,
          3,
          3,
          3,
          4,
          3,
          3,
          3,
          2,
          3,
          3,
          5,
          2,
          3,
          2,
          3,
          2,
          3,
          3,
          2,
          3,
          3,
          3,
          2,
          2,
          3,
          2,
          3,
          3,
          3,
          3,
          2,
          2,
          3,
          3,
          3,
          4,
          3,
          3,
          6,
          2,
          3,
          3,
          5,
          2,
          3,
          2,
          3,
          2,
          3,
          3,
          2,
          3,
          3,
          3,
          2,
          2,
          3,
          2,
          3,
          3,
          3,
          3,
          2,
          2,
          3,
          3,
          3,
          4,
          3,
          3,
          3,
          2,
          3,
          3,
          5,
          2,
          3,
          2,
          3,
          2,
          3,
          3,
          2,
          3,
          3,
          3,
          2,
          2,
          3,
          2,
          3,
          3,
          3,
          3,
          2,
          2,
          3,
          3,
          3,
          4,
          3,
          3,
          3,
          2,
          3,
          3,
          5,
          2,
          3,
          2,
          3,
          2,
          3,
          3,
          2,
          3,
          3,
          3,
          2,
          2,
          3,
          2,
          3,
          3,
          3,
          3,
          2,
          2,
          3,
          3,
          3,
          4,
          3,
          6,
          3,
          2,
          3,
          3,
          5,
          2,
          3,
          2,
          3,
          2,
          3,
          3,
          2,
          3,
          3,
          3,
          2,
          2,
          3,
          2,
          3,
          3,
          3,
          3,
          2,
          2,
          3,
          3,
          3,
          4,
          3
         ],
         "xaxis": "x",
         "y": [
          1571.398,
          753.41,
          505.861,
          861.04,
          839.514,
          1259.271,
          613.491,
          1345.375,
          1291.56,
          893.329,
          591.965,
          1076.3,
          699.595,
          441.283,
          957.907,
          1130.115,
          990.196,
          645.78,
          591.965,
          581.202,
          484.335,
          1076.3,
          1076.3,
          1076.3,
          936.381,
          430.52,
          591.965,
          807.225,
          774.936,
          979.433,
          1183.93,
          742.647,
          1668.2649999999999,
          1571.398,
          505.861,
          861.04,
          839.514,
          1259.271,
          613.491,
          1345.375,
          1291.56,
          893.329,
          591.965,
          1076.3,
          699.595,
          441.283,
          957.907,
          1130.115,
          990.196,
          645.78,
          591.965,
          581.202,
          484.335,
          1076.3,
          1076.3,
          1076.3,
          936.381,
          430.52,
          591.965,
          807.225,
          774.936,
          979.433,
          1183.93,
          742.647,
          1571.398,
          753.41,
          505.861,
          861.04,
          839.514,
          1259.271,
          613.491,
          1345.375,
          1291.56,
          893.329,
          591.965,
          1076.3,
          699.595,
          441.283,
          957.907,
          1130.115,
          990.196,
          645.78,
          591.965,
          581.202,
          484.335,
          1076.3,
          1076.3,
          1076.3,
          936.381,
          430.52,
          591.965,
          807.225,
          774.936,
          979.433,
          1183.93,
          742.647,
          1291.56,
          753.41,
          505.861,
          861.04,
          839.514,
          1259.271,
          613.491,
          1345.375,
          1291.56,
          893.329,
          591.965,
          1076.3,
          699.595,
          441.283,
          957.907,
          1130.115,
          990.196,
          645.78,
          591.965,
          581.202,
          484.335,
          1076.3,
          1076.3,
          1076.3,
          936.381,
          430.52,
          591.965,
          807.225,
          774.936,
          979.433,
          1183.93,
          742.647,
          1571.398,
          1291.56,
          505.861,
          861.04,
          839.514,
          1259.271,
          613.491,
          1345.375,
          1291.56,
          893.329,
          591.965,
          1076.3,
          699.595,
          441.283,
          957.907,
          1130.115,
          990.196,
          645.78,
          591.965,
          581.202,
          484.335,
          1076.3,
          1076.3,
          1076.3,
          936.381,
          430.52,
          591.965,
          807.225,
          774.936,
          979.433,
          1183.93,
          742.647,
          1571.398,
          1668.2649999999999,
          505.861,
          861.04,
          839.514,
          1259.271,
          613.491,
          1345.375,
          1291.56,
          893.329,
          591.965,
          1076.3,
          699.595,
          441.283,
          957.907,
          1130.115,
          990.196,
          645.78,
          591.965,
          581.202,
          484.335,
          1076.3,
          1076.3,
          1076.3,
          936.381,
          430.52,
          591.965,
          807.225,
          774.936,
          979.433,
          1183.93,
          742.647,
          1291.56,
          1571.398,
          505.861,
          861.04,
          839.514,
          1259.271,
          613.491,
          1345.375,
          1291.56,
          893.329,
          591.965,
          1076.3,
          699.595,
          441.283,
          957.907,
          1130.115,
          990.196,
          645.78,
          591.965,
          581.202,
          484.335,
          1076.3,
          1076.3,
          1076.3,
          936.381,
          430.52,
          591.965,
          807.225,
          774.936,
          979.433,
          1183.93,
          742.647,
          753.41,
          1291.56,
          505.861,
          861.04,
          839.514,
          1259.271,
          613.491,
          1345.375,
          1291.56,
          893.329,
          591.965,
          1076.3,
          699.595,
          441.283,
          957.907,
          1130.115,
          990.196,
          645.78,
          591.965,
          581.202,
          484.335,
          1076.3,
          1076.3,
          1076.3,
          936.381,
          430.52,
          591.965,
          807.225,
          774.936,
          979.433,
          1183.93,
          742.647,
          1668.2649999999999,
          753.41,
          505.861,
          861.04,
          839.514,
          1259.271,
          613.491,
          1345.375,
          1291.56,
          893.329,
          591.965,
          1076.3,
          699.595,
          441.283,
          957.907,
          1130.115,
          990.196,
          645.78,
          591.965,
          581.202,
          484.335,
          1076.3,
          1076.3,
          1076.3,
          936.381,
          430.52,
          591.965,
          807.225,
          774.936,
          979.433,
          1183.93,
          742.647
         ],
         "yaxis": "y"
        },
        {
         "alignmentgroup": "True",
         "hovertemplate": "rooms=%{x}<extra></extra>",
         "legendgroup": "",
         "marker": {
          "color": "#0d0887",
          "symbol": "circle"
         },
         "name": "",
         "notched": true,
         "offsetgroup": "",
         "showlegend": false,
         "type": "box",
         "x": [
          3,
          3,
          2,
          3,
          3,
          5,
          2,
          3,
          2,
          3,
          2,
          3,
          3,
          2,
          3,
          3,
          3,
          2,
          2,
          3,
          2,
          3,
          3,
          3,
          3,
          2,
          2,
          3,
          3,
          3,
          4,
          3,
          6,
          3,
          2,
          3,
          3,
          5,
          2,
          3,
          2,
          3,
          2,
          3,
          3,
          2,
          3,
          3,
          3,
          2,
          2,
          3,
          2,
          3,
          3,
          3,
          3,
          2,
          2,
          3,
          3,
          3,
          4,
          3,
          3,
          3,
          2,
          3,
          3,
          5,
          2,
          3,
          2,
          3,
          2,
          3,
          3,
          2,
          3,
          3,
          3,
          2,
          2,
          3,
          2,
          3,
          3,
          3,
          3,
          2,
          2,
          3,
          3,
          3,
          4,
          3,
          3,
          3,
          2,
          3,
          3,
          5,
          2,
          3,
          2,
          3,
          2,
          3,
          3,
          2,
          3,
          3,
          3,
          2,
          2,
          3,
          2,
          3,
          3,
          3,
          3,
          2,
          2,
          3,
          3,
          3,
          4,
          3,
          3,
          3,
          2,
          3,
          3,
          5,
          2,
          3,
          2,
          3,
          2,
          3,
          3,
          2,
          3,
          3,
          3,
          2,
          2,
          3,
          2,
          3,
          3,
          3,
          3,
          2,
          2,
          3,
          3,
          3,
          4,
          3,
          3,
          6,
          2,
          3,
          3,
          5,
          2,
          3,
          2,
          3,
          2,
          3,
          3,
          2,
          3,
          3,
          3,
          2,
          2,
          3,
          2,
          3,
          3,
          3,
          3,
          2,
          2,
          3,
          3,
          3,
          4,
          3,
          3,
          3,
          2,
          3,
          3,
          5,
          2,
          3,
          2,
          3,
          2,
          3,
          3,
          2,
          3,
          3,
          3,
          2,
          2,
          3,
          2,
          3,
          3,
          3,
          3,
          2,
          2,
          3,
          3,
          3,
          4,
          3,
          3,
          3,
          2,
          3,
          3,
          5,
          2,
          3,
          2,
          3,
          2,
          3,
          3,
          2,
          3,
          3,
          3,
          2,
          2,
          3,
          2,
          3,
          3,
          3,
          3,
          2,
          2,
          3,
          3,
          3,
          4,
          3,
          6,
          3,
          2,
          3,
          3,
          5,
          2,
          3,
          2,
          3,
          2,
          3,
          3,
          2,
          3,
          3,
          3,
          2,
          2,
          3,
          2,
          3,
          3,
          3,
          3,
          2,
          2,
          3,
          3,
          3,
          4,
          3
         ],
         "xaxis": "x3",
         "yaxis": "y3"
        },
        {
         "alignmentgroup": "True",
         "bingroup": "y",
         "hovertemplate": "area=%{y}<br>count=%{x}<extra></extra>",
         "legendgroup": "",
         "marker": {
          "color": "#0d0887"
         },
         "name": "",
         "offsetgroup": "",
         "opacity": 0.5,
         "showlegend": false,
         "type": "histogram",
         "xaxis": "x2",
         "y": [
          1571.398,
          753.41,
          505.861,
          861.04,
          839.514,
          1259.271,
          613.491,
          1345.375,
          1291.56,
          893.329,
          591.965,
          1076.3,
          699.595,
          441.283,
          957.907,
          1130.115,
          990.196,
          645.78,
          591.965,
          581.202,
          484.335,
          1076.3,
          1076.3,
          1076.3,
          936.381,
          430.52,
          591.965,
          807.225,
          774.936,
          979.433,
          1183.93,
          742.647,
          1668.2649999999999,
          1571.398,
          505.861,
          861.04,
          839.514,
          1259.271,
          613.491,
          1345.375,
          1291.56,
          893.329,
          591.965,
          1076.3,
          699.595,
          441.283,
          957.907,
          1130.115,
          990.196,
          645.78,
          591.965,
          581.202,
          484.335,
          1076.3,
          1076.3,
          1076.3,
          936.381,
          430.52,
          591.965,
          807.225,
          774.936,
          979.433,
          1183.93,
          742.647,
          1571.398,
          753.41,
          505.861,
          861.04,
          839.514,
          1259.271,
          613.491,
          1345.375,
          1291.56,
          893.329,
          591.965,
          1076.3,
          699.595,
          441.283,
          957.907,
          1130.115,
          990.196,
          645.78,
          591.965,
          581.202,
          484.335,
          1076.3,
          1076.3,
          1076.3,
          936.381,
          430.52,
          591.965,
          807.225,
          774.936,
          979.433,
          1183.93,
          742.647,
          1291.56,
          753.41,
          505.861,
          861.04,
          839.514,
          1259.271,
          613.491,
          1345.375,
          1291.56,
          893.329,
          591.965,
          1076.3,
          699.595,
          441.283,
          957.907,
          1130.115,
          990.196,
          645.78,
          591.965,
          581.202,
          484.335,
          1076.3,
          1076.3,
          1076.3,
          936.381,
          430.52,
          591.965,
          807.225,
          774.936,
          979.433,
          1183.93,
          742.647,
          1571.398,
          1291.56,
          505.861,
          861.04,
          839.514,
          1259.271,
          613.491,
          1345.375,
          1291.56,
          893.329,
          591.965,
          1076.3,
          699.595,
          441.283,
          957.907,
          1130.115,
          990.196,
          645.78,
          591.965,
          581.202,
          484.335,
          1076.3,
          1076.3,
          1076.3,
          936.381,
          430.52,
          591.965,
          807.225,
          774.936,
          979.433,
          1183.93,
          742.647,
          1571.398,
          1668.2649999999999,
          505.861,
          861.04,
          839.514,
          1259.271,
          613.491,
          1345.375,
          1291.56,
          893.329,
          591.965,
          1076.3,
          699.595,
          441.283,
          957.907,
          1130.115,
          990.196,
          645.78,
          591.965,
          581.202,
          484.335,
          1076.3,
          1076.3,
          1076.3,
          936.381,
          430.52,
          591.965,
          807.225,
          774.936,
          979.433,
          1183.93,
          742.647,
          1291.56,
          1571.398,
          505.861,
          861.04,
          839.514,
          1259.271,
          613.491,
          1345.375,
          1291.56,
          893.329,
          591.965,
          1076.3,
          699.595,
          441.283,
          957.907,
          1130.115,
          990.196,
          645.78,
          591.965,
          581.202,
          484.335,
          1076.3,
          1076.3,
          1076.3,
          936.381,
          430.52,
          591.965,
          807.225,
          774.936,
          979.433,
          1183.93,
          742.647,
          753.41,
          1291.56,
          505.861,
          861.04,
          839.514,
          1259.271,
          613.491,
          1345.375,
          1291.56,
          893.329,
          591.965,
          1076.3,
          699.595,
          441.283,
          957.907,
          1130.115,
          990.196,
          645.78,
          591.965,
          581.202,
          484.335,
          1076.3,
          1076.3,
          1076.3,
          936.381,
          430.52,
          591.965,
          807.225,
          774.936,
          979.433,
          1183.93,
          742.647,
          1668.2649999999999,
          753.41,
          505.861,
          861.04,
          839.514,
          1259.271,
          613.491,
          1345.375,
          1291.56,
          893.329,
          591.965,
          1076.3,
          699.595,
          441.283,
          957.907,
          1130.115,
          990.196,
          645.78,
          591.965,
          581.202,
          484.335,
          1076.3,
          1076.3,
          1076.3,
          936.381,
          430.52,
          591.965,
          807.225,
          774.936,
          979.433,
          1183.93,
          742.647
         ],
         "yaxis": "y2"
        }
       ],
       "layout": {
        "barmode": "overlay",
        "coloraxis": {
         "colorbar": {
          "title": {
           "text": "price"
          }
         },
         "colorscale": [
          [
           0,
           "#0d0887"
          ],
          [
           0.1111111111111111,
           "#46039f"
          ],
          [
           0.2222222222222222,
           "#7201a8"
          ],
          [
           0.3333333333333333,
           "#9c179e"
          ],
          [
           0.4444444444444444,
           "#bd3786"
          ],
          [
           0.5555555555555556,
           "#d8576b"
          ],
          [
           0.6666666666666666,
           "#ed7953"
          ],
          [
           0.7777777777777778,
           "#fb9f3a"
          ],
          [
           0.8888888888888888,
           "#fdca26"
          ],
          [
           1,
           "#f0f921"
          ]
         ]
        },
        "legend": {
         "tracegroupgap": 0
        },
        "margin": {
         "t": 60
        },
        "template": {
         "data": {
          "bar": [
           {
            "error_x": {
             "color": "#2a3f5f"
            },
            "error_y": {
             "color": "#2a3f5f"
            },
            "marker": {
             "line": {
              "color": "#E5ECF6",
              "width": 0.5
             },
             "pattern": {
              "fillmode": "overlay",
              "size": 10,
              "solidity": 0.2
             }
            },
            "type": "bar"
           }
          ],
          "barpolar": [
           {
            "marker": {
             "line": {
              "color": "#E5ECF6",
              "width": 0.5
             },
             "pattern": {
              "fillmode": "overlay",
              "size": 10,
              "solidity": 0.2
             }
            },
            "type": "barpolar"
           }
          ],
          "carpet": [
           {
            "aaxis": {
             "endlinecolor": "#2a3f5f",
             "gridcolor": "white",
             "linecolor": "white",
             "minorgridcolor": "white",
             "startlinecolor": "#2a3f5f"
            },
            "baxis": {
             "endlinecolor": "#2a3f5f",
             "gridcolor": "white",
             "linecolor": "white",
             "minorgridcolor": "white",
             "startlinecolor": "#2a3f5f"
            },
            "type": "carpet"
           }
          ],
          "choropleth": [
           {
            "colorbar": {
             "outlinewidth": 0,
             "ticks": ""
            },
            "type": "choropleth"
           }
          ],
          "contour": [
           {
            "colorbar": {
             "outlinewidth": 0,
             "ticks": ""
            },
            "colorscale": [
             [
              0,
              "#0d0887"
             ],
             [
              0.1111111111111111,
              "#46039f"
             ],
             [
              0.2222222222222222,
              "#7201a8"
             ],
             [
              0.3333333333333333,
              "#9c179e"
             ],
             [
              0.4444444444444444,
              "#bd3786"
             ],
             [
              0.5555555555555556,
              "#d8576b"
             ],
             [
              0.6666666666666666,
              "#ed7953"
             ],
             [
              0.7777777777777778,
              "#fb9f3a"
             ],
             [
              0.8888888888888888,
              "#fdca26"
             ],
             [
              1,
              "#f0f921"
             ]
            ],
            "type": "contour"
           }
          ],
          "contourcarpet": [
           {
            "colorbar": {
             "outlinewidth": 0,
             "ticks": ""
            },
            "type": "contourcarpet"
           }
          ],
          "heatmap": [
           {
            "colorbar": {
             "outlinewidth": 0,
             "ticks": ""
            },
            "colorscale": [
             [
              0,
              "#0d0887"
             ],
             [
              0.1111111111111111,
              "#46039f"
             ],
             [
              0.2222222222222222,
              "#7201a8"
             ],
             [
              0.3333333333333333,
              "#9c179e"
             ],
             [
              0.4444444444444444,
              "#bd3786"
             ],
             [
              0.5555555555555556,
              "#d8576b"
             ],
             [
              0.6666666666666666,
              "#ed7953"
             ],
             [
              0.7777777777777778,
              "#fb9f3a"
             ],
             [
              0.8888888888888888,
              "#fdca26"
             ],
             [
              1,
              "#f0f921"
             ]
            ],
            "type": "heatmap"
           }
          ],
          "heatmapgl": [
           {
            "colorbar": {
             "outlinewidth": 0,
             "ticks": ""
            },
            "colorscale": [
             [
              0,
              "#0d0887"
             ],
             [
              0.1111111111111111,
              "#46039f"
             ],
             [
              0.2222222222222222,
              "#7201a8"
             ],
             [
              0.3333333333333333,
              "#9c179e"
             ],
             [
              0.4444444444444444,
              "#bd3786"
             ],
             [
              0.5555555555555556,
              "#d8576b"
             ],
             [
              0.6666666666666666,
              "#ed7953"
             ],
             [
              0.7777777777777778,
              "#fb9f3a"
             ],
             [
              0.8888888888888888,
              "#fdca26"
             ],
             [
              1,
              "#f0f921"
             ]
            ],
            "type": "heatmapgl"
           }
          ],
          "histogram": [
           {
            "marker": {
             "pattern": {
              "fillmode": "overlay",
              "size": 10,
              "solidity": 0.2
             }
            },
            "type": "histogram"
           }
          ],
          "histogram2d": [
           {
            "colorbar": {
             "outlinewidth": 0,
             "ticks": ""
            },
            "colorscale": [
             [
              0,
              "#0d0887"
             ],
             [
              0.1111111111111111,
              "#46039f"
             ],
             [
              0.2222222222222222,
              "#7201a8"
             ],
             [
              0.3333333333333333,
              "#9c179e"
             ],
             [
              0.4444444444444444,
              "#bd3786"
             ],
             [
              0.5555555555555556,
              "#d8576b"
             ],
             [
              0.6666666666666666,
              "#ed7953"
             ],
             [
              0.7777777777777778,
              "#fb9f3a"
             ],
             [
              0.8888888888888888,
              "#fdca26"
             ],
             [
              1,
              "#f0f921"
             ]
            ],
            "type": "histogram2d"
           }
          ],
          "histogram2dcontour": [
           {
            "colorbar": {
             "outlinewidth": 0,
             "ticks": ""
            },
            "colorscale": [
             [
              0,
              "#0d0887"
             ],
             [
              0.1111111111111111,
              "#46039f"
             ],
             [
              0.2222222222222222,
              "#7201a8"
             ],
             [
              0.3333333333333333,
              "#9c179e"
             ],
             [
              0.4444444444444444,
              "#bd3786"
             ],
             [
              0.5555555555555556,
              "#d8576b"
             ],
             [
              0.6666666666666666,
              "#ed7953"
             ],
             [
              0.7777777777777778,
              "#fb9f3a"
             ],
             [
              0.8888888888888888,
              "#fdca26"
             ],
             [
              1,
              "#f0f921"
             ]
            ],
            "type": "histogram2dcontour"
           }
          ],
          "mesh3d": [
           {
            "colorbar": {
             "outlinewidth": 0,
             "ticks": ""
            },
            "type": "mesh3d"
           }
          ],
          "parcoords": [
           {
            "line": {
             "colorbar": {
              "outlinewidth": 0,
              "ticks": ""
             }
            },
            "type": "parcoords"
           }
          ],
          "pie": [
           {
            "automargin": true,
            "type": "pie"
           }
          ],
          "scatter": [
           {
            "fillpattern": {
             "fillmode": "overlay",
             "size": 10,
             "solidity": 0.2
            },
            "type": "scatter"
           }
          ],
          "scatter3d": [
           {
            "line": {
             "colorbar": {
              "outlinewidth": 0,
              "ticks": ""
             }
            },
            "marker": {
             "colorbar": {
              "outlinewidth": 0,
              "ticks": ""
             }
            },
            "type": "scatter3d"
           }
          ],
          "scattercarpet": [
           {
            "marker": {
             "colorbar": {
              "outlinewidth": 0,
              "ticks": ""
             }
            },
            "type": "scattercarpet"
           }
          ],
          "scattergeo": [
           {
            "marker": {
             "colorbar": {
              "outlinewidth": 0,
              "ticks": ""
             }
            },
            "type": "scattergeo"
           }
          ],
          "scattergl": [
           {
            "marker": {
             "colorbar": {
              "outlinewidth": 0,
              "ticks": ""
             }
            },
            "type": "scattergl"
           }
          ],
          "scattermapbox": [
           {
            "marker": {
             "colorbar": {
              "outlinewidth": 0,
              "ticks": ""
             }
            },
            "type": "scattermapbox"
           }
          ],
          "scatterpolar": [
           {
            "marker": {
             "colorbar": {
              "outlinewidth": 0,
              "ticks": ""
             }
            },
            "type": "scatterpolar"
           }
          ],
          "scatterpolargl": [
           {
            "marker": {
             "colorbar": {
              "outlinewidth": 0,
              "ticks": ""
             }
            },
            "type": "scatterpolargl"
           }
          ],
          "scatterternary": [
           {
            "marker": {
             "colorbar": {
              "outlinewidth": 0,
              "ticks": ""
             }
            },
            "type": "scatterternary"
           }
          ],
          "surface": [
           {
            "colorbar": {
             "outlinewidth": 0,
             "ticks": ""
            },
            "colorscale": [
             [
              0,
              "#0d0887"
             ],
             [
              0.1111111111111111,
              "#46039f"
             ],
             [
              0.2222222222222222,
              "#7201a8"
             ],
             [
              0.3333333333333333,
              "#9c179e"
             ],
             [
              0.4444444444444444,
              "#bd3786"
             ],
             [
              0.5555555555555556,
              "#d8576b"
             ],
             [
              0.6666666666666666,
              "#ed7953"
             ],
             [
              0.7777777777777778,
              "#fb9f3a"
             ],
             [
              0.8888888888888888,
              "#fdca26"
             ],
             [
              1,
              "#f0f921"
             ]
            ],
            "type": "surface"
           }
          ],
          "table": [
           {
            "cells": {
             "fill": {
              "color": "#EBF0F8"
             },
             "line": {
              "color": "white"
             }
            },
            "header": {
             "fill": {
              "color": "#C8D4E3"
             },
             "line": {
              "color": "white"
             }
            },
            "type": "table"
           }
          ]
         },
         "layout": {
          "annotationdefaults": {
           "arrowcolor": "#2a3f5f",
           "arrowhead": 0,
           "arrowwidth": 1
          },
          "autotypenumbers": "strict",
          "coloraxis": {
           "colorbar": {
            "outlinewidth": 0,
            "ticks": ""
           }
          },
          "colorscale": {
           "diverging": [
            [
             0,
             "#8e0152"
            ],
            [
             0.1,
             "#c51b7d"
            ],
            [
             0.2,
             "#de77ae"
            ],
            [
             0.3,
             "#f1b6da"
            ],
            [
             0.4,
             "#fde0ef"
            ],
            [
             0.5,
             "#f7f7f7"
            ],
            [
             0.6,
             "#e6f5d0"
            ],
            [
             0.7,
             "#b8e186"
            ],
            [
             0.8,
             "#7fbc41"
            ],
            [
             0.9,
             "#4d9221"
            ],
            [
             1,
             "#276419"
            ]
           ],
           "sequential": [
            [
             0,
             "#0d0887"
            ],
            [
             0.1111111111111111,
             "#46039f"
            ],
            [
             0.2222222222222222,
             "#7201a8"
            ],
            [
             0.3333333333333333,
             "#9c179e"
            ],
            [
             0.4444444444444444,
             "#bd3786"
            ],
            [
             0.5555555555555556,
             "#d8576b"
            ],
            [
             0.6666666666666666,
             "#ed7953"
            ],
            [
             0.7777777777777778,
             "#fb9f3a"
            ],
            [
             0.8888888888888888,
             "#fdca26"
            ],
            [
             1,
             "#f0f921"
            ]
           ],
           "sequentialminus": [
            [
             0,
             "#0d0887"
            ],
            [
             0.1111111111111111,
             "#46039f"
            ],
            [
             0.2222222222222222,
             "#7201a8"
            ],
            [
             0.3333333333333333,
             "#9c179e"
            ],
            [
             0.4444444444444444,
             "#bd3786"
            ],
            [
             0.5555555555555556,
             "#d8576b"
            ],
            [
             0.6666666666666666,
             "#ed7953"
            ],
            [
             0.7777777777777778,
             "#fb9f3a"
            ],
            [
             0.8888888888888888,
             "#fdca26"
            ],
            [
             1,
             "#f0f921"
            ]
           ]
          },
          "colorway": [
           "#636efa",
           "#EF553B",
           "#00cc96",
           "#ab63fa",
           "#FFA15A",
           "#19d3f3",
           "#FF6692",
           "#B6E880",
           "#FF97FF",
           "#FECB52"
          ],
          "font": {
           "color": "#2a3f5f"
          },
          "geo": {
           "bgcolor": "white",
           "lakecolor": "white",
           "landcolor": "#E5ECF6",
           "showlakes": true,
           "showland": true,
           "subunitcolor": "white"
          },
          "hoverlabel": {
           "align": "left"
          },
          "hovermode": "closest",
          "mapbox": {
           "style": "light"
          },
          "paper_bgcolor": "white",
          "plot_bgcolor": "#E5ECF6",
          "polar": {
           "angularaxis": {
            "gridcolor": "white",
            "linecolor": "white",
            "ticks": ""
           },
           "bgcolor": "#E5ECF6",
           "radialaxis": {
            "gridcolor": "white",
            "linecolor": "white",
            "ticks": ""
           }
          },
          "scene": {
           "xaxis": {
            "backgroundcolor": "#E5ECF6",
            "gridcolor": "white",
            "gridwidth": 2,
            "linecolor": "white",
            "showbackground": true,
            "ticks": "",
            "zerolinecolor": "white"
           },
           "yaxis": {
            "backgroundcolor": "#E5ECF6",
            "gridcolor": "white",
            "gridwidth": 2,
            "linecolor": "white",
            "showbackground": true,
            "ticks": "",
            "zerolinecolor": "white"
           },
           "zaxis": {
            "backgroundcolor": "#E5ECF6",
            "gridcolor": "white",
            "gridwidth": 2,
            "linecolor": "white",
            "showbackground": true,
            "ticks": "",
            "zerolinecolor": "white"
           }
          },
          "shapedefaults": {
           "line": {
            "color": "#2a3f5f"
           }
          },
          "ternary": {
           "aaxis": {
            "gridcolor": "white",
            "linecolor": "white",
            "ticks": ""
           },
           "baxis": {
            "gridcolor": "white",
            "linecolor": "white",
            "ticks": ""
           },
           "bgcolor": "#E5ECF6",
           "caxis": {
            "gridcolor": "white",
            "linecolor": "white",
            "ticks": ""
           }
          },
          "title": {
           "x": 0.05
          },
          "xaxis": {
           "automargin": true,
           "gridcolor": "white",
           "linecolor": "white",
           "ticks": "",
           "title": {
            "standoff": 15
           },
           "zerolinecolor": "white",
           "zerolinewidth": 2
          },
          "yaxis": {
           "automargin": true,
           "gridcolor": "white",
           "linecolor": "white",
           "ticks": "",
           "title": {
            "standoff": 15
           },
           "zerolinecolor": "white",
           "zerolinewidth": 2
          }
         }
        },
        "xaxis": {
         "anchor": "y",
         "domain": [
          0,
          0.7363
         ],
         "title": {
          "text": "rooms"
         }
        },
        "xaxis2": {
         "anchor": "y2",
         "domain": [
          0.7413,
          1
         ],
         "matches": "x2",
         "showgrid": true,
         "showline": false,
         "showticklabels": false,
         "ticks": ""
        },
        "xaxis3": {
         "anchor": "y3",
         "domain": [
          0,
          0.7363
         ],
         "matches": "x",
         "showgrid": true,
         "showticklabels": false
        },
        "xaxis4": {
         "anchor": "y4",
         "domain": [
          0.7413,
          1
         ],
         "matches": "x2",
         "showgrid": true,
         "showline": false,
         "showticklabels": false,
         "ticks": ""
        },
        "yaxis": {
         "anchor": "x",
         "domain": [
          0,
          0.7326
         ],
         "title": {
          "text": "area"
         }
        },
        "yaxis2": {
         "anchor": "x2",
         "domain": [
          0,
          0.7326
         ],
         "matches": "y",
         "showgrid": true,
         "showticklabels": false
        },
        "yaxis3": {
         "anchor": "x3",
         "domain": [
          0.7426,
          1
         ],
         "matches": "y3",
         "showgrid": false,
         "showline": false,
         "showticklabels": false,
         "ticks": ""
        },
        "yaxis4": {
         "anchor": "x4",
         "domain": [
          0.7426,
          1
         ],
         "matches": "y3",
         "showgrid": true,
         "showline": false,
         "showticklabels": false,
         "ticks": ""
        }
       }
      }
     },
     "metadata": {},
     "output_type": "display_data"
    }
   ],
   "source": [
    "px.scatter(final_df, x = 'rooms', y = 'area', color = 'price',marginal_x = 'box', marginal_y = 'histogram')"
   ]
  },
  {
   "cell_type": "markdown",
   "id": "9b8411c8",
   "metadata": {},
   "source": [
    "As we can see here rooms 3 with the area '1076.3' and rooms 6 with the area '1668.265' has the highest price 3250."
   ]
  },
  {
   "cell_type": "code",
   "execution_count": 40,
   "id": "6162a4e9",
   "metadata": {},
   "outputs": [],
   "source": [
    "rooms = final_df['rooms'].value_counts()"
   ]
  },
  {
   "cell_type": "code",
   "execution_count": 41,
   "id": "e0742bda",
   "metadata": {},
   "outputs": [
    {
     "data": {
      "text/plain": [
       "Int64Index([3, 2, 5, 4, 6], dtype='int64')"
      ]
     },
     "execution_count": 41,
     "metadata": {},
     "output_type": "execute_result"
    }
   ],
   "source": [
    "rooms.index"
   ]
  },
  {
   "cell_type": "code",
   "execution_count": 42,
   "id": "48709b7f",
   "metadata": {},
   "outputs": [
    {
     "data": {
      "text/plain": [
       "array([177,  90,   9,   9,   3], dtype=int64)"
      ]
     },
     "execution_count": 42,
     "metadata": {},
     "output_type": "execute_result"
    }
   ],
   "source": [
    "rooms.values"
   ]
  },
  {
   "cell_type": "code",
   "execution_count": 43,
   "id": "143a43a6",
   "metadata": {},
   "outputs": [
    {
     "data": {
      "application/vnd.plotly.v1+json": {
       "config": {
        "plotlyServerURL": "https://plot.ly"
       },
       "data": [
        {
         "domain": {
          "x": [
           0,
           1
          ],
          "y": [
           0,
           1
          ]
         },
         "hovertemplate": "index=%{label}<br>value=%{value}<extra></extra>",
         "labels": [
          3,
          2,
          5,
          4,
          6
         ],
         "legendgroup": "",
         "name": "",
         "showlegend": true,
         "type": "pie",
         "values": [
          177,
          90,
          9,
          9,
          3
         ]
        }
       ],
       "layout": {
        "legend": {
         "tracegroupgap": 0
        },
        "margin": {
         "t": 60
        },
        "template": {
         "data": {
          "bar": [
           {
            "error_x": {
             "color": "#2a3f5f"
            },
            "error_y": {
             "color": "#2a3f5f"
            },
            "marker": {
             "line": {
              "color": "#E5ECF6",
              "width": 0.5
             },
             "pattern": {
              "fillmode": "overlay",
              "size": 10,
              "solidity": 0.2
             }
            },
            "type": "bar"
           }
          ],
          "barpolar": [
           {
            "marker": {
             "line": {
              "color": "#E5ECF6",
              "width": 0.5
             },
             "pattern": {
              "fillmode": "overlay",
              "size": 10,
              "solidity": 0.2
             }
            },
            "type": "barpolar"
           }
          ],
          "carpet": [
           {
            "aaxis": {
             "endlinecolor": "#2a3f5f",
             "gridcolor": "white",
             "linecolor": "white",
             "minorgridcolor": "white",
             "startlinecolor": "#2a3f5f"
            },
            "baxis": {
             "endlinecolor": "#2a3f5f",
             "gridcolor": "white",
             "linecolor": "white",
             "minorgridcolor": "white",
             "startlinecolor": "#2a3f5f"
            },
            "type": "carpet"
           }
          ],
          "choropleth": [
           {
            "colorbar": {
             "outlinewidth": 0,
             "ticks": ""
            },
            "type": "choropleth"
           }
          ],
          "contour": [
           {
            "colorbar": {
             "outlinewidth": 0,
             "ticks": ""
            },
            "colorscale": [
             [
              0,
              "#0d0887"
             ],
             [
              0.1111111111111111,
              "#46039f"
             ],
             [
              0.2222222222222222,
              "#7201a8"
             ],
             [
              0.3333333333333333,
              "#9c179e"
             ],
             [
              0.4444444444444444,
              "#bd3786"
             ],
             [
              0.5555555555555556,
              "#d8576b"
             ],
             [
              0.6666666666666666,
              "#ed7953"
             ],
             [
              0.7777777777777778,
              "#fb9f3a"
             ],
             [
              0.8888888888888888,
              "#fdca26"
             ],
             [
              1,
              "#f0f921"
             ]
            ],
            "type": "contour"
           }
          ],
          "contourcarpet": [
           {
            "colorbar": {
             "outlinewidth": 0,
             "ticks": ""
            },
            "type": "contourcarpet"
           }
          ],
          "heatmap": [
           {
            "colorbar": {
             "outlinewidth": 0,
             "ticks": ""
            },
            "colorscale": [
             [
              0,
              "#0d0887"
             ],
             [
              0.1111111111111111,
              "#46039f"
             ],
             [
              0.2222222222222222,
              "#7201a8"
             ],
             [
              0.3333333333333333,
              "#9c179e"
             ],
             [
              0.4444444444444444,
              "#bd3786"
             ],
             [
              0.5555555555555556,
              "#d8576b"
             ],
             [
              0.6666666666666666,
              "#ed7953"
             ],
             [
              0.7777777777777778,
              "#fb9f3a"
             ],
             [
              0.8888888888888888,
              "#fdca26"
             ],
             [
              1,
              "#f0f921"
             ]
            ],
            "type": "heatmap"
           }
          ],
          "heatmapgl": [
           {
            "colorbar": {
             "outlinewidth": 0,
             "ticks": ""
            },
            "colorscale": [
             [
              0,
              "#0d0887"
             ],
             [
              0.1111111111111111,
              "#46039f"
             ],
             [
              0.2222222222222222,
              "#7201a8"
             ],
             [
              0.3333333333333333,
              "#9c179e"
             ],
             [
              0.4444444444444444,
              "#bd3786"
             ],
             [
              0.5555555555555556,
              "#d8576b"
             ],
             [
              0.6666666666666666,
              "#ed7953"
             ],
             [
              0.7777777777777778,
              "#fb9f3a"
             ],
             [
              0.8888888888888888,
              "#fdca26"
             ],
             [
              1,
              "#f0f921"
             ]
            ],
            "type": "heatmapgl"
           }
          ],
          "histogram": [
           {
            "marker": {
             "pattern": {
              "fillmode": "overlay",
              "size": 10,
              "solidity": 0.2
             }
            },
            "type": "histogram"
           }
          ],
          "histogram2d": [
           {
            "colorbar": {
             "outlinewidth": 0,
             "ticks": ""
            },
            "colorscale": [
             [
              0,
              "#0d0887"
             ],
             [
              0.1111111111111111,
              "#46039f"
             ],
             [
              0.2222222222222222,
              "#7201a8"
             ],
             [
              0.3333333333333333,
              "#9c179e"
             ],
             [
              0.4444444444444444,
              "#bd3786"
             ],
             [
              0.5555555555555556,
              "#d8576b"
             ],
             [
              0.6666666666666666,
              "#ed7953"
             ],
             [
              0.7777777777777778,
              "#fb9f3a"
             ],
             [
              0.8888888888888888,
              "#fdca26"
             ],
             [
              1,
              "#f0f921"
             ]
            ],
            "type": "histogram2d"
           }
          ],
          "histogram2dcontour": [
           {
            "colorbar": {
             "outlinewidth": 0,
             "ticks": ""
            },
            "colorscale": [
             [
              0,
              "#0d0887"
             ],
             [
              0.1111111111111111,
              "#46039f"
             ],
             [
              0.2222222222222222,
              "#7201a8"
             ],
             [
              0.3333333333333333,
              "#9c179e"
             ],
             [
              0.4444444444444444,
              "#bd3786"
             ],
             [
              0.5555555555555556,
              "#d8576b"
             ],
             [
              0.6666666666666666,
              "#ed7953"
             ],
             [
              0.7777777777777778,
              "#fb9f3a"
             ],
             [
              0.8888888888888888,
              "#fdca26"
             ],
             [
              1,
              "#f0f921"
             ]
            ],
            "type": "histogram2dcontour"
           }
          ],
          "mesh3d": [
           {
            "colorbar": {
             "outlinewidth": 0,
             "ticks": ""
            },
            "type": "mesh3d"
           }
          ],
          "parcoords": [
           {
            "line": {
             "colorbar": {
              "outlinewidth": 0,
              "ticks": ""
             }
            },
            "type": "parcoords"
           }
          ],
          "pie": [
           {
            "automargin": true,
            "type": "pie"
           }
          ],
          "scatter": [
           {
            "fillpattern": {
             "fillmode": "overlay",
             "size": 10,
             "solidity": 0.2
            },
            "type": "scatter"
           }
          ],
          "scatter3d": [
           {
            "line": {
             "colorbar": {
              "outlinewidth": 0,
              "ticks": ""
             }
            },
            "marker": {
             "colorbar": {
              "outlinewidth": 0,
              "ticks": ""
             }
            },
            "type": "scatter3d"
           }
          ],
          "scattercarpet": [
           {
            "marker": {
             "colorbar": {
              "outlinewidth": 0,
              "ticks": ""
             }
            },
            "type": "scattercarpet"
           }
          ],
          "scattergeo": [
           {
            "marker": {
             "colorbar": {
              "outlinewidth": 0,
              "ticks": ""
             }
            },
            "type": "scattergeo"
           }
          ],
          "scattergl": [
           {
            "marker": {
             "colorbar": {
              "outlinewidth": 0,
              "ticks": ""
             }
            },
            "type": "scattergl"
           }
          ],
          "scattermapbox": [
           {
            "marker": {
             "colorbar": {
              "outlinewidth": 0,
              "ticks": ""
             }
            },
            "type": "scattermapbox"
           }
          ],
          "scatterpolar": [
           {
            "marker": {
             "colorbar": {
              "outlinewidth": 0,
              "ticks": ""
             }
            },
            "type": "scatterpolar"
           }
          ],
          "scatterpolargl": [
           {
            "marker": {
             "colorbar": {
              "outlinewidth": 0,
              "ticks": ""
             }
            },
            "type": "scatterpolargl"
           }
          ],
          "scatterternary": [
           {
            "marker": {
             "colorbar": {
              "outlinewidth": 0,
              "ticks": ""
             }
            },
            "type": "scatterternary"
           }
          ],
          "surface": [
           {
            "colorbar": {
             "outlinewidth": 0,
             "ticks": ""
            },
            "colorscale": [
             [
              0,
              "#0d0887"
             ],
             [
              0.1111111111111111,
              "#46039f"
             ],
             [
              0.2222222222222222,
              "#7201a8"
             ],
             [
              0.3333333333333333,
              "#9c179e"
             ],
             [
              0.4444444444444444,
              "#bd3786"
             ],
             [
              0.5555555555555556,
              "#d8576b"
             ],
             [
              0.6666666666666666,
              "#ed7953"
             ],
             [
              0.7777777777777778,
              "#fb9f3a"
             ],
             [
              0.8888888888888888,
              "#fdca26"
             ],
             [
              1,
              "#f0f921"
             ]
            ],
            "type": "surface"
           }
          ],
          "table": [
           {
            "cells": {
             "fill": {
              "color": "#EBF0F8"
             },
             "line": {
              "color": "white"
             }
            },
            "header": {
             "fill": {
              "color": "#C8D4E3"
             },
             "line": {
              "color": "white"
             }
            },
            "type": "table"
           }
          ]
         },
         "layout": {
          "annotationdefaults": {
           "arrowcolor": "#2a3f5f",
           "arrowhead": 0,
           "arrowwidth": 1
          },
          "autotypenumbers": "strict",
          "coloraxis": {
           "colorbar": {
            "outlinewidth": 0,
            "ticks": ""
           }
          },
          "colorscale": {
           "diverging": [
            [
             0,
             "#8e0152"
            ],
            [
             0.1,
             "#c51b7d"
            ],
            [
             0.2,
             "#de77ae"
            ],
            [
             0.3,
             "#f1b6da"
            ],
            [
             0.4,
             "#fde0ef"
            ],
            [
             0.5,
             "#f7f7f7"
            ],
            [
             0.6,
             "#e6f5d0"
            ],
            [
             0.7,
             "#b8e186"
            ],
            [
             0.8,
             "#7fbc41"
            ],
            [
             0.9,
             "#4d9221"
            ],
            [
             1,
             "#276419"
            ]
           ],
           "sequential": [
            [
             0,
             "#0d0887"
            ],
            [
             0.1111111111111111,
             "#46039f"
            ],
            [
             0.2222222222222222,
             "#7201a8"
            ],
            [
             0.3333333333333333,
             "#9c179e"
            ],
            [
             0.4444444444444444,
             "#bd3786"
            ],
            [
             0.5555555555555556,
             "#d8576b"
            ],
            [
             0.6666666666666666,
             "#ed7953"
            ],
            [
             0.7777777777777778,
             "#fb9f3a"
            ],
            [
             0.8888888888888888,
             "#fdca26"
            ],
            [
             1,
             "#f0f921"
            ]
           ],
           "sequentialminus": [
            [
             0,
             "#0d0887"
            ],
            [
             0.1111111111111111,
             "#46039f"
            ],
            [
             0.2222222222222222,
             "#7201a8"
            ],
            [
             0.3333333333333333,
             "#9c179e"
            ],
            [
             0.4444444444444444,
             "#bd3786"
            ],
            [
             0.5555555555555556,
             "#d8576b"
            ],
            [
             0.6666666666666666,
             "#ed7953"
            ],
            [
             0.7777777777777778,
             "#fb9f3a"
            ],
            [
             0.8888888888888888,
             "#fdca26"
            ],
            [
             1,
             "#f0f921"
            ]
           ]
          },
          "colorway": [
           "#636efa",
           "#EF553B",
           "#00cc96",
           "#ab63fa",
           "#FFA15A",
           "#19d3f3",
           "#FF6692",
           "#B6E880",
           "#FF97FF",
           "#FECB52"
          ],
          "font": {
           "color": "#2a3f5f"
          },
          "geo": {
           "bgcolor": "white",
           "lakecolor": "white",
           "landcolor": "#E5ECF6",
           "showlakes": true,
           "showland": true,
           "subunitcolor": "white"
          },
          "hoverlabel": {
           "align": "left"
          },
          "hovermode": "closest",
          "mapbox": {
           "style": "light"
          },
          "paper_bgcolor": "white",
          "plot_bgcolor": "#E5ECF6",
          "polar": {
           "angularaxis": {
            "gridcolor": "white",
            "linecolor": "white",
            "ticks": ""
           },
           "bgcolor": "#E5ECF6",
           "radialaxis": {
            "gridcolor": "white",
            "linecolor": "white",
            "ticks": ""
           }
          },
          "scene": {
           "xaxis": {
            "backgroundcolor": "#E5ECF6",
            "gridcolor": "white",
            "gridwidth": 2,
            "linecolor": "white",
            "showbackground": true,
            "ticks": "",
            "zerolinecolor": "white"
           },
           "yaxis": {
            "backgroundcolor": "#E5ECF6",
            "gridcolor": "white",
            "gridwidth": 2,
            "linecolor": "white",
            "showbackground": true,
            "ticks": "",
            "zerolinecolor": "white"
           },
           "zaxis": {
            "backgroundcolor": "#E5ECF6",
            "gridcolor": "white",
            "gridwidth": 2,
            "linecolor": "white",
            "showbackground": true,
            "ticks": "",
            "zerolinecolor": "white"
           }
          },
          "shapedefaults": {
           "line": {
            "color": "#2a3f5f"
           }
          },
          "ternary": {
           "aaxis": {
            "gridcolor": "white",
            "linecolor": "white",
            "ticks": ""
           },
           "baxis": {
            "gridcolor": "white",
            "linecolor": "white",
            "ticks": ""
           },
           "bgcolor": "#E5ECF6",
           "caxis": {
            "gridcolor": "white",
            "linecolor": "white",
            "ticks": ""
           }
          },
          "title": {
           "x": 0.05
          },
          "xaxis": {
           "automargin": true,
           "gridcolor": "white",
           "linecolor": "white",
           "ticks": "",
           "title": {
            "standoff": 15
           },
           "zerolinecolor": "white",
           "zerolinewidth": 2
          },
          "yaxis": {
           "automargin": true,
           "gridcolor": "white",
           "linecolor": "white",
           "ticks": "",
           "title": {
            "standoff": 15
           },
           "zerolinecolor": "white",
           "zerolinewidth": 2
          }
         }
        }
       }
      }
     },
     "metadata": {},
     "output_type": "display_data"
    }
   ],
   "source": [
    "px.pie(data_frame = rooms, names = rooms.index, values = rooms.values)"
   ]
  },
  {
   "cell_type": "markdown",
   "id": "0012e1f5",
   "metadata": {},
   "source": [
    "As we can see clearly room 3 and room 2 have been used most for rent compared to other rooms."
   ]
  },
  {
   "cell_type": "code",
   "execution_count": 44,
   "id": "f1fcdd5a",
   "metadata": {},
   "outputs": [
    {
     "data": {
      "application/vnd.plotly.v1+json": {
       "config": {
        "plotlyServerURL": "https://plot.ly"
       },
       "data": [
        {
         "alignmentgroup": "True",
         "bingroup": "x",
         "hovertemplate": "area=%{x}<br>count=%{y}<extra></extra>",
         "legendgroup": "",
         "marker": {
          "color": "#636efa",
          "pattern": {
           "shape": ""
          }
         },
         "name": "",
         "offsetgroup": "",
         "orientation": "v",
         "showlegend": false,
         "type": "histogram",
         "x": [
          1571.398,
          753.41,
          505.861,
          861.04,
          839.514,
          1259.271,
          613.491,
          1345.375,
          1291.56,
          893.329,
          591.965,
          1076.3,
          699.595,
          441.283,
          957.907,
          1130.115,
          990.196,
          645.78,
          591.965,
          581.202,
          484.335,
          1076.3,
          1076.3,
          1076.3,
          936.381,
          430.52,
          591.965,
          807.225,
          774.936,
          979.433,
          1183.93,
          742.647,
          1668.2649999999999,
          1571.398,
          505.861,
          861.04,
          839.514,
          1259.271,
          613.491,
          1345.375,
          1291.56,
          893.329,
          591.965,
          1076.3,
          699.595,
          441.283,
          957.907,
          1130.115,
          990.196,
          645.78,
          591.965,
          581.202,
          484.335,
          1076.3,
          1076.3,
          1076.3,
          936.381,
          430.52,
          591.965,
          807.225,
          774.936,
          979.433,
          1183.93,
          742.647,
          1571.398,
          753.41,
          505.861,
          861.04,
          839.514,
          1259.271,
          613.491,
          1345.375,
          1291.56,
          893.329,
          591.965,
          1076.3,
          699.595,
          441.283,
          957.907,
          1130.115,
          990.196,
          645.78,
          591.965,
          581.202,
          484.335,
          1076.3,
          1076.3,
          1076.3,
          936.381,
          430.52,
          591.965,
          807.225,
          774.936,
          979.433,
          1183.93,
          742.647,
          1291.56,
          753.41,
          505.861,
          861.04,
          839.514,
          1259.271,
          613.491,
          1345.375,
          1291.56,
          893.329,
          591.965,
          1076.3,
          699.595,
          441.283,
          957.907,
          1130.115,
          990.196,
          645.78,
          591.965,
          581.202,
          484.335,
          1076.3,
          1076.3,
          1076.3,
          936.381,
          430.52,
          591.965,
          807.225,
          774.936,
          979.433,
          1183.93,
          742.647,
          1571.398,
          1291.56,
          505.861,
          861.04,
          839.514,
          1259.271,
          613.491,
          1345.375,
          1291.56,
          893.329,
          591.965,
          1076.3,
          699.595,
          441.283,
          957.907,
          1130.115,
          990.196,
          645.78,
          591.965,
          581.202,
          484.335,
          1076.3,
          1076.3,
          1076.3,
          936.381,
          430.52,
          591.965,
          807.225,
          774.936,
          979.433,
          1183.93,
          742.647,
          1571.398,
          1668.2649999999999,
          505.861,
          861.04,
          839.514,
          1259.271,
          613.491,
          1345.375,
          1291.56,
          893.329,
          591.965,
          1076.3,
          699.595,
          441.283,
          957.907,
          1130.115,
          990.196,
          645.78,
          591.965,
          581.202,
          484.335,
          1076.3,
          1076.3,
          1076.3,
          936.381,
          430.52,
          591.965,
          807.225,
          774.936,
          979.433,
          1183.93,
          742.647,
          1291.56,
          1571.398,
          505.861,
          861.04,
          839.514,
          1259.271,
          613.491,
          1345.375,
          1291.56,
          893.329,
          591.965,
          1076.3,
          699.595,
          441.283,
          957.907,
          1130.115,
          990.196,
          645.78,
          591.965,
          581.202,
          484.335,
          1076.3,
          1076.3,
          1076.3,
          936.381,
          430.52,
          591.965,
          807.225,
          774.936,
          979.433,
          1183.93,
          742.647,
          753.41,
          1291.56,
          505.861,
          861.04,
          839.514,
          1259.271,
          613.491,
          1345.375,
          1291.56,
          893.329,
          591.965,
          1076.3,
          699.595,
          441.283,
          957.907,
          1130.115,
          990.196,
          645.78,
          591.965,
          581.202,
          484.335,
          1076.3,
          1076.3,
          1076.3,
          936.381,
          430.52,
          591.965,
          807.225,
          774.936,
          979.433,
          1183.93,
          742.647,
          1668.2649999999999,
          753.41,
          505.861,
          861.04,
          839.514,
          1259.271,
          613.491,
          1345.375,
          1291.56,
          893.329,
          591.965,
          1076.3,
          699.595,
          441.283,
          957.907,
          1130.115,
          990.196,
          645.78,
          591.965,
          581.202,
          484.335,
          1076.3,
          1076.3,
          1076.3,
          936.381,
          430.52,
          591.965,
          807.225,
          774.936,
          979.433,
          1183.93,
          742.647
         ],
         "xaxis": "x",
         "yaxis": "y"
        }
       ],
       "layout": {
        "barmode": "relative",
        "legend": {
         "tracegroupgap": 0
        },
        "margin": {
         "t": 60
        },
        "template": {
         "data": {
          "bar": [
           {
            "error_x": {
             "color": "#2a3f5f"
            },
            "error_y": {
             "color": "#2a3f5f"
            },
            "marker": {
             "line": {
              "color": "#E5ECF6",
              "width": 0.5
             },
             "pattern": {
              "fillmode": "overlay",
              "size": 10,
              "solidity": 0.2
             }
            },
            "type": "bar"
           }
          ],
          "barpolar": [
           {
            "marker": {
             "line": {
              "color": "#E5ECF6",
              "width": 0.5
             },
             "pattern": {
              "fillmode": "overlay",
              "size": 10,
              "solidity": 0.2
             }
            },
            "type": "barpolar"
           }
          ],
          "carpet": [
           {
            "aaxis": {
             "endlinecolor": "#2a3f5f",
             "gridcolor": "white",
             "linecolor": "white",
             "minorgridcolor": "white",
             "startlinecolor": "#2a3f5f"
            },
            "baxis": {
             "endlinecolor": "#2a3f5f",
             "gridcolor": "white",
             "linecolor": "white",
             "minorgridcolor": "white",
             "startlinecolor": "#2a3f5f"
            },
            "type": "carpet"
           }
          ],
          "choropleth": [
           {
            "colorbar": {
             "outlinewidth": 0,
             "ticks": ""
            },
            "type": "choropleth"
           }
          ],
          "contour": [
           {
            "colorbar": {
             "outlinewidth": 0,
             "ticks": ""
            },
            "colorscale": [
             [
              0,
              "#0d0887"
             ],
             [
              0.1111111111111111,
              "#46039f"
             ],
             [
              0.2222222222222222,
              "#7201a8"
             ],
             [
              0.3333333333333333,
              "#9c179e"
             ],
             [
              0.4444444444444444,
              "#bd3786"
             ],
             [
              0.5555555555555556,
              "#d8576b"
             ],
             [
              0.6666666666666666,
              "#ed7953"
             ],
             [
              0.7777777777777778,
              "#fb9f3a"
             ],
             [
              0.8888888888888888,
              "#fdca26"
             ],
             [
              1,
              "#f0f921"
             ]
            ],
            "type": "contour"
           }
          ],
          "contourcarpet": [
           {
            "colorbar": {
             "outlinewidth": 0,
             "ticks": ""
            },
            "type": "contourcarpet"
           }
          ],
          "heatmap": [
           {
            "colorbar": {
             "outlinewidth": 0,
             "ticks": ""
            },
            "colorscale": [
             [
              0,
              "#0d0887"
             ],
             [
              0.1111111111111111,
              "#46039f"
             ],
             [
              0.2222222222222222,
              "#7201a8"
             ],
             [
              0.3333333333333333,
              "#9c179e"
             ],
             [
              0.4444444444444444,
              "#bd3786"
             ],
             [
              0.5555555555555556,
              "#d8576b"
             ],
             [
              0.6666666666666666,
              "#ed7953"
             ],
             [
              0.7777777777777778,
              "#fb9f3a"
             ],
             [
              0.8888888888888888,
              "#fdca26"
             ],
             [
              1,
              "#f0f921"
             ]
            ],
            "type": "heatmap"
           }
          ],
          "heatmapgl": [
           {
            "colorbar": {
             "outlinewidth": 0,
             "ticks": ""
            },
            "colorscale": [
             [
              0,
              "#0d0887"
             ],
             [
              0.1111111111111111,
              "#46039f"
             ],
             [
              0.2222222222222222,
              "#7201a8"
             ],
             [
              0.3333333333333333,
              "#9c179e"
             ],
             [
              0.4444444444444444,
              "#bd3786"
             ],
             [
              0.5555555555555556,
              "#d8576b"
             ],
             [
              0.6666666666666666,
              "#ed7953"
             ],
             [
              0.7777777777777778,
              "#fb9f3a"
             ],
             [
              0.8888888888888888,
              "#fdca26"
             ],
             [
              1,
              "#f0f921"
             ]
            ],
            "type": "heatmapgl"
           }
          ],
          "histogram": [
           {
            "marker": {
             "pattern": {
              "fillmode": "overlay",
              "size": 10,
              "solidity": 0.2
             }
            },
            "type": "histogram"
           }
          ],
          "histogram2d": [
           {
            "colorbar": {
             "outlinewidth": 0,
             "ticks": ""
            },
            "colorscale": [
             [
              0,
              "#0d0887"
             ],
             [
              0.1111111111111111,
              "#46039f"
             ],
             [
              0.2222222222222222,
              "#7201a8"
             ],
             [
              0.3333333333333333,
              "#9c179e"
             ],
             [
              0.4444444444444444,
              "#bd3786"
             ],
             [
              0.5555555555555556,
              "#d8576b"
             ],
             [
              0.6666666666666666,
              "#ed7953"
             ],
             [
              0.7777777777777778,
              "#fb9f3a"
             ],
             [
              0.8888888888888888,
              "#fdca26"
             ],
             [
              1,
              "#f0f921"
             ]
            ],
            "type": "histogram2d"
           }
          ],
          "histogram2dcontour": [
           {
            "colorbar": {
             "outlinewidth": 0,
             "ticks": ""
            },
            "colorscale": [
             [
              0,
              "#0d0887"
             ],
             [
              0.1111111111111111,
              "#46039f"
             ],
             [
              0.2222222222222222,
              "#7201a8"
             ],
             [
              0.3333333333333333,
              "#9c179e"
             ],
             [
              0.4444444444444444,
              "#bd3786"
             ],
             [
              0.5555555555555556,
              "#d8576b"
             ],
             [
              0.6666666666666666,
              "#ed7953"
             ],
             [
              0.7777777777777778,
              "#fb9f3a"
             ],
             [
              0.8888888888888888,
              "#fdca26"
             ],
             [
              1,
              "#f0f921"
             ]
            ],
            "type": "histogram2dcontour"
           }
          ],
          "mesh3d": [
           {
            "colorbar": {
             "outlinewidth": 0,
             "ticks": ""
            },
            "type": "mesh3d"
           }
          ],
          "parcoords": [
           {
            "line": {
             "colorbar": {
              "outlinewidth": 0,
              "ticks": ""
             }
            },
            "type": "parcoords"
           }
          ],
          "pie": [
           {
            "automargin": true,
            "type": "pie"
           }
          ],
          "scatter": [
           {
            "fillpattern": {
             "fillmode": "overlay",
             "size": 10,
             "solidity": 0.2
            },
            "type": "scatter"
           }
          ],
          "scatter3d": [
           {
            "line": {
             "colorbar": {
              "outlinewidth": 0,
              "ticks": ""
             }
            },
            "marker": {
             "colorbar": {
              "outlinewidth": 0,
              "ticks": ""
             }
            },
            "type": "scatter3d"
           }
          ],
          "scattercarpet": [
           {
            "marker": {
             "colorbar": {
              "outlinewidth": 0,
              "ticks": ""
             }
            },
            "type": "scattercarpet"
           }
          ],
          "scattergeo": [
           {
            "marker": {
             "colorbar": {
              "outlinewidth": 0,
              "ticks": ""
             }
            },
            "type": "scattergeo"
           }
          ],
          "scattergl": [
           {
            "marker": {
             "colorbar": {
              "outlinewidth": 0,
              "ticks": ""
             }
            },
            "type": "scattergl"
           }
          ],
          "scattermapbox": [
           {
            "marker": {
             "colorbar": {
              "outlinewidth": 0,
              "ticks": ""
             }
            },
            "type": "scattermapbox"
           }
          ],
          "scatterpolar": [
           {
            "marker": {
             "colorbar": {
              "outlinewidth": 0,
              "ticks": ""
             }
            },
            "type": "scatterpolar"
           }
          ],
          "scatterpolargl": [
           {
            "marker": {
             "colorbar": {
              "outlinewidth": 0,
              "ticks": ""
             }
            },
            "type": "scatterpolargl"
           }
          ],
          "scatterternary": [
           {
            "marker": {
             "colorbar": {
              "outlinewidth": 0,
              "ticks": ""
             }
            },
            "type": "scatterternary"
           }
          ],
          "surface": [
           {
            "colorbar": {
             "outlinewidth": 0,
             "ticks": ""
            },
            "colorscale": [
             [
              0,
              "#0d0887"
             ],
             [
              0.1111111111111111,
              "#46039f"
             ],
             [
              0.2222222222222222,
              "#7201a8"
             ],
             [
              0.3333333333333333,
              "#9c179e"
             ],
             [
              0.4444444444444444,
              "#bd3786"
             ],
             [
              0.5555555555555556,
              "#d8576b"
             ],
             [
              0.6666666666666666,
              "#ed7953"
             ],
             [
              0.7777777777777778,
              "#fb9f3a"
             ],
             [
              0.8888888888888888,
              "#fdca26"
             ],
             [
              1,
              "#f0f921"
             ]
            ],
            "type": "surface"
           }
          ],
          "table": [
           {
            "cells": {
             "fill": {
              "color": "#EBF0F8"
             },
             "line": {
              "color": "white"
             }
            },
            "header": {
             "fill": {
              "color": "#C8D4E3"
             },
             "line": {
              "color": "white"
             }
            },
            "type": "table"
           }
          ]
         },
         "layout": {
          "annotationdefaults": {
           "arrowcolor": "#2a3f5f",
           "arrowhead": 0,
           "arrowwidth": 1
          },
          "autotypenumbers": "strict",
          "coloraxis": {
           "colorbar": {
            "outlinewidth": 0,
            "ticks": ""
           }
          },
          "colorscale": {
           "diverging": [
            [
             0,
             "#8e0152"
            ],
            [
             0.1,
             "#c51b7d"
            ],
            [
             0.2,
             "#de77ae"
            ],
            [
             0.3,
             "#f1b6da"
            ],
            [
             0.4,
             "#fde0ef"
            ],
            [
             0.5,
             "#f7f7f7"
            ],
            [
             0.6,
             "#e6f5d0"
            ],
            [
             0.7,
             "#b8e186"
            ],
            [
             0.8,
             "#7fbc41"
            ],
            [
             0.9,
             "#4d9221"
            ],
            [
             1,
             "#276419"
            ]
           ],
           "sequential": [
            [
             0,
             "#0d0887"
            ],
            [
             0.1111111111111111,
             "#46039f"
            ],
            [
             0.2222222222222222,
             "#7201a8"
            ],
            [
             0.3333333333333333,
             "#9c179e"
            ],
            [
             0.4444444444444444,
             "#bd3786"
            ],
            [
             0.5555555555555556,
             "#d8576b"
            ],
            [
             0.6666666666666666,
             "#ed7953"
            ],
            [
             0.7777777777777778,
             "#fb9f3a"
            ],
            [
             0.8888888888888888,
             "#fdca26"
            ],
            [
             1,
             "#f0f921"
            ]
           ],
           "sequentialminus": [
            [
             0,
             "#0d0887"
            ],
            [
             0.1111111111111111,
             "#46039f"
            ],
            [
             0.2222222222222222,
             "#7201a8"
            ],
            [
             0.3333333333333333,
             "#9c179e"
            ],
            [
             0.4444444444444444,
             "#bd3786"
            ],
            [
             0.5555555555555556,
             "#d8576b"
            ],
            [
             0.6666666666666666,
             "#ed7953"
            ],
            [
             0.7777777777777778,
             "#fb9f3a"
            ],
            [
             0.8888888888888888,
             "#fdca26"
            ],
            [
             1,
             "#f0f921"
            ]
           ]
          },
          "colorway": [
           "#636efa",
           "#EF553B",
           "#00cc96",
           "#ab63fa",
           "#FFA15A",
           "#19d3f3",
           "#FF6692",
           "#B6E880",
           "#FF97FF",
           "#FECB52"
          ],
          "font": {
           "color": "#2a3f5f"
          },
          "geo": {
           "bgcolor": "white",
           "lakecolor": "white",
           "landcolor": "#E5ECF6",
           "showlakes": true,
           "showland": true,
           "subunitcolor": "white"
          },
          "hoverlabel": {
           "align": "left"
          },
          "hovermode": "closest",
          "mapbox": {
           "style": "light"
          },
          "paper_bgcolor": "white",
          "plot_bgcolor": "#E5ECF6",
          "polar": {
           "angularaxis": {
            "gridcolor": "white",
            "linecolor": "white",
            "ticks": ""
           },
           "bgcolor": "#E5ECF6",
           "radialaxis": {
            "gridcolor": "white",
            "linecolor": "white",
            "ticks": ""
           }
          },
          "scene": {
           "xaxis": {
            "backgroundcolor": "#E5ECF6",
            "gridcolor": "white",
            "gridwidth": 2,
            "linecolor": "white",
            "showbackground": true,
            "ticks": "",
            "zerolinecolor": "white"
           },
           "yaxis": {
            "backgroundcolor": "#E5ECF6",
            "gridcolor": "white",
            "gridwidth": 2,
            "linecolor": "white",
            "showbackground": true,
            "ticks": "",
            "zerolinecolor": "white"
           },
           "zaxis": {
            "backgroundcolor": "#E5ECF6",
            "gridcolor": "white",
            "gridwidth": 2,
            "linecolor": "white",
            "showbackground": true,
            "ticks": "",
            "zerolinecolor": "white"
           }
          },
          "shapedefaults": {
           "line": {
            "color": "#2a3f5f"
           }
          },
          "ternary": {
           "aaxis": {
            "gridcolor": "white",
            "linecolor": "white",
            "ticks": ""
           },
           "baxis": {
            "gridcolor": "white",
            "linecolor": "white",
            "ticks": ""
           },
           "bgcolor": "#E5ECF6",
           "caxis": {
            "gridcolor": "white",
            "linecolor": "white",
            "ticks": ""
           }
          },
          "title": {
           "x": 0.05
          },
          "xaxis": {
           "automargin": true,
           "gridcolor": "white",
           "linecolor": "white",
           "ticks": "",
           "title": {
            "standoff": 15
           },
           "zerolinecolor": "white",
           "zerolinewidth": 2
          },
          "yaxis": {
           "automargin": true,
           "gridcolor": "white",
           "linecolor": "white",
           "ticks": "",
           "title": {
            "standoff": 15
           },
           "zerolinecolor": "white",
           "zerolinewidth": 2
          }
         }
        },
        "xaxis": {
         "anchor": "y",
         "domain": [
          0,
          1
         ],
         "title": {
          "text": "area"
         }
        },
        "yaxis": {
         "anchor": "x",
         "domain": [
          0,
          1
         ],
         "title": {
          "text": "count"
         }
        }
       }
      }
     },
     "metadata": {},
     "output_type": "display_data"
    }
   ],
   "source": [
    "px.histogram(final_df,x = 'area')"
   ]
  },
  {
   "cell_type": "markdown",
   "id": "0a13c3c4",
   "metadata": {},
   "source": [
    "Here we get that area from 500- 599.9 have been used most."
   ]
  },
  {
   "cell_type": "code",
   "execution_count": 45,
   "id": "1b73f160",
   "metadata": {},
   "outputs": [
    {
     "data": {
      "image/png": "[encoded data removed]",
      "text/plain": [
       "<Figure size 585.25x500 with 6 Axes>"
      ]
     },
     "metadata": {},
     "output_type": "display_data"
    }
   ],
   "source": [
    "sns.pairplot(final_df, hue = 'price', markers = 'o')\n",
    "plt.show()"
   ]
  },
  {
   "cell_type": "code",
   "execution_count": 46,
   "id": "9bd0907e",
   "metadata": {},
   "outputs": [
    {
     "data": {
      "image/png": "[encoded data removed]",
      "text/plain": [
       "<Figure size 640x480 with 2 Axes>"
      ]
     },
     "metadata": {},
     "output_type": "display_data"
    }
   ],
   "source": [
    "sns.heatmap(final_df.corr(), annot = True, cmap= 'viridis')\n",
    "plt.show()"
   ]
  },
  {
   "cell_type": "markdown",
   "id": "8d6a29a7",
   "metadata": {},
   "source": [
    "As we can here price and area are highly correlated with each other."
   ]
  },
  {
   "cell_type": "code",
   "execution_count": 47,
   "id": "8bd2bfac",
   "metadata": {},
   "outputs": [
    {
     "data": {
      "text/plain": [
       "<AxesSubplot: xlabel='rooms', ylabel='price'>"
      ]
     },
     "execution_count": 47,
     "metadata": {},
     "output_type": "execute_result"
    },
    {
     "data": {
      "image/png": "[encoded data removed]",
      "text/plain": [
       "<Figure size 640x480 with 1 Axes>"
      ]
     },
     "metadata": {},
     "output_type": "display_data"
    }
   ],
   "source": [
    "sns.boxplot(data=final_df, x=\"rooms\", y=\"price\")"
   ]
  },
  {
   "cell_type": "markdown",
   "id": "09a44fff",
   "metadata": {},
   "source": [
    "Here we can that there is no outlier present in our rooms feature."
   ]
  },
  {
   "cell_type": "code",
   "execution_count": 48,
   "id": "73fc94e2",
   "metadata": {},
   "outputs": [
    {
     "data": {
      "text/plain": [
       "<AxesSubplot: xlabel='area', ylabel='price'>"
      ]
     },
     "execution_count": 48,
     "metadata": {},
     "output_type": "execute_result"
    },
    {
     "data": {
      "image/png": "[encoded data removed]",
      "text/plain": [
       "<Figure size 2500x1200 with 1 Axes>"
      ]
     },
     "metadata": {},
     "output_type": "display_data"
    }
   ],
   "source": [
    "plt.figure(figsize = (25,12))\n",
    "sns.boxplot(data=final_df, x=\"area\", y=\"price\")"
   ]
  },
  {
   "cell_type": "markdown",
   "id": "01d57643",
   "metadata": {},
   "source": [
    "Here we can see that there is no outlier present in area feature."
   ]
  },
  {
   "cell_type": "markdown",
   "id": "8248123e",
   "metadata": {},
   "source": [
    "# Train test split."
   ]
  },
  {
   "cell_type": "code",
   "execution_count": 50,
   "id": "8d78209a",
   "metadata": {},
   "outputs": [
    {
     "name": "stdout",
     "output_type": "stream",
     "text": [
      "Shape of x : (288, 2)\n",
      "Shape of y : (288,)\n"
     ]
    }
   ],
   "source": [
    "x = final_df[['area','rooms']]\n",
    "y = final_df['price']\n",
    "\n",
    "X = x.values.reshape(-1,1)\n",
    "\n",
    "print(\"Shape of x :\", x.shape)\n",
    "print(\"Shape of y :\", y.shape)"
   ]
  },
  {
   "cell_type": "markdown",
   "id": "809341f0",
   "metadata": {},
   "source": [
    "Here we are parting our output from input and storing it in different variable."
   ]
  },
  {
   "cell_type": "code",
   "execution_count": 51,
   "id": "e1e1e562",
   "metadata": {},
   "outputs": [
    {
     "name": "stdout",
     "output_type": "stream",
     "text": [
      "Shape of x_train : (192, 2)\n",
      "Shape of x_test : (96, 2)\n",
      "Shape of y_train : (192,)\n",
      "Shape of y_test : (96,)\n"
     ]
    }
   ],
   "source": [
    "from sklearn.model_selection import train_test_split\n",
    "\n",
    "X_train, X_test, y_train, y_test = train_test_split(x, y, test_size = 0.33, random_state = 42)\n",
    "\n",
    "print(\"Shape of x_train :\", X_train.shape)\n",
    "print(\"Shape of x_test :\", X_test.shape)\n",
    "print(\"Shape of y_train :\", y_train.shape)\n",
    "print(\"Shape of y_test :\", y_test.shape)"
   ]
  },
  {
   "cell_type": "markdown",
   "id": "46709ee9",
   "metadata": {},
   "source": [
    "Here we are training, testing and splitting  our x an y data."
   ]
  },
  {
   "cell_type": "markdown",
   "id": "46e4a176",
   "metadata": {},
   "source": [
    "# Using Standardization."
   ]
  },
  {
   "cell_type": "code",
   "execution_count": 66,
   "id": "51dab5cd",
   "metadata": {},
   "outputs": [
    {
     "data": {
      "text/plain": [
       "array([[-1.48446132, -1.11175181],\n",
       "       [ 0.33882792,  0.31129051],\n",
       "       [ 2.67263815,  4.58041746],\n",
       "       [-0.97394034, -1.11175181],\n",
       "       [ 0.66701998,  0.31129051],\n",
       "       [ 0.04710164,  0.31129051],\n",
       "       [ 0.26589635,  0.31129051],\n",
       "       [-0.60928249,  0.31129051],\n",
       "       [-1.48446132, -1.11175181],\n",
       "       [-0.06229572,  0.31129051],\n",
       "       [ 1.03167783,  1.73433283],\n",
       "       [ 2.34444608,  0.31129051],\n",
       "       [-1.33859819, -1.11175181],\n",
       "       [ 0.66701998,  0.31129051],\n",
       "       [ 0.19296478,  0.31129051],\n",
       "       [ 0.19296478,  0.31129051],\n",
       "       [ 1.28693832,  3.15737514],\n",
       "       [-0.42695356,  0.31129051],\n",
       "       [-1.48446132, -1.11175181],\n",
       "       [ 0.66701998,  0.31129051],\n",
       "       [ 0.66701998,  0.31129051],\n",
       "       [-1.33859819, -1.11175181],\n",
       "       [-0.79161141, -1.11175181],\n",
       "       [ 1.03167783,  1.73433283],\n",
       "       [ 0.04710164,  0.31129051],\n",
       "       [-0.97394034, -1.11175181],\n",
       "       [-0.60928249,  0.31129051],\n",
       "       [-1.01040612,  0.31129051],\n",
       "       [ 0.84934891,  0.31129051],\n",
       "       [-0.35402199,  0.31129051],\n",
       "       [ 1.28693832,  3.15737514],\n",
       "       [-1.52092711, -1.11175181],\n",
       "       [-0.97394034, -1.11175181],\n",
       "       [-0.60928249,  0.31129051],\n",
       "       [ 0.66701998,  0.31129051],\n",
       "       [ 1.39633568, -1.11175181],\n",
       "       [ 1.5786646 ,  0.31129051],\n",
       "       [ 0.84934891,  0.31129051],\n",
       "       [-0.97394034, -1.11175181],\n",
       "       [ 0.66701998,  0.31129051],\n",
       "       [ 1.28693832,  3.15737514],\n",
       "       [ 1.03167783,  1.73433283],\n",
       "       [-0.24462464,  0.31129051],\n",
       "       [-0.13522729,  0.31129051],\n",
       "       [ 1.03167783,  1.73433283],\n",
       "       [ 0.66701998,  0.31129051],\n",
       "       [ 0.19296478,  0.31129051],\n",
       "       [ 1.03167783,  1.73433283],\n",
       "       [ 0.3752937 ,  0.31129051],\n",
       "       [ 1.5786646 ,  0.31129051],\n",
       "       [ 0.84934891,  0.31129051],\n",
       "       [ 0.33882792,  0.31129051],\n",
       "       [-0.42695356,  0.31129051],\n",
       "       [ 0.84934891,  0.31129051],\n",
       "       [-1.48446132, -1.11175181],\n",
       "       [-1.01040612,  0.31129051],\n",
       "       [ 0.66701998,  0.31129051],\n",
       "       [-0.90100877, -1.11175181],\n",
       "       [ 0.33882792,  0.31129051],\n",
       "       [-1.26566662, -1.11175181],\n",
       "       [-0.46341935,  0.31129051],\n",
       "       [ 0.84934891,  0.31129051],\n",
       "       [-1.52092711, -1.11175181],\n",
       "       [-1.26566662, -1.11175181],\n",
       "       [-0.97394034, -1.11175181],\n",
       "       [-0.46341935,  0.31129051],\n",
       "       [-1.01040612,  0.31129051],\n",
       "       [ 0.19296478,  0.31129051],\n",
       "       [-0.35402199,  0.31129051],\n",
       "       [ 0.84934891,  0.31129051],\n",
       "       [-0.97394034, -1.11175181],\n",
       "       [ 0.26589635,  0.31129051],\n",
       "       [-0.13522729,  0.31129051],\n",
       "       [-0.60928249,  0.31129051],\n",
       "       [ 1.28693832,  3.15737514],\n",
       "       [ 0.3752937 ,  0.31129051],\n",
       "       [ 0.66701998,  0.31129051],\n",
       "       [-0.97394034, -1.11175181],\n",
       "       [-0.13522729,  0.31129051],\n",
       "       [-0.06229572,  0.31129051],\n",
       "       [-0.97394034, -1.11175181],\n",
       "       [ 0.66701998,  0.31129051],\n",
       "       [-0.79161141, -1.11175181],\n",
       "       [-1.48446132, -1.11175181],\n",
       "       [-0.60928249,  0.31129051],\n",
       "       [-0.97394034, -1.11175181],\n",
       "       [-0.97394034, -1.11175181],\n",
       "       [ 1.39633568, -1.11175181],\n",
       "       [ 0.66701998,  0.31129051],\n",
       "       [-0.46341935,  0.31129051],\n",
       "       [-1.33859819, -1.11175181],\n",
       "       [ 0.3752937 ,  0.31129051],\n",
       "       [ 0.33882792,  0.31129051],\n",
       "       [-0.97394034, -1.11175181],\n",
       "       [ 0.66701998,  0.31129051],\n",
       "       [-0.35402199,  0.31129051]])"
      ]
     },
     "execution_count": 66,
     "metadata": {},
     "output_type": "execute_result"
    }
   ],
   "source": [
    "from sklearn.preprocessing import StandardScaler\n",
    "\n",
    "sc = StandardScaler()\n",
    "sc.fit_transform(X_train)\n",
    "sc.transform(X_test)"
   ]
  },
  {
   "cell_type": "markdown",
   "id": "e369d4ac",
   "metadata": {},
   "source": [
    "# KNN Algorithm"
   ]
  },
  {
   "cell_type": "code",
   "execution_count": 67,
   "id": "82917241",
   "metadata": {},
   "outputs": [],
   "source": [
    "from sklearn.neighbors import KNeighborsClassifier"
   ]
  },
  {
   "cell_type": "code",
   "execution_count": 68,
   "id": "0729a0d0",
   "metadata": {},
   "outputs": [
    {
     "data": {
      "text/html": [
       "<style>#sk-container-id-1 {color: black;background-color: white;}#sk-container-id-1 pre{padding: 0;}#sk-container-id-1 div.sk-toggleable {background-color: white;}#sk-container-id-1 label.sk-toggleable__label {cursor: pointer;display: block;width: 100%;margin-bottom: 0;padding: 0.3em;box-sizing: border-box;text-align: center;}#sk-container-id-1 label.sk-toggleable__label-arrow:before {content: \"▸\";float: left;margin-right: 0.25em;color: #696969;}#sk-container-id-1 label.sk-toggleable__label-arrow:hover:before {color: black;}#sk-container-id-1 div.sk-estimator:hover label.sk-toggleable__label-arrow:before {color: black;}#sk-container-id-1 div.sk-toggleable__content {max-height: 0;max-width: 0;overflow: hidden;text-align: left;background-color: #f0f8ff;}#sk-container-id-1 div.sk-toggleable__content pre {margin: 0.2em;color: black;border-radius: 0.25em;background-color: #f0f8ff;}#sk-container-id-1 input.sk-toggleable__control:checked~div.sk-toggleable__content {max-height: 200px;max-width: 100%;overflow: auto;}#sk-container-id-1 input.sk-toggleable__control:checked~label.sk-toggleable__label-arrow:before {content: \"▾\";}#sk-container-id-1 div.sk-estimator input.sk-toggleable__control:checked~label.sk-toggleable__label {background-color: #d4ebff;}#sk-container-id-1 div.sk-label input.sk-toggleable__control:checked~label.sk-toggleable__label {background-color: #d4ebff;}#sk-container-id-1 input.sk-hidden--visually {border: 0;clip: rect(1px 1px 1px 1px);clip: rect(1px, 1px, 1px, 1px);height: 1px;margin: -1px;overflow: hidden;padding: 0;position: absolute;width: 1px;}#sk-container-id-1 div.sk-estimator {font-family: monospace;background-color: #f0f8ff;border: 1px dotted black;border-radius: 0.25em;box-sizing: border-box;margin-bottom: 0.5em;}#sk-container-id-1 div.sk-estimator:hover {background-color: #d4ebff;}#sk-container-id-1 div.sk-parallel-item::after {content: \"\";width: 100%;border-bottom: 1px solid gray;flex-grow: 1;}#sk-container-id-1 div.sk-label:hover label.sk-toggleable__label {background-color: #d4ebff;}#sk-container-id-1 div.sk-serial::before {content: \"\";position: absolute;border-left: 1px solid gray;box-sizing: border-box;top: 0;bottom: 0;left: 50%;z-index: 0;}#sk-container-id-1 div.sk-serial {display: flex;flex-direction: column;align-items: center;background-color: white;padding-right: 0.2em;padding-left: 0.2em;position: relative;}#sk-container-id-1 div.sk-item {position: relative;z-index: 1;}#sk-container-id-1 div.sk-parallel {display: flex;align-items: stretch;justify-content: center;background-color: white;position: relative;}#sk-container-id-1 div.sk-item::before, #sk-container-id-1 div.sk-parallel-item::before {content: \"\";position: absolute;border-left: 1px solid gray;box-sizing: border-box;top: 0;bottom: 0;left: 50%;z-index: -1;}#sk-container-id-1 div.sk-parallel-item {display: flex;flex-direction: column;z-index: 1;position: relative;background-color: white;}#sk-container-id-1 div.sk-parallel-item:first-child::after {align-self: flex-end;width: 50%;}#sk-container-id-1 div.sk-parallel-item:last-child::after {align-self: flex-start;width: 50%;}#sk-container-id-1 div.sk-parallel-item:only-child::after {width: 0;}#sk-container-id-1 div.sk-dashed-wrapped {border: 1px dashed gray;margin: 0 0.4em 0.5em 0.4em;box-sizing: border-box;padding-bottom: 0.4em;background-color: white;}#sk-container-id-1 div.sk-label label {font-family: monospace;font-weight: bold;display: inline-block;line-height: 1.2em;}#sk-container-id-1 div.sk-label-container {text-align: center;}#sk-container-id-1 div.sk-container {/* jupyter's `normalize.less` sets `[hidden] { display: none; }` but bootstrap.min.css set `[hidden] { display: none !important; }` so we also need the `!important` here to be able to override the default hidden behavior on the sphinx rendered scikit-learn.org. See: https://github.com/scikit-learn/scikit-learn/issues/21755 */display: inline-block !important;position: relative;}#sk-container-id-1 div.sk-text-repr-fallback {display: none;}</style><div id=\"sk-container-id-1\" class=\"sk-top-container\"><div class=\"sk-text-repr-fallback\"><pre>KNeighborsClassifier()</pre><b>In a Jupyter environment, please rerun this cell to show the HTML representation or trust the notebook. <br />On GitHub, the HTML representation is unable to render, please try loading this page with nbviewer.org.</b></div><div class=\"sk-container\" hidden><div class=\"sk-item\"><div class=\"sk-estimator sk-toggleable\"><input class=\"sk-toggleable__control sk-hidden--visually\" id=\"sk-estimator-id-1\" type=\"checkbox\" checked><label for=\"sk-estimator-id-1\" class=\"sk-toggleable__label sk-toggleable__label-arrow\">KNeighborsClassifier</label><div class=\"sk-toggleable__content\"><pre>KNeighborsClassifier()</pre></div></div></div></div></div>"
      ],
      "text/plain": [
       "KNeighborsClassifier()"
      ]
     },
     "execution_count": 68,
     "metadata": {},
     "output_type": "execute_result"
    }
   ],
   "source": [
    "knn = KNeighborsClassifier(n_neighbors=5)\n",
    "knn.fit(X_train, y_train)"
   ]
  },
  {
   "cell_type": "code",
   "execution_count": 69,
   "id": "52570387",
   "metadata": {},
   "outputs": [
    {
     "data": {
      "text/plain": [
       "84.375"
      ]
     },
     "execution_count": 69,
     "metadata": {},
     "output_type": "execute_result"
    }
   ],
   "source": [
    "knn.score(X_test,y_test)*100"
   ]
  },
  {
   "cell_type": "markdown",
   "id": "ef1cf9a0",
   "metadata": {},
   "source": [
    "# KNN Hyperparameter Tuning."
   ]
  },
  {
   "cell_type": "code",
   "execution_count": 70,
   "id": "c42f7294",
   "metadata": {},
   "outputs": [],
   "source": [
    "neighbors = np.arange(1,10)\n",
    "train_accuracy =np.empty(len(neighbors))\n",
    "test_accuracy = np.empty(len(neighbors))"
   ]
  },
  {
   "cell_type": "code",
   "execution_count": 71,
   "id": "76dc5557",
   "metadata": {},
   "outputs": [],
   "source": [
    "for i,k in enumerate(neighbors):\n",
    "         knn = KNeighborsClassifier(n_neighbors=k)\n",
    "knn.fit(X_train, y_train)\n",
    "train_accuracy[i] = knn.score(X_train, y_train)\n",
    "test_accuracy[i] = knn.score(X_test, y_test)"
   ]
  },
  {
   "cell_type": "code",
   "execution_count": 72,
   "id": "cbf9507e",
   "metadata": {},
   "outputs": [
    {
     "data": {
      "image/png": "[encoded data removed]",
      "text/plain": [
       "<Figure size 640x480 with 1 Axes>"
      ]
     },
     "metadata": {},
     "output_type": "display_data"
    }
   ],
   "source": [
    "plt.title('k-NN Varying number of neighbors')\n",
    "plt.plot(neighbors, test_accuracy, label='Testing Accuracy')\n",
    "plt.plot(neighbors, train_accuracy, label='Training accuracy')\n",
    "plt.legend()\n",
    "plt.xlabel('Number of neighbors')\n",
    "plt.ylabel('Accuracy')\n",
    "plt.show()"
   ]
  },
  {
   "cell_type": "markdown",
   "id": "b3b43d92",
   "metadata": {},
   "source": [
    "For k=4 and k=5 our Accuracy is 84.37 which is good."
   ]
  },
  {
   "cell_type": "code",
   "execution_count": 73,
   "id": "b79e628c",
   "metadata": {},
   "outputs": [],
   "source": [
    "knn = KNeighborsClassifier(n_neighbors=4)"
   ]
  },
  {
   "cell_type": "code",
   "execution_count": 74,
   "id": "1dc07d35",
   "metadata": {},
   "outputs": [
    {
     "data": {
      "text/html": [
       "<style>#sk-container-id-2 {color: black;background-color: white;}#sk-container-id-2 pre{padding: 0;}#sk-container-id-2 div.sk-toggleable {background-color: white;}#sk-container-id-2 label.sk-toggleable__label {cursor: pointer;display: block;width: 100%;margin-bottom: 0;padding: 0.3em;box-sizing: border-box;text-align: center;}#sk-container-id-2 label.sk-toggleable__label-arrow:before {content: \"▸\";float: left;margin-right: 0.25em;color: #696969;}#sk-container-id-2 label.sk-toggleable__label-arrow:hover:before {color: black;}#sk-container-id-2 div.sk-estimator:hover label.sk-toggleable__label-arrow:before {color: black;}#sk-container-id-2 div.sk-toggleable__content {max-height: 0;max-width: 0;overflow: hidden;text-align: left;background-color: #f0f8ff;}#sk-container-id-2 div.sk-toggleable__content pre {margin: 0.2em;color: black;border-radius: 0.25em;background-color: #f0f8ff;}#sk-container-id-2 input.sk-toggleable__control:checked~div.sk-toggleable__content {max-height: 200px;max-width: 100%;overflow: auto;}#sk-container-id-2 input.sk-toggleable__control:checked~label.sk-toggleable__label-arrow:before {content: \"▾\";}#sk-container-id-2 div.sk-estimator input.sk-toggleable__control:checked~label.sk-toggleable__label {background-color: #d4ebff;}#sk-container-id-2 div.sk-label input.sk-toggleable__control:checked~label.sk-toggleable__label {background-color: #d4ebff;}#sk-container-id-2 input.sk-hidden--visually {border: 0;clip: rect(1px 1px 1px 1px);clip: rect(1px, 1px, 1px, 1px);height: 1px;margin: -1px;overflow: hidden;padding: 0;position: absolute;width: 1px;}#sk-container-id-2 div.sk-estimator {font-family: monospace;background-color: #f0f8ff;border: 1px dotted black;border-radius: 0.25em;box-sizing: border-box;margin-bottom: 0.5em;}#sk-container-id-2 div.sk-estimator:hover {background-color: #d4ebff;}#sk-container-id-2 div.sk-parallel-item::after {content: \"\";width: 100%;border-bottom: 1px solid gray;flex-grow: 1;}#sk-container-id-2 div.sk-label:hover label.sk-toggleable__label {background-color: #d4ebff;}#sk-container-id-2 div.sk-serial::before {content: \"\";position: absolute;border-left: 1px solid gray;box-sizing: border-box;top: 0;bottom: 0;left: 50%;z-index: 0;}#sk-container-id-2 div.sk-serial {display: flex;flex-direction: column;align-items: center;background-color: white;padding-right: 0.2em;padding-left: 0.2em;position: relative;}#sk-container-id-2 div.sk-item {position: relative;z-index: 1;}#sk-container-id-2 div.sk-parallel {display: flex;align-items: stretch;justify-content: center;background-color: white;position: relative;}#sk-container-id-2 div.sk-item::before, #sk-container-id-2 div.sk-parallel-item::before {content: \"\";position: absolute;border-left: 1px solid gray;box-sizing: border-box;top: 0;bottom: 0;left: 50%;z-index: -1;}#sk-container-id-2 div.sk-parallel-item {display: flex;flex-direction: column;z-index: 1;position: relative;background-color: white;}#sk-container-id-2 div.sk-parallel-item:first-child::after {align-self: flex-end;width: 50%;}#sk-container-id-2 div.sk-parallel-item:last-child::after {align-self: flex-start;width: 50%;}#sk-container-id-2 div.sk-parallel-item:only-child::after {width: 0;}#sk-container-id-2 div.sk-dashed-wrapped {border: 1px dashed gray;margin: 0 0.4em 0.5em 0.4em;box-sizing: border-box;padding-bottom: 0.4em;background-color: white;}#sk-container-id-2 div.sk-label label {font-family: monospace;font-weight: bold;display: inline-block;line-height: 1.2em;}#sk-container-id-2 div.sk-label-container {text-align: center;}#sk-container-id-2 div.sk-container {/* jupyter's `normalize.less` sets `[hidden] { display: none; }` but bootstrap.min.css set `[hidden] { display: none !important; }` so we also need the `!important` here to be able to override the default hidden behavior on the sphinx rendered scikit-learn.org. See: https://github.com/scikit-learn/scikit-learn/issues/21755 */display: inline-block !important;position: relative;}#sk-container-id-2 div.sk-text-repr-fallback {display: none;}</style><div id=\"sk-container-id-2\" class=\"sk-top-container\"><div class=\"sk-text-repr-fallback\"><pre>KNeighborsClassifier(n_neighbors=4)</pre><b>In a Jupyter environment, please rerun this cell to show the HTML representation or trust the notebook. <br />On GitHub, the HTML representation is unable to render, please try loading this page with nbviewer.org.</b></div><div class=\"sk-container\" hidden><div class=\"sk-item\"><div class=\"sk-estimator sk-toggleable\"><input class=\"sk-toggleable__control sk-hidden--visually\" id=\"sk-estimator-id-2\" type=\"checkbox\" checked><label for=\"sk-estimator-id-2\" class=\"sk-toggleable__label sk-toggleable__label-arrow\">KNeighborsClassifier</label><div class=\"sk-toggleable__content\"><pre>KNeighborsClassifier(n_neighbors=4)</pre></div></div></div></div></div>"
      ],
      "text/plain": [
       "KNeighborsClassifier(n_neighbors=4)"
      ]
     },
     "execution_count": 74,
     "metadata": {},
     "output_type": "execute_result"
    }
   ],
   "source": [
    "knn.fit(X_train,y_train)"
   ]
  },
  {
   "cell_type": "code",
   "execution_count": 75,
   "id": "cec5bde0",
   "metadata": {},
   "outputs": [
    {
     "data": {
      "text/plain": [
       "84.375"
      ]
     },
     "execution_count": 75,
     "metadata": {},
     "output_type": "execute_result"
    }
   ],
   "source": [
    "knn.score(X_test,y_test)*100"
   ]
  },
  {
   "cell_type": "markdown",
   "id": "6099423d",
   "metadata": {},
   "source": [
    "# Linear Regression Algorithm"
   ]
  },
  {
   "cell_type": "code",
   "execution_count": 76,
   "id": "6725c784",
   "metadata": {},
   "outputs": [],
   "source": [
    "from sklearn.linear_model import LinearRegression\n",
    "from sklearn.model_selection import cross_val_score"
   ]
  },
  {
   "cell_type": "code",
   "execution_count": 77,
   "id": "22b40393",
   "metadata": {},
   "outputs": [
    {
     "name": "stdout",
     "output_type": "stream",
     "text": [
      "59.37375317046112\n"
     ]
    }
   ],
   "source": [
    "regr = LinearRegression()\n",
    "  \n",
    "regr.fit(X_train, y_train)\n",
    "print(regr.score(X_test, y_test)*100)"
   ]
  },
  {
   "cell_type": "markdown",
   "id": "b42f6d27",
   "metadata": {},
   "source": [
    "# Randomforest Algorithm"
   ]
  },
  {
   "cell_type": "code",
   "execution_count": 78,
   "id": "81a8c36d",
   "metadata": {},
   "outputs": [
    {
     "data": {
      "text/html": [
       "<style>#sk-container-id-3 {color: black;background-color: white;}#sk-container-id-3 pre{padding: 0;}#sk-container-id-3 div.sk-toggleable {background-color: white;}#sk-container-id-3 label.sk-toggleable__label {cursor: pointer;display: block;width: 100%;margin-bottom: 0;padding: 0.3em;box-sizing: border-box;text-align: center;}#sk-container-id-3 label.sk-toggleable__label-arrow:before {content: \"▸\";float: left;margin-right: 0.25em;color: #696969;}#sk-container-id-3 label.sk-toggleable__label-arrow:hover:before {color: black;}#sk-container-id-3 div.sk-estimator:hover label.sk-toggleable__label-arrow:before {color: black;}#sk-container-id-3 div.sk-toggleable__content {max-height: 0;max-width: 0;overflow: hidden;text-align: left;background-color: #f0f8ff;}#sk-container-id-3 div.sk-toggleable__content pre {margin: 0.2em;color: black;border-radius: 0.25em;background-color: #f0f8ff;}#sk-container-id-3 input.sk-toggleable__control:checked~div.sk-toggleable__content {max-height: 200px;max-width: 100%;overflow: auto;}#sk-container-id-3 input.sk-toggleable__control:checked~label.sk-toggleable__label-arrow:before {content: \"▾\";}#sk-container-id-3 div.sk-estimator input.sk-toggleable__control:checked~label.sk-toggleable__label {background-color: #d4ebff;}#sk-container-id-3 div.sk-label input.sk-toggleable__control:checked~label.sk-toggleable__label {background-color: #d4ebff;}#sk-container-id-3 input.sk-hidden--visually {border: 0;clip: rect(1px 1px 1px 1px);clip: rect(1px, 1px, 1px, 1px);height: 1px;margin: -1px;overflow: hidden;padding: 0;position: absolute;width: 1px;}#sk-container-id-3 div.sk-estimator {font-family: monospace;background-color: #f0f8ff;border: 1px dotted black;border-radius: 0.25em;box-sizing: border-box;margin-bottom: 0.5em;}#sk-container-id-3 div.sk-estimator:hover {background-color: #d4ebff;}#sk-container-id-3 div.sk-parallel-item::after {content: \"\";width: 100%;border-bottom: 1px solid gray;flex-grow: 1;}#sk-container-id-3 div.sk-label:hover label.sk-toggleable__label {background-color: #d4ebff;}#sk-container-id-3 div.sk-serial::before {content: \"\";position: absolute;border-left: 1px solid gray;box-sizing: border-box;top: 0;bottom: 0;left: 50%;z-index: 0;}#sk-container-id-3 div.sk-serial {display: flex;flex-direction: column;align-items: center;background-color: white;padding-right: 0.2em;padding-left: 0.2em;position: relative;}#sk-container-id-3 div.sk-item {position: relative;z-index: 1;}#sk-container-id-3 div.sk-parallel {display: flex;align-items: stretch;justify-content: center;background-color: white;position: relative;}#sk-container-id-3 div.sk-item::before, #sk-container-id-3 div.sk-parallel-item::before {content: \"\";position: absolute;border-left: 1px solid gray;box-sizing: border-box;top: 0;bottom: 0;left: 50%;z-index: -1;}#sk-container-id-3 div.sk-parallel-item {display: flex;flex-direction: column;z-index: 1;position: relative;background-color: white;}#sk-container-id-3 div.sk-parallel-item:first-child::after {align-self: flex-end;width: 50%;}#sk-container-id-3 div.sk-parallel-item:last-child::after {align-self: flex-start;width: 50%;}#sk-container-id-3 div.sk-parallel-item:only-child::after {width: 0;}#sk-container-id-3 div.sk-dashed-wrapped {border: 1px dashed gray;margin: 0 0.4em 0.5em 0.4em;box-sizing: border-box;padding-bottom: 0.4em;background-color: white;}#sk-container-id-3 div.sk-label label {font-family: monospace;font-weight: bold;display: inline-block;line-height: 1.2em;}#sk-container-id-3 div.sk-label-container {text-align: center;}#sk-container-id-3 div.sk-container {/* jupyter's `normalize.less` sets `[hidden] { display: none; }` but bootstrap.min.css set `[hidden] { display: none !important; }` so we also need the `!important` here to be able to override the default hidden behavior on the sphinx rendered scikit-learn.org. See: https://github.com/scikit-learn/scikit-learn/issues/21755 */display: inline-block !important;position: relative;}#sk-container-id-3 div.sk-text-repr-fallback {display: none;}</style><div id=\"sk-container-id-3\" class=\"sk-top-container\"><div class=\"sk-text-repr-fallback\"><pre>RandomForestRegressor(random_state=0)</pre><b>In a Jupyter environment, please rerun this cell to show the HTML representation or trust the notebook. <br />On GitHub, the HTML representation is unable to render, please try loading this page with nbviewer.org.</b></div><div class=\"sk-container\" hidden><div class=\"sk-item\"><div class=\"sk-estimator sk-toggleable\"><input class=\"sk-toggleable__control sk-hidden--visually\" id=\"sk-estimator-id-3\" type=\"checkbox\" checked><label for=\"sk-estimator-id-3\" class=\"sk-toggleable__label sk-toggleable__label-arrow\">RandomForestRegressor</label><div class=\"sk-toggleable__content\"><pre>RandomForestRegressor(random_state=0)</pre></div></div></div></div></div>"
      ],
      "text/plain": [
       "RandomForestRegressor(random_state=0)"
      ]
     },
     "execution_count": 78,
     "metadata": {},
     "output_type": "execute_result"
    }
   ],
   "source": [
    "# import the regressor\n",
    "from sklearn.ensemble import RandomForestRegressor\n",
    "\n",
    "# create regressor object\n",
    "regressor = RandomForestRegressor(n_estimators = 100, random_state = 0)\n",
    "  \n",
    "# fit the regressor with x and y data\n",
    "regressor.fit(X_train, y_train)  "
   ]
  },
  {
   "cell_type": "code",
   "execution_count": 79,
   "id": "5a1004ab",
   "metadata": {},
   "outputs": [
    {
     "data": {
      "text/plain": [
       "98.60163026421118"
      ]
     },
     "execution_count": 79,
     "metadata": {},
     "output_type": "execute_result"
    }
   ],
   "source": [
    "y_pred = (regressor.score(X_test, y_test)*100)\n",
    "y_pred"
   ]
  },
  {
   "cell_type": "markdown",
   "id": "67a6001a",
   "metadata": {},
   "source": [
    "From the Above Three Algorithm Random forest has given the best Accuracy of 98.60 so i will go with it."
   ]
  },
  {
   "cell_type": "markdown",
   "id": "3ebc0874",
   "metadata": {},
   "source": [
    "# model deployment"
   ]
  },
  {
   "cell_type": "code",
   "execution_count": 80,
   "id": "9ace7df0",
   "metadata": {},
   "outputs": [],
   "source": [
    "from re import template\n",
    "import numpy as np\n",
    "from flask import Flask, request, jsonify, render_template\n",
    "import pickle\n",
    "from joblib import dump, load"
   ]
  },
  {
   "cell_type": "code",
   "execution_count": 81,
   "id": "7e158885",
   "metadata": {},
   "outputs": [],
   "source": [
    "pickle.dump(regressor,open('model.pkl','wb'))"
   ]
  }
 ],
 "metadata": {
  "kernelspec": {
   "display_name": "Python 3.11.0 64-bit",
   "language": "python",
   "name": "python3"
  },
  "language_info": {
   "codemirror_mode": {
    "name": "ipython",
    "version": 3
   },
   "file_extension": ".py",
   "mimetype": "text/x-python",
   "name": "python",
   "nbconvert_exporter": "python",
   "pygments_lexer": "ipython3",
   "version": "3.11.0"
  },
  "vscode": {
   "interpreter": {
    "hash": "bb47410fe0cf1fc4fc4ddee3d151e7ca79394a5b743b4a604a17843d8963272b"
   }
  }
 },
 "nbformat": 4,
 "nbformat_minor": 5
}
