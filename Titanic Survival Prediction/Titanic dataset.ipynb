{
 "cells": [
  {
   "cell_type": "markdown",
   "id": "8dc46f39",
   "metadata": {},
   "source": [
    "# Import required libraries."
   ]
  },
  {
   "cell_type": "code",
   "execution_count": 1,
   "id": "1e8c894e",
   "metadata": {},
   "outputs": [],
   "source": [
    "import pandas as pd\n",
    "import numpy as np\n",
    "import seaborn as sns\n",
    "import matplotlib.pyplot as plt\n",
    "%matplotlib inline\n",
    "from sklearn.model_selection import train_test_split\n",
    "from sklearn.model_selection import cross_val_score\n",
    "from sklearn.model_selection import StratifiedKFold\n",
    "from sklearn.metrics import classification_report\n",
    "from sklearn.metrics import accuracy_score\n",
    "from sklearn.linear_model import LogisticRegression\n",
    "from sklearn.tree import DecisionTreeClassifier\n",
    "from sklearn.neighbors import KNeighborsClassifier\n",
    "from sklearn.discriminant_analysis import LinearDiscriminantAnalysis\n",
    "from sklearn.naive_bayes import GaussianNB\n",
    "from sklearn.preprocessing import StandardScaler\n",
    "from sklearn.preprocessing import MinMaxScaler\n",
    "import plotly.express as px\n",
    "from sklearn.preprocessing import LabelEncoder\n",
    "from sklearn.preprocessing import OneHotEncoder\n",
    "from sklearn import  linear_model, metrics\n",
    "from sklearn import preprocessing"
   ]
  },
  {
   "cell_type": "markdown",
   "id": "fcb8e6ff",
   "metadata": {},
   "source": [
    "# Read your data."
   ]
  },
  {
   "cell_type": "code",
   "execution_count": 2,
   "id": "83868673",
   "metadata": {},
   "outputs": [],
   "source": [
    "df = pd.read_csv('titanic.csv')"
   ]
  },
  {
   "cell_type": "code",
   "execution_count": 3,
   "id": "5d6adba7",
   "metadata": {},
   "outputs": [
    {
     "data": {
      "text/html": [
       "<div>\n",
       "<style scoped>\n",
       "    .dataframe tbody tr th:only-of-type {\n",
       "        vertical-align: middle;\n",
       "    }\n",
       "\n",
       "    .dataframe tbody tr th {\n",
       "        vertical-align: top;\n",
       "    }\n",
       "\n",
       "    .dataframe thead th {\n",
       "        text-align: right;\n",
       "    }\n",
       "</style>\n",
       "<table border=\"1\" class=\"dataframe\">\n",
       "  <thead>\n",
       "    <tr style=\"text-align: right;\">\n",
       "      <th></th>\n",
       "      <th>PassengerId</th>\n",
       "      <th>Survived</th>\n",
       "      <th>Pclass</th>\n",
       "      <th>Name</th>\n",
       "      <th>Sex</th>\n",
       "      <th>Age</th>\n",
       "      <th>SibSp</th>\n",
       "      <th>Parch</th>\n",
       "      <th>Ticket</th>\n",
       "      <th>Fare</th>\n",
       "      <th>Cabin</th>\n",
       "      <th>Embarked</th>\n",
       "    </tr>\n",
       "  </thead>\n",
       "  <tbody>\n",
       "    <tr>\n",
       "      <th>0</th>\n",
       "      <td>1</td>\n",
       "      <td>0</td>\n",
       "      <td>3</td>\n",
       "      <td>Braund, Mr. Owen Harris</td>\n",
       "      <td>male</td>\n",
       "      <td>22.0</td>\n",
       "      <td>1</td>\n",
       "      <td>0</td>\n",
       "      <td>A/5 21171</td>\n",
       "      <td>7.2500</td>\n",
       "      <td>NaN</td>\n",
       "      <td>S</td>\n",
       "    </tr>\n",
       "    <tr>\n",
       "      <th>1</th>\n",
       "      <td>2</td>\n",
       "      <td>1</td>\n",
       "      <td>1</td>\n",
       "      <td>Cumings, Mrs. John Bradley (Florence Briggs Th...</td>\n",
       "      <td>female</td>\n",
       "      <td>38.0</td>\n",
       "      <td>1</td>\n",
       "      <td>0</td>\n",
       "      <td>PC 17599</td>\n",
       "      <td>71.2833</td>\n",
       "      <td>C85</td>\n",
       "      <td>C</td>\n",
       "    </tr>\n",
       "    <tr>\n",
       "      <th>2</th>\n",
       "      <td>3</td>\n",
       "      <td>1</td>\n",
       "      <td>3</td>\n",
       "      <td>Heikkinen, Miss. Laina</td>\n",
       "      <td>female</td>\n",
       "      <td>26.0</td>\n",
       "      <td>0</td>\n",
       "      <td>0</td>\n",
       "      <td>STON/O2. 3101282</td>\n",
       "      <td>7.9250</td>\n",
       "      <td>NaN</td>\n",
       "      <td>S</td>\n",
       "    </tr>\n",
       "    <tr>\n",
       "      <th>3</th>\n",
       "      <td>4</td>\n",
       "      <td>1</td>\n",
       "      <td>1</td>\n",
       "      <td>Futrelle, Mrs. Jacques Heath (Lily May Peel)</td>\n",
       "      <td>female</td>\n",
       "      <td>35.0</td>\n",
       "      <td>1</td>\n",
       "      <td>0</td>\n",
       "      <td>113803</td>\n",
       "      <td>53.1000</td>\n",
       "      <td>C123</td>\n",
       "      <td>S</td>\n",
       "    </tr>\n",
       "    <tr>\n",
       "      <th>4</th>\n",
       "      <td>5</td>\n",
       "      <td>0</td>\n",
       "      <td>3</td>\n",
       "      <td>Allen, Mr. William Henry</td>\n",
       "      <td>male</td>\n",
       "      <td>35.0</td>\n",
       "      <td>0</td>\n",
       "      <td>0</td>\n",
       "      <td>373450</td>\n",
       "      <td>8.0500</td>\n",
       "      <td>NaN</td>\n",
       "      <td>S</td>\n",
       "    </tr>\n",
       "  </tbody>\n",
       "</table>\n",
       "</div>"
      ],
      "text/plain": [
       "   PassengerId  Survived  Pclass  \\\n",
       "0            1         0       3   \n",
       "1            2         1       1   \n",
       "2            3         1       3   \n",
       "3            4         1       1   \n",
       "4            5         0       3   \n",
       "\n",
       "                                                Name     Sex   Age  SibSp  \\\n",
       "0                            Braund, Mr. Owen Harris    male  22.0      1   \n",
       "1  Cumings, Mrs. John Bradley (Florence Briggs Th...  female  38.0      1   \n",
       "2                             Heikkinen, Miss. Laina  female  26.0      0   \n",
       "3       Futrelle, Mrs. Jacques Heath (Lily May Peel)  female  35.0      1   \n",
       "4                           Allen, Mr. William Henry    male  35.0      0   \n",
       "\n",
       "   Parch            Ticket     Fare Cabin Embarked  \n",
       "0      0         A/5 21171   7.2500   NaN        S  \n",
       "1      0          PC 17599  71.2833   C85        C  \n",
       "2      0  STON/O2. 3101282   7.9250   NaN        S  \n",
       "3      0            113803  53.1000  C123        S  \n",
       "4      0            373450   8.0500   NaN        S  "
      ]
     },
     "execution_count": 3,
     "metadata": {},
     "output_type": "execute_result"
    }
   ],
   "source": [
    "df.head()"
   ]
  },
  {
   "cell_type": "code",
   "execution_count": 4,
   "id": "7d9dd2cc",
   "metadata": {},
   "outputs": [
    {
     "data": {
      "text/plain": [
       "Index(['PassengerId', 'Survived', 'Pclass', 'Name', 'Sex', 'Age', 'SibSp',\n",
       "       'Parch', 'Ticket', 'Fare', 'Cabin', 'Embarked'],\n",
       "      dtype='object')"
      ]
     },
     "execution_count": 4,
     "metadata": {},
     "output_type": "execute_result"
    }
   ],
   "source": [
    "df.columns"
   ]
  },
  {
   "cell_type": "markdown",
   "id": "dd8a2a68",
   "metadata": {},
   "source": [
    "# Find the null or missing values."
   ]
  },
  {
   "cell_type": "code",
   "execution_count": 5,
   "id": "29454ace",
   "metadata": {},
   "outputs": [
    {
     "data": {
      "text/plain": [
       "PassengerId      0\n",
       "Survived         0\n",
       "Pclass           0\n",
       "Name             0\n",
       "Sex              0\n",
       "Age            177\n",
       "SibSp            0\n",
       "Parch            0\n",
       "Ticket           0\n",
       "Fare             0\n",
       "Cabin          687\n",
       "Embarked         2\n",
       "dtype: int64"
      ]
     },
     "execution_count": 5,
     "metadata": {},
     "output_type": "execute_result"
    }
   ],
   "source": [
    "df.isnull().sum()"
   ]
  },
  {
   "cell_type": "markdown",
   "id": "e9d8211e",
   "metadata": {},
   "source": [
    "Here we can see that Age , Cabin, Embarked column contains null value or missing value."
   ]
  },
  {
   "cell_type": "code",
   "execution_count": 6,
   "id": "f8ae68bc",
   "metadata": {},
   "outputs": [
    {
     "data": {
      "text/plain": [
       "Text(0.5, 1.0, 'Missing values Heatmap')"
      ]
     },
     "execution_count": 6,
     "metadata": {},
     "output_type": "execute_result"
    },
    {
     "data": {
      "image/png": "[encoded data removed]",
      "text/plain": [
       "<Figure size 640x480 with 2 Axes>"
      ]
     },
     "metadata": {},
     "output_type": "display_data"
    }
   ],
   "source": [
    "sns.heatmap(df.isnull(), yticklabels=False).set_title(\"Missing values Heatmap\")"
   ]
  },
  {
   "cell_type": "markdown",
   "id": "5f98f211",
   "metadata": {},
   "source": [
    "Here we can see missing value presnt in Age, Cabin, Embarked column with the help of heatmap."
   ]
  },
  {
   "cell_type": "code",
   "execution_count": 7,
   "id": "bf7c3efa",
   "metadata": {},
   "outputs": [],
   "source": [
    "df.drop(['Cabin'],axis=1,inplace=True)"
   ]
  },
  {
   "cell_type": "markdown",
   "id": "63467cec",
   "metadata": {},
   "source": [
    "Here we are dropping the Cabin column because it contains lots of missing values."
   ]
  },
  {
   "cell_type": "code",
   "execution_count": 8,
   "id": "f2d5d92e",
   "metadata": {},
   "outputs": [
    {
     "data": {
      "text/html": [
       "<div>\n",
       "<style scoped>\n",
       "    .dataframe tbody tr th:only-of-type {\n",
       "        vertical-align: middle;\n",
       "    }\n",
       "\n",
       "    .dataframe tbody tr th {\n",
       "        vertical-align: top;\n",
       "    }\n",
       "\n",
       "    .dataframe thead th {\n",
       "        text-align: right;\n",
       "    }\n",
       "</style>\n",
       "<table border=\"1\" class=\"dataframe\">\n",
       "  <thead>\n",
       "    <tr style=\"text-align: right;\">\n",
       "      <th></th>\n",
       "      <th>PassengerId</th>\n",
       "      <th>Survived</th>\n",
       "      <th>Pclass</th>\n",
       "      <th>Name</th>\n",
       "      <th>Sex</th>\n",
       "      <th>Age</th>\n",
       "      <th>SibSp</th>\n",
       "      <th>Parch</th>\n",
       "      <th>Ticket</th>\n",
       "      <th>Fare</th>\n",
       "      <th>Embarked</th>\n",
       "    </tr>\n",
       "  </thead>\n",
       "  <tbody>\n",
       "    <tr>\n",
       "      <th>0</th>\n",
       "      <td>1</td>\n",
       "      <td>0</td>\n",
       "      <td>3</td>\n",
       "      <td>Braund, Mr. Owen Harris</td>\n",
       "      <td>male</td>\n",
       "      <td>22.0</td>\n",
       "      <td>1</td>\n",
       "      <td>0</td>\n",
       "      <td>A/5 21171</td>\n",
       "      <td>7.2500</td>\n",
       "      <td>S</td>\n",
       "    </tr>\n",
       "    <tr>\n",
       "      <th>1</th>\n",
       "      <td>2</td>\n",
       "      <td>1</td>\n",
       "      <td>1</td>\n",
       "      <td>Cumings, Mrs. John Bradley (Florence Briggs Th...</td>\n",
       "      <td>female</td>\n",
       "      <td>38.0</td>\n",
       "      <td>1</td>\n",
       "      <td>0</td>\n",
       "      <td>PC 17599</td>\n",
       "      <td>71.2833</td>\n",
       "      <td>C</td>\n",
       "    </tr>\n",
       "    <tr>\n",
       "      <th>2</th>\n",
       "      <td>3</td>\n",
       "      <td>1</td>\n",
       "      <td>3</td>\n",
       "      <td>Heikkinen, Miss. Laina</td>\n",
       "      <td>female</td>\n",
       "      <td>26.0</td>\n",
       "      <td>0</td>\n",
       "      <td>0</td>\n",
       "      <td>STON/O2. 3101282</td>\n",
       "      <td>7.9250</td>\n",
       "      <td>S</td>\n",
       "    </tr>\n",
       "    <tr>\n",
       "      <th>3</th>\n",
       "      <td>4</td>\n",
       "      <td>1</td>\n",
       "      <td>1</td>\n",
       "      <td>Futrelle, Mrs. Jacques Heath (Lily May Peel)</td>\n",
       "      <td>female</td>\n",
       "      <td>35.0</td>\n",
       "      <td>1</td>\n",
       "      <td>0</td>\n",
       "      <td>113803</td>\n",
       "      <td>53.1000</td>\n",
       "      <td>S</td>\n",
       "    </tr>\n",
       "    <tr>\n",
       "      <th>4</th>\n",
       "      <td>5</td>\n",
       "      <td>0</td>\n",
       "      <td>3</td>\n",
       "      <td>Allen, Mr. William Henry</td>\n",
       "      <td>male</td>\n",
       "      <td>35.0</td>\n",
       "      <td>0</td>\n",
       "      <td>0</td>\n",
       "      <td>373450</td>\n",
       "      <td>8.0500</td>\n",
       "      <td>S</td>\n",
       "    </tr>\n",
       "  </tbody>\n",
       "</table>\n",
       "</div>"
      ],
      "text/plain": [
       "   PassengerId  Survived  Pclass  \\\n",
       "0            1         0       3   \n",
       "1            2         1       1   \n",
       "2            3         1       3   \n",
       "3            4         1       1   \n",
       "4            5         0       3   \n",
       "\n",
       "                                                Name     Sex   Age  SibSp  \\\n",
       "0                            Braund, Mr. Owen Harris    male  22.0      1   \n",
       "1  Cumings, Mrs. John Bradley (Florence Briggs Th...  female  38.0      1   \n",
       "2                             Heikkinen, Miss. Laina  female  26.0      0   \n",
       "3       Futrelle, Mrs. Jacques Heath (Lily May Peel)  female  35.0      1   \n",
       "4                           Allen, Mr. William Henry    male  35.0      0   \n",
       "\n",
       "   Parch            Ticket     Fare Embarked  \n",
       "0      0         A/5 21171   7.2500        S  \n",
       "1      0          PC 17599  71.2833        C  \n",
       "2      0  STON/O2. 3101282   7.9250        S  \n",
       "3      0            113803  53.1000        S  \n",
       "4      0            373450   8.0500        S  "
      ]
     },
     "execution_count": 8,
     "metadata": {},
     "output_type": "execute_result"
    }
   ],
   "source": [
    "df.head()"
   ]
  },
  {
   "cell_type": "markdown",
   "id": "49905458",
   "metadata": {},
   "source": [
    "#  Data Cleaning."
   ]
  },
  {
   "cell_type": "markdown",
   "id": "72f6d3ad",
   "metadata": {},
   "source": [
    "Filling the missing value with the help of mean, meadian or mode."
   ]
  },
  {
   "cell_type": "code",
   "execution_count": 9,
   "id": "bc580e65",
   "metadata": {},
   "outputs": [],
   "source": [
    "df['Age']= df['Age'].fillna(df['Age'].median())"
   ]
  },
  {
   "cell_type": "code",
   "execution_count": 10,
   "id": "9f73edec",
   "metadata": {},
   "outputs": [
    {
     "data": {
      "text/plain": [
       "Text(0.5, 1.0, 'Missing values Heatmap')"
      ]
     },
     "execution_count": 10,
     "metadata": {},
     "output_type": "execute_result"
    },
    {
     "data": {
      "image/png": "[encoded data removed]",
      "text/plain": [
       "<Figure size 640x480 with 2 Axes>"
      ]
     },
     "metadata": {},
     "output_type": "display_data"
    }
   ],
   "source": [
    "sns.heatmap(df.isnull(), yticklabels=False).set_title(\"Missing values Heatmap\")"
   ]
  },
  {
   "cell_type": "markdown",
   "id": "14050aa1",
   "metadata": {},
   "source": [
    "Here we can see that after filling the missing values, there is no missing value in data, except Embarked column because it is in categorical form, so we will do it later on while converting all categorical features into numerical."
   ]
  },
  {
   "cell_type": "markdown",
   "id": "18e79e98",
   "metadata": {},
   "source": [
    "# Exploratory Data Analysis."
   ]
  },
  {
   "cell_type": "code",
   "execution_count": 11,
   "id": "cead62a9",
   "metadata": {},
   "outputs": [],
   "source": [
    "Survived = df['Survived'].value_counts()"
   ]
  },
  {
   "cell_type": "code",
   "execution_count": 12,
   "id": "a7de27b4",
   "metadata": {},
   "outputs": [
    {
     "data": {
      "text/plain": [
       "Int64Index([0, 1], dtype='int64')"
      ]
     },
     "execution_count": 12,
     "metadata": {},
     "output_type": "execute_result"
    }
   ],
   "source": [
    "Survived.index"
   ]
  },
  {
   "cell_type": "code",
   "execution_count": 13,
   "id": "1eb1cdb0",
   "metadata": {},
   "outputs": [
    {
     "data": {
      "text/plain": [
       "array([549, 342], dtype=int64)"
      ]
     },
     "execution_count": 13,
     "metadata": {},
     "output_type": "execute_result"
    }
   ],
   "source": [
    "Survived.values"
   ]
  },
  {
   "cell_type": "markdown",
   "id": "dacbe632",
   "metadata": {},
   "source": [
    "Here we are counting the values in survived columns."
   ]
  },
  {
   "cell_type": "code",
   "execution_count": 14,
   "id": "8d64febe",
   "metadata": {},
   "outputs": [
    {
     "data": {
      "application/vnd.plotly.v1+json": {
       "config": {
        "plotlyServerURL": "https://plot.ly"
       },
       "data": [
        {
         "domain": {
          "x": [
           0,
           1
          ],
          "y": [
           0,
           1
          ]
         },
         "hovertemplate": "index=%{label}<br>value=%{value}<extra></extra>",
         "labels": [
          0,
          1
         ],
         "legendgroup": "",
         "name": "",
         "showlegend": true,
         "type": "pie",
         "values": [
          549,
          342
         ]
        }
       ],
       "layout": {
        "legend": {
         "tracegroupgap": 0
        },
        "margin": {
         "t": 60
        },
        "template": {
         "data": {
          "bar": [
           {
            "error_x": {
             "color": "#2a3f5f"
            },
            "error_y": {
             "color": "#2a3f5f"
            },
            "marker": {
             "line": {
              "color": "#E5ECF6",
              "width": 0.5
             },
             "pattern": {
              "fillmode": "overlay",
              "size": 10,
              "solidity": 0.2
             }
            },
            "type": "bar"
           }
          ],
          "barpolar": [
           {
            "marker": {
             "line": {
              "color": "#E5ECF6",
              "width": 0.5
             },
             "pattern": {
              "fillmode": "overlay",
              "size": 10,
              "solidity": 0.2
             }
            },
            "type": "barpolar"
           }
          ],
          "carpet": [
           {
            "aaxis": {
             "endlinecolor": "#2a3f5f",
             "gridcolor": "white",
             "linecolor": "white",
             "minorgridcolor": "white",
             "startlinecolor": "#2a3f5f"
            },
            "baxis": {
             "endlinecolor": "#2a3f5f",
             "gridcolor": "white",
             "linecolor": "white",
             "minorgridcolor": "white",
             "startlinecolor": "#2a3f5f"
            },
            "type": "carpet"
           }
          ],
          "choropleth": [
           {
            "colorbar": {
             "outlinewidth": 0,
             "ticks": ""
            },
            "type": "choropleth"
           }
          ],
          "contour": [
           {
            "colorbar": {
             "outlinewidth": 0,
             "ticks": ""
            },
            "colorscale": [
             [
              0,
              "#0d0887"
             ],
             [
              0.1111111111111111,
              "#46039f"
             ],
             [
              0.2222222222222222,
              "#7201a8"
             ],
             [
              0.3333333333333333,
              "#9c179e"
             ],
             [
              0.4444444444444444,
              "#bd3786"
             ],
             [
              0.5555555555555556,
              "#d8576b"
             ],
             [
              0.6666666666666666,
              "#ed7953"
             ],
             [
              0.7777777777777778,
              "#fb9f3a"
             ],
             [
              0.8888888888888888,
              "#fdca26"
             ],
             [
              1,
              "#f0f921"
             ]
            ],
            "type": "contour"
           }
          ],
          "contourcarpet": [
           {
            "colorbar": {
             "outlinewidth": 0,
             "ticks": ""
            },
            "type": "contourcarpet"
           }
          ],
          "heatmap": [
           {
            "colorbar": {
             "outlinewidth": 0,
             "ticks": ""
            },
            "colorscale": [
             [
              0,
              "#0d0887"
             ],
             [
              0.1111111111111111,
              "#46039f"
             ],
             [
              0.2222222222222222,
              "#7201a8"
             ],
             [
              0.3333333333333333,
              "#9c179e"
             ],
             [
              0.4444444444444444,
              "#bd3786"
             ],
             [
              0.5555555555555556,
              "#d8576b"
             ],
             [
              0.6666666666666666,
              "#ed7953"
             ],
             [
              0.7777777777777778,
              "#fb9f3a"
             ],
             [
              0.8888888888888888,
              "#fdca26"
             ],
             [
              1,
              "#f0f921"
             ]
            ],
            "type": "heatmap"
           }
          ],
          "heatmapgl": [
           {
            "colorbar": {
             "outlinewidth": 0,
             "ticks": ""
            },
            "colorscale": [
             [
              0,
              "#0d0887"
             ],
             [
              0.1111111111111111,
              "#46039f"
             ],
             [
              0.2222222222222222,
              "#7201a8"
             ],
             [
              0.3333333333333333,
              "#9c179e"
             ],
             [
              0.4444444444444444,
              "#bd3786"
             ],
             [
              0.5555555555555556,
              "#d8576b"
             ],
             [
              0.6666666666666666,
              "#ed7953"
             ],
             [
              0.7777777777777778,
              "#fb9f3a"
             ],
             [
              0.8888888888888888,
              "#fdca26"
             ],
             [
              1,
              "#f0f921"
             ]
            ],
            "type": "heatmapgl"
           }
          ],
          "histogram": [
           {
            "marker": {
             "pattern": {
              "fillmode": "overlay",
              "size": 10,
              "solidity": 0.2
             }
            },
            "type": "histogram"
           }
          ],
          "histogram2d": [
           {
            "colorbar": {
             "outlinewidth": 0,
             "ticks": ""
            },
            "colorscale": [
             [
              0,
              "#0d0887"
             ],
             [
              0.1111111111111111,
              "#46039f"
             ],
             [
              0.2222222222222222,
              "#7201a8"
             ],
             [
              0.3333333333333333,
              "#9c179e"
             ],
             [
              0.4444444444444444,
              "#bd3786"
             ],
             [
              0.5555555555555556,
              "#d8576b"
             ],
             [
              0.6666666666666666,
              "#ed7953"
             ],
             [
              0.7777777777777778,
              "#fb9f3a"
             ],
             [
              0.8888888888888888,
              "#fdca26"
             ],
             [
              1,
              "#f0f921"
             ]
            ],
            "type": "histogram2d"
           }
          ],
          "histogram2dcontour": [
           {
            "colorbar": {
             "outlinewidth": 0,
             "ticks": ""
            },
            "colorscale": [
             [
              0,
              "#0d0887"
             ],
             [
              0.1111111111111111,
              "#46039f"
             ],
             [
              0.2222222222222222,
              "#7201a8"
             ],
             [
              0.3333333333333333,
              "#9c179e"
             ],
             [
              0.4444444444444444,
              "#bd3786"
             ],
             [
              0.5555555555555556,
              "#d8576b"
             ],
             [
              0.6666666666666666,
              "#ed7953"
             ],
             [
              0.7777777777777778,
              "#fb9f3a"
             ],
             [
              0.8888888888888888,
              "#fdca26"
             ],
             [
              1,
              "#f0f921"
             ]
            ],
            "type": "histogram2dcontour"
           }
          ],
          "mesh3d": [
           {
            "colorbar": {
             "outlinewidth": 0,
             "ticks": ""
            },
            "type": "mesh3d"
           }
          ],
          "parcoords": [
           {
            "line": {
             "colorbar": {
              "outlinewidth": 0,
              "ticks": ""
             }
            },
            "type": "parcoords"
           }
          ],
          "pie": [
           {
            "automargin": true,
            "type": "pie"
           }
          ],
          "scatter": [
           {
            "fillpattern": {
             "fillmode": "overlay",
             "size": 10,
             "solidity": 0.2
            },
            "type": "scatter"
           }
          ],
          "scatter3d": [
           {
            "line": {
             "colorbar": {
              "outlinewidth": 0,
              "ticks": ""
             }
            },
            "marker": {
             "colorbar": {
              "outlinewidth": 0,
              "ticks": ""
             }
            },
            "type": "scatter3d"
           }
          ],
          "scattercarpet": [
           {
            "marker": {
             "colorbar": {
              "outlinewidth": 0,
              "ticks": ""
             }
            },
            "type": "scattercarpet"
           }
          ],
          "scattergeo": [
           {
            "marker": {
             "colorbar": {
              "outlinewidth": 0,
              "ticks": ""
             }
            },
            "type": "scattergeo"
           }
          ],
          "scattergl": [
           {
            "marker": {
             "colorbar": {
              "outlinewidth": 0,
              "ticks": ""
             }
            },
            "type": "scattergl"
           }
          ],
          "scattermapbox": [
           {
            "marker": {
             "colorbar": {
              "outlinewidth": 0,
              "ticks": ""
             }
            },
            "type": "scattermapbox"
           }
          ],
          "scatterpolar": [
           {
            "marker": {
             "colorbar": {
              "outlinewidth": 0,
              "ticks": ""
             }
            },
            "type": "scatterpolar"
           }
          ],
          "scatterpolargl": [
           {
            "marker": {
             "colorbar": {
              "outlinewidth": 0,
              "ticks": ""
             }
            },
            "type": "scatterpolargl"
           }
          ],
          "scatterternary": [
           {
            "marker": {
             "colorbar": {
              "outlinewidth": 0,
              "ticks": ""
             }
            },
            "type": "scatterternary"
           }
          ],
          "surface": [
           {
            "colorbar": {
             "outlinewidth": 0,
             "ticks": ""
            },
            "colorscale": [
             [
              0,
              "#0d0887"
             ],
             [
              0.1111111111111111,
              "#46039f"
             ],
             [
              0.2222222222222222,
              "#7201a8"
             ],
             [
              0.3333333333333333,
              "#9c179e"
             ],
             [
              0.4444444444444444,
              "#bd3786"
             ],
             [
              0.5555555555555556,
              "#d8576b"
             ],
             [
              0.6666666666666666,
              "#ed7953"
             ],
             [
              0.7777777777777778,
              "#fb9f3a"
             ],
             [
              0.8888888888888888,
              "#fdca26"
             ],
             [
              1,
              "#f0f921"
             ]
            ],
            "type": "surface"
           }
          ],
          "table": [
           {
            "cells": {
             "fill": {
              "color": "#EBF0F8"
             },
             "line": {
              "color": "white"
             }
            },
            "header": {
             "fill": {
              "color": "#C8D4E3"
             },
             "line": {
              "color": "white"
             }
            },
            "type": "table"
           }
          ]
         },
         "layout": {
          "annotationdefaults": {
           "arrowcolor": "#2a3f5f",
           "arrowhead": 0,
           "arrowwidth": 1
          },
          "autotypenumbers": "strict",
          "coloraxis": {
           "colorbar": {
            "outlinewidth": 0,
            "ticks": ""
           }
          },
          "colorscale": {
           "diverging": [
            [
             0,
             "#8e0152"
            ],
            [
             0.1,
             "#c51b7d"
            ],
            [
             0.2,
             "#de77ae"
            ],
            [
             0.3,
             "#f1b6da"
            ],
            [
             0.4,
             "#fde0ef"
            ],
            [
             0.5,
             "#f7f7f7"
            ],
            [
             0.6,
             "#e6f5d0"
            ],
            [
             0.7,
             "#b8e186"
            ],
            [
             0.8,
             "#7fbc41"
            ],
            [
             0.9,
             "#4d9221"
            ],
            [
             1,
             "#276419"
            ]
           ],
           "sequential": [
            [
             0,
             "#0d0887"
            ],
            [
             0.1111111111111111,
             "#46039f"
            ],
            [
             0.2222222222222222,
             "#7201a8"
            ],
            [
             0.3333333333333333,
             "#9c179e"
            ],
            [
             0.4444444444444444,
             "#bd3786"
            ],
            [
             0.5555555555555556,
             "#d8576b"
            ],
            [
             0.6666666666666666,
             "#ed7953"
            ],
            [
             0.7777777777777778,
             "#fb9f3a"
            ],
            [
             0.8888888888888888,
             "#fdca26"
            ],
            [
             1,
             "#f0f921"
            ]
           ],
           "sequentialminus": [
            [
             0,
             "#0d0887"
            ],
            [
             0.1111111111111111,
             "#46039f"
            ],
            [
             0.2222222222222222,
             "#7201a8"
            ],
            [
             0.3333333333333333,
             "#9c179e"
            ],
            [
             0.4444444444444444,
             "#bd3786"
            ],
            [
             0.5555555555555556,
             "#d8576b"
            ],
            [
             0.6666666666666666,
             "#ed7953"
            ],
            [
             0.7777777777777778,
             "#fb9f3a"
            ],
            [
             0.8888888888888888,
             "#fdca26"
            ],
            [
             1,
             "#f0f921"
            ]
           ]
          },
          "colorway": [
           "#636efa",
           "#EF553B",
           "#00cc96",
           "#ab63fa",
           "#FFA15A",
           "#19d3f3",
           "#FF6692",
           "#B6E880",
           "#FF97FF",
           "#FECB52"
          ],
          "font": {
           "color": "#2a3f5f"
          },
          "geo": {
           "bgcolor": "white",
           "lakecolor": "white",
           "landcolor": "#E5ECF6",
           "showlakes": true,
           "showland": true,
           "subunitcolor": "white"
          },
          "hoverlabel": {
           "align": "left"
          },
          "hovermode": "closest",
          "mapbox": {
           "style": "light"
          },
          "paper_bgcolor": "white",
          "plot_bgcolor": "#E5ECF6",
          "polar": {
           "angularaxis": {
            "gridcolor": "white",
            "linecolor": "white",
            "ticks": ""
           },
           "bgcolor": "#E5ECF6",
           "radialaxis": {
            "gridcolor": "white",
            "linecolor": "white",
            "ticks": ""
           }
          },
          "scene": {
           "xaxis": {
            "backgroundcolor": "#E5ECF6",
            "gridcolor": "white",
            "gridwidth": 2,
            "linecolor": "white",
            "showbackground": true,
            "ticks": "",
            "zerolinecolor": "white"
           },
           "yaxis": {
            "backgroundcolor": "#E5ECF6",
            "gridcolor": "white",
            "gridwidth": 2,
            "linecolor": "white",
            "showbackground": true,
            "ticks": "",
            "zerolinecolor": "white"
           },
           "zaxis": {
            "backgroundcolor": "#E5ECF6",
            "gridcolor": "white",
            "gridwidth": 2,
            "linecolor": "white",
            "showbackground": true,
            "ticks": "",
            "zerolinecolor": "white"
           }
          },
          "shapedefaults": {
           "line": {
            "color": "#2a3f5f"
           }
          },
          "ternary": {
           "aaxis": {
            "gridcolor": "white",
            "linecolor": "white",
            "ticks": ""
           },
           "baxis": {
            "gridcolor": "white",
            "linecolor": "white",
            "ticks": ""
           },
           "bgcolor": "#E5ECF6",
           "caxis": {
            "gridcolor": "white",
            "linecolor": "white",
            "ticks": ""
           }
          },
          "title": {
           "x": 0.05
          },
          "xaxis": {
           "automargin": true,
           "gridcolor": "white",
           "linecolor": "white",
           "ticks": "",
           "title": {
            "standoff": 15
           },
           "zerolinecolor": "white",
           "zerolinewidth": 2
          },
          "yaxis": {
           "automargin": true,
           "gridcolor": "white",
           "linecolor": "white",
           "ticks": "",
           "title": {
            "standoff": 15
           },
           "zerolinecolor": "white",
           "zerolinewidth": 2
          }
         }
        }
       }
      }
     },
     "metadata": {},
     "output_type": "display_data"
    }
   ],
   "source": [
    "px.pie(data_frame = Survived, names = Survived.index, values = Survived.values)"
   ]
  },
  {
   "cell_type": "markdown",
   "id": "d65237c1",
   "metadata": {},
   "source": [
    "Here with the help of pie chart we can see that 61.6% people have survived and 38.4% not survived.(0-- not survived, 1-- survived.)"
   ]
  },
  {
   "cell_type": "code",
   "execution_count": 15,
   "id": "30af23e8",
   "metadata": {},
   "outputs": [
    {
     "data": {
      "text/plain": [
       "<AxesSubplot: xlabel='Survived', ylabel='count'>"
      ]
     },
     "execution_count": 15,
     "metadata": {},
     "output_type": "execute_result"
    },
    {
     "data": {
      "image/png": "[encoded data removed]",
      "text/plain": [
       "<Figure size 640x480 with 1 Axes>"
      ]
     },
     "metadata": {},
     "output_type": "display_data"
    }
   ],
   "source": [
    "sns.set_style('whitegrid')\n",
    "sns.countplot(x='Survived',data=df)\n"
   ]
  },
  {
   "cell_type": "markdown",
   "id": "1e3eed2a",
   "metadata": {},
   "source": [
    "Here with the help of count plot we can see the survival rate. "
   ]
  },
  {
   "cell_type": "code",
   "execution_count": 16,
   "id": "c9798e47",
   "metadata": {},
   "outputs": [
    {
     "data": {
      "text/plain": [
       "<AxesSubplot: xlabel='Survived', ylabel='count'>"
      ]
     },
     "execution_count": 16,
     "metadata": {},
     "output_type": "execute_result"
    },
    {
     "data": {
      "image/png": "[encoded data removed]",
      "text/plain": [
       "<Figure size 640x480 with 1 Axes>"
      ]
     },
     "metadata": {},
     "output_type": "display_data"
    }
   ],
   "source": [
    "sns.set_style('whitegrid')\n",
    "sns.countplot(x='Survived',hue='Sex',data= df,palette='RdBu_r')"
   ]
  },
  {
   "cell_type": "markdown",
   "id": "63a8d410",
   "metadata": {},
   "source": [
    "Here we can see the survival rate of male and female , and it shows that females have survived most than males."
   ]
  },
  {
   "cell_type": "code",
   "execution_count": 17,
   "id": "9b9b49e6",
   "metadata": {},
   "outputs": [
    {
     "data": {
      "text/plain": [
       "<AxesSubplot: xlabel='Survived', ylabel='count'>"
      ]
     },
     "execution_count": 17,
     "metadata": {},
     "output_type": "execute_result"
    },
    {
     "data": {
      "image/png": "[encoded data removed]",
      "text/plain": [
       "<Figure size 640x480 with 1 Axes>"
      ]
     },
     "metadata": {},
     "output_type": "display_data"
    }
   ],
   "source": [
    "sns.set_style('whitegrid')\n",
    "sns.countplot(x='Survived',hue='Pclass',data=df,palette='rainbow')"
   ]
  },
  {
   "cell_type": "markdown",
   "id": "d6101bcf",
   "metadata": {},
   "source": [
    "It shows that 1st and 2nd  passenger class people are survived most than the 3rd class. "
   ]
  },
  {
   "cell_type": "code",
   "execution_count": 18,
   "id": "66cca390",
   "metadata": {},
   "outputs": [
    {
     "name": "stderr",
     "output_type": "stream",
     "text": [
      "C:\\Users\\Shubham\\AppData\\Local\\Temp\\ipykernel_18012\\3706489216.py:1: UserWarning:\n",
      "\n",
      "\n",
      "\n",
      "`distplot` is a deprecated function and will be removed in seaborn v0.14.0.\n",
      "\n",
      "Please adapt your code to use either `displot` (a figure-level function with\n",
      "similar flexibility) or `histplot` (an axes-level function for histograms).\n",
      "\n",
      "For a guide to updating your code to use the new functions, please see\n",
      "https://gist.github.com/mwaskom/de44147ed2974457ad6372750bbe5751\n",
      "\n",
      "\n"
     ]
    },
    {
     "data": {
      "text/plain": [
       "<AxesSubplot: xlabel='Age'>"
      ]
     },
     "execution_count": 18,
     "metadata": {},
     "output_type": "execute_result"
    },
    {
     "data": {
      "image/png": "[encoded data removed]",
      "text/plain": [
       "<Figure size 640x480 with 1 Axes>"
      ]
     },
     "metadata": {},
     "output_type": "display_data"
    }
   ],
   "source": [
    "sns.distplot(df['Age'].dropna(),kde=False,color='darkred',bins=40)"
   ]
  },
  {
   "cell_type": "markdown",
   "id": "98c57aa8",
   "metadata": {},
   "source": [
    "It shows that between the age of 28-30 most of the people have died."
   ]
  },
  {
   "cell_type": "code",
   "execution_count": 19,
   "id": "f8b26f38",
   "metadata": {},
   "outputs": [
    {
     "data": {
      "text/plain": [
       "<AxesSubplot: >"
      ]
     },
     "execution_count": 19,
     "metadata": {},
     "output_type": "execute_result"
    },
    {
     "data": {
      "image/png": "[encoded data removed]",
      "text/plain": [
       "<Figure size 640x480 with 1 Axes>"
      ]
     },
     "metadata": {},
     "output_type": "display_data"
    }
   ],
   "source": [
    "df['Age'].hist(bins=30,color='darkred',alpha=0.3)"
   ]
  },
  {
   "cell_type": "code",
   "execution_count": 20,
   "id": "16502cfa",
   "metadata": {},
   "outputs": [
    {
     "data": {
      "text/plain": [
       "<AxesSubplot: xlabel='SibSp', ylabel='count'>"
      ]
     },
     "execution_count": 20,
     "metadata": {},
     "output_type": "execute_result"
    },
    {
     "data": {
      "image/png": "[encoded data removed]",
      "text/plain": [
       "<Figure size 640x480 with 1 Axes>"
      ]
     },
     "metadata": {},
     "output_type": "display_data"
    }
   ],
   "source": [
    "sns.countplot(x='SibSp',data=df)"
   ]
  },
  {
   "cell_type": "markdown",
   "id": "b3c8626f",
   "metadata": {},
   "source": [
    "Here we can see that people with 0 sibling spouce have survived most in comparision to 1,2,3,4 and so on."
   ]
  },
  {
   "cell_type": "code",
   "execution_count": 21,
   "id": "c72f598d",
   "metadata": {},
   "outputs": [
    {
     "data": {
      "text/plain": [
       "<AxesSubplot: >"
      ]
     },
     "execution_count": 21,
     "metadata": {},
     "output_type": "execute_result"
    },
    {
     "data": {
      "image/png": "[encoded data removed]",
      "text/plain": [
       "<Figure size 800x400 with 1 Axes>"
      ]
     },
     "metadata": {},
     "output_type": "display_data"
    }
   ],
   "source": [
    "df['Fare'].hist(color='green',bins=40,figsize=(8,4))"
   ]
  },
  {
   "cell_type": "markdown",
   "id": "0b8c8b11",
   "metadata": {},
   "source": [
    "It shows the average fair who baught the ticket."
   ]
  },
  {
   "cell_type": "code",
   "execution_count": 22,
   "id": "77804155",
   "metadata": {
    "scrolled": true
   },
   "outputs": [
    {
     "name": "stderr",
     "output_type": "stream",
     "text": [
      "C:\\Users\\Shubham\\AppData\\Local\\Temp\\ipykernel_18012\\1717366647.py:1: FutureWarning:\n",
      "\n",
      "The default value of numeric_only in DataFrame.corr is deprecated. In a future version, it will default to False. Select only valid columns or specify the value of numeric_only to silence this warning.\n",
      "\n"
     ]
    },
    {
     "data": {
      "image/png": "[encoded data removed]",
      "text/plain": [
       "<Figure size 640x480 with 2 Axes>"
      ]
     },
     "metadata": {},
     "output_type": "display_data"
    }
   ],
   "source": [
    "sns.heatmap(df.corr(), annot = True, cmap= 'cubehelix_r')\n",
    "plt.show()"
   ]
  },
  {
   "cell_type": "markdown",
   "id": "5186faa8",
   "metadata": {},
   "source": [
    "This heatmap shows that Fare and Age are highly correlated with each other."
   ]
  },
  {
   "cell_type": "markdown",
   "id": "632780ea",
   "metadata": {},
   "source": [
    "# Converting Categorical to Numerical."
   ]
  },
  {
   "cell_type": "markdown",
   "id": "e33a43bc",
   "metadata": {},
   "source": [
    "We'll need to convert categorical features to dummy variables using pandas! Otherwise our machine learning algorithm won't be able to directly take in those features as inputs."
   ]
  },
  {
   "cell_type": "code",
   "execution_count": 23,
   "id": "144cbf3f",
   "metadata": {},
   "outputs": [],
   "source": [
    "le = LabelEncoder()"
   ]
  },
  {
   "cell_type": "code",
   "execution_count": 24,
   "id": "0f22e497",
   "metadata": {},
   "outputs": [],
   "source": [
    "df['Sex']= le.fit_transform(df['Sex'])"
   ]
  },
  {
   "cell_type": "code",
   "execution_count": 25,
   "id": "ee61a4d4",
   "metadata": {},
   "outputs": [],
   "source": [
    "df.dropna(inplace=True)"
   ]
  },
  {
   "cell_type": "code",
   "execution_count": 26,
   "id": "edf013d6",
   "metadata": {},
   "outputs": [],
   "source": [
    "df['Emabrked']= le.fit_transform(df['Embarked'])"
   ]
  },
  {
   "cell_type": "markdown",
   "id": "3708f5c5",
   "metadata": {},
   "source": [
    "Here we are converting our categorical data into numerical data with the help of Label Encoding."
   ]
  },
  {
   "cell_type": "code",
   "execution_count": 27,
   "id": "71c17dce",
   "metadata": {},
   "outputs": [],
   "source": [
    "df.drop(['PassengerId','Name','Ticket','Embarked'],axis= 1, inplace= True)"
   ]
  },
  {
   "cell_type": "markdown",
   "id": "6b02c555",
   "metadata": {},
   "source": [
    "Here we are dropping the features which are not required."
   ]
  },
  {
   "cell_type": "code",
   "execution_count": 28,
   "id": "f895ce54",
   "metadata": {},
   "outputs": [
    {
     "data": {
      "text/html": [
       "<div>\n",
       "<style scoped>\n",
       "    .dataframe tbody tr th:only-of-type {\n",
       "        vertical-align: middle;\n",
       "    }\n",
       "\n",
       "    .dataframe tbody tr th {\n",
       "        vertical-align: top;\n",
       "    }\n",
       "\n",
       "    .dataframe thead th {\n",
       "        text-align: right;\n",
       "    }\n",
       "</style>\n",
       "<table border=\"1\" class=\"dataframe\">\n",
       "  <thead>\n",
       "    <tr style=\"text-align: right;\">\n",
       "      <th></th>\n",
       "      <th>Survived</th>\n",
       "      <th>Pclass</th>\n",
       "      <th>Sex</th>\n",
       "      <th>Age</th>\n",
       "      <th>SibSp</th>\n",
       "      <th>Parch</th>\n",
       "      <th>Fare</th>\n",
       "      <th>Emabrked</th>\n",
       "    </tr>\n",
       "  </thead>\n",
       "  <tbody>\n",
       "    <tr>\n",
       "      <th>0</th>\n",
       "      <td>0</td>\n",
       "      <td>3</td>\n",
       "      <td>1</td>\n",
       "      <td>22.0</td>\n",
       "      <td>1</td>\n",
       "      <td>0</td>\n",
       "      <td>7.2500</td>\n",
       "      <td>2</td>\n",
       "    </tr>\n",
       "    <tr>\n",
       "      <th>1</th>\n",
       "      <td>1</td>\n",
       "      <td>1</td>\n",
       "      <td>0</td>\n",
       "      <td>38.0</td>\n",
       "      <td>1</td>\n",
       "      <td>0</td>\n",
       "      <td>71.2833</td>\n",
       "      <td>0</td>\n",
       "    </tr>\n",
       "    <tr>\n",
       "      <th>2</th>\n",
       "      <td>1</td>\n",
       "      <td>3</td>\n",
       "      <td>0</td>\n",
       "      <td>26.0</td>\n",
       "      <td>0</td>\n",
       "      <td>0</td>\n",
       "      <td>7.9250</td>\n",
       "      <td>2</td>\n",
       "    </tr>\n",
       "    <tr>\n",
       "      <th>3</th>\n",
       "      <td>1</td>\n",
       "      <td>1</td>\n",
       "      <td>0</td>\n",
       "      <td>35.0</td>\n",
       "      <td>1</td>\n",
       "      <td>0</td>\n",
       "      <td>53.1000</td>\n",
       "      <td>2</td>\n",
       "    </tr>\n",
       "    <tr>\n",
       "      <th>4</th>\n",
       "      <td>0</td>\n",
       "      <td>3</td>\n",
       "      <td>1</td>\n",
       "      <td>35.0</td>\n",
       "      <td>0</td>\n",
       "      <td>0</td>\n",
       "      <td>8.0500</td>\n",
       "      <td>2</td>\n",
       "    </tr>\n",
       "  </tbody>\n",
       "</table>\n",
       "</div>"
      ],
      "text/plain": [
       "   Survived  Pclass  Sex   Age  SibSp  Parch     Fare  Emabrked\n",
       "0         0       3    1  22.0      1      0   7.2500         2\n",
       "1         1       1    0  38.0      1      0  71.2833         0\n",
       "2         1       3    0  26.0      0      0   7.9250         2\n",
       "3         1       1    0  35.0      1      0  53.1000         2\n",
       "4         0       3    1  35.0      0      0   8.0500         2"
      ]
     },
     "execution_count": 28,
     "metadata": {},
     "output_type": "execute_result"
    }
   ],
   "source": [
    "df.head()"
   ]
  },
  {
   "cell_type": "markdown",
   "id": "f1b6c8af",
   "metadata": {},
   "source": [
    "As we can see that we have converted the categorical data into numerical with the help of Label Encoding. "
   ]
  },
  {
   "cell_type": "code",
   "execution_count": 29,
   "id": "818f2a0e",
   "metadata": {},
   "outputs": [
    {
     "data": {
      "text/plain": [
       "Survived    0\n",
       "Pclass      0\n",
       "Sex         0\n",
       "Age         0\n",
       "SibSp       0\n",
       "Parch       0\n",
       "Fare        0\n",
       "Emabrked    0\n",
       "dtype: int64"
      ]
     },
     "execution_count": 29,
     "metadata": {},
     "output_type": "execute_result"
    }
   ],
   "source": [
    "df.isnull().sum()"
   ]
  },
  {
   "cell_type": "markdown",
   "id": "7d5fc610",
   "metadata": {},
   "source": [
    "Here we can see that there is no missing value in our data , not in even Embarked column."
   ]
  },
  {
   "cell_type": "code",
   "execution_count": 30,
   "id": "fbe07653",
   "metadata": {},
   "outputs": [
    {
     "data": {
      "text/plain": [
       "Text(0.5, 1.0, 'Missing values Heatmap')"
      ]
     },
     "execution_count": 30,
     "metadata": {},
     "output_type": "execute_result"
    },
    {
     "data": {
      "image/png": "[encoded data removed]",
      "text/plain": [
       "<Figure size 640x480 with 2 Axes>"
      ]
     },
     "metadata": {},
     "output_type": "display_data"
    }
   ],
   "source": [
    "sns.heatmap(df.isnull(), yticklabels=False).set_title(\"Missing values Heatmap\")"
   ]
  },
  {
   "cell_type": "markdown",
   "id": "a6f17faa",
   "metadata": {},
   "source": [
    "It shows that there is no missing value is present in our data."
   ]
  },
  {
   "cell_type": "code",
   "execution_count": 31,
   "id": "f529b49b",
   "metadata": {},
   "outputs": [
    {
     "name": "stdout",
     "output_type": "stream",
     "text": [
      "<class 'pandas.core.frame.DataFrame'>\n",
      "Int64Index: 889 entries, 0 to 890\n",
      "Data columns (total 8 columns):\n",
      " #   Column    Non-Null Count  Dtype  \n",
      "---  ------    --------------  -----  \n",
      " 0   Survived  889 non-null    int64  \n",
      " 1   Pclass    889 non-null    int64  \n",
      " 2   Sex       889 non-null    int32  \n",
      " 3   Age       889 non-null    float64\n",
      " 4   SibSp     889 non-null    int64  \n",
      " 5   Parch     889 non-null    int64  \n",
      " 6   Fare      889 non-null    float64\n",
      " 7   Emabrked  889 non-null    int32  \n",
      "dtypes: float64(2), int32(2), int64(4)\n",
      "memory usage: 55.6 KB\n"
     ]
    }
   ],
   "source": [
    "df.info()"
   ]
  },
  {
   "cell_type": "markdown",
   "id": "27109908",
   "metadata": {},
   "source": [
    "Here we can see that our categorical data is been converted into numerical data. "
   ]
  },
  {
   "cell_type": "code",
   "execution_count": 32,
   "id": "c933d4fd",
   "metadata": {},
   "outputs": [
    {
     "data": {
      "text/plain": [
       "Survived    0.484568\n",
       "Pclass     -0.636998\n",
       "Sex        -0.625625\n",
       "Age         0.508010\n",
       "SibSp       3.691058\n",
       "Parch       2.745160\n",
       "Fare        4.801440\n",
       "Emabrked   -1.261367\n",
       "dtype: float64"
      ]
     },
     "execution_count": 32,
     "metadata": {},
     "output_type": "execute_result"
    }
   ],
   "source": [
    "df.skew()"
   ]
  },
  {
   "cell_type": "markdown",
   "id": "57b4def6",
   "metadata": {},
   "source": [
    "This shows that our data is skewed or not, It is desirable that for the normal distribution of data the values of skewness should be near to 0."
   ]
  },
  {
   "cell_type": "code",
   "execution_count": 33,
   "id": "6b610915",
   "metadata": {},
   "outputs": [
    {
     "data": {
      "text/plain": [
       "Text(0.5, 1.0, 'Distribution of Parch')"
      ]
     },
     "execution_count": 33,
     "metadata": {},
     "output_type": "execute_result"
    },
    {
     "data": {
      "image/png": "[encoded data removed]",
      "text/plain": [
       "<Figure size 640x480 with 1 Axes>"
      ]
     },
     "metadata": {},
     "output_type": "display_data"
    }
   ],
   "source": [
    "df['Parch'].hist()\n",
    "plt.title('Distribution of Parch')"
   ]
  },
  {
   "cell_type": "markdown",
   "id": "48e673cc",
   "metadata": {},
   "source": [
    "Here we can see that our data is right skewed and it does not follows normal distribution."
   ]
  },
  {
   "cell_type": "code",
   "execution_count": 34,
   "id": "8a5dfd61",
   "metadata": {},
   "outputs": [
    {
     "data": {
      "text/plain": [
       "Text(0.5, 1.0, 'Distribution of Pclass')"
      ]
     },
     "execution_count": 34,
     "metadata": {},
     "output_type": "execute_result"
    },
    {
     "data": {
      "image/png": "[encoded data removed]",
      "text/plain": [
       "<Figure size 640x480 with 1 Axes>"
      ]
     },
     "metadata": {},
     "output_type": "display_data"
    }
   ],
   "source": [
    "df['Pclass'].hist()\n",
    "plt.title('Distribution of Pclass')"
   ]
  },
  {
   "cell_type": "markdown",
   "id": "ecf5af28",
   "metadata": {},
   "source": [
    "It shows that our data is left Skewed and it does not follows normal distribution."
   ]
  },
  {
   "cell_type": "code",
   "execution_count": 35,
   "id": "f5159711",
   "metadata": {},
   "outputs": [
    {
     "data": {
      "text/plain": [
       "Text(0.5, 1.0, 'Distribution of SibSp')"
      ]
     },
     "execution_count": 35,
     "metadata": {},
     "output_type": "execute_result"
    },
    {
     "data": {
      "image/png": "[encoded data removed]",
      "text/plain": [
       "<Figure size 640x480 with 1 Axes>"
      ]
     },
     "metadata": {},
     "output_type": "display_data"
    }
   ],
   "source": [
    "df['SibSp'].hist()\n",
    "plt.title('Distribution of SibSp')"
   ]
  },
  {
   "cell_type": "markdown",
   "id": "553318b6",
   "metadata": {},
   "source": [
    "It shows that our data is right skewed and it does not follows normal distribution."
   ]
  },
  {
   "cell_type": "code",
   "execution_count": 36,
   "id": "d8d735d2",
   "metadata": {
    "scrolled": true
   },
   "outputs": [
    {
     "data": {
      "text/plain": [
       "<AxesSubplot: xlabel='Parch', ylabel='Density'>"
      ]
     },
     "execution_count": 36,
     "metadata": {},
     "output_type": "execute_result"
    },
    {
     "data": {
      "image/png": "[encoded data removed]",
      "text/plain": [
       "<Figure size 640x480 with 1 Axes>"
      ]
     },
     "metadata": {},
     "output_type": "display_data"
    }
   ],
   "source": [
    "sns.kdeplot(df['Parch'])"
   ]
  },
  {
   "cell_type": "markdown",
   "id": "ccf38fd1",
   "metadata": {},
   "source": [
    "Kde plot shows that our data is right skewed and it does not follows normal distribution."
   ]
  },
  {
   "cell_type": "markdown",
   "id": "7c416873",
   "metadata": {},
   "source": [
    "# Checking the distribution of variables using a Q-Q (quantile quantile)plot."
   ]
  },
  {
   "cell_type": "code",
   "execution_count": 37,
   "id": "24098824",
   "metadata": {},
   "outputs": [],
   "source": [
    "import scipy.stats as stats\n",
    "import pylab"
   ]
  },
  {
   "cell_type": "code",
   "execution_count": 38,
   "id": "790a2739",
   "metadata": {
    "scrolled": false
   },
   "outputs": [
    {
     "data": {
      "text/plain": [
       "((array([-3.16351215e+00, -2.89566187e+00, -2.74601536e+00, -2.64038499e+00,\n",
       "         -2.55792154e+00, -2.48987563e+00, -2.43171381e+00, -2.38077264e+00,\n",
       "         -2.33534957e+00, -2.29428798e+00, -2.25676508e+00, -2.22217393e+00,\n",
       "         -2.19005361e+00, -2.16004554e+00, -2.13186508e+00, -2.10528238e+00,\n",
       "         -2.08010906e+00, -2.05618875e+00, -2.03339015e+00, -2.01160192e+00,\n",
       "         -1.99072878e+00, -1.97068857e+00, -1.95140991e+00, -1.93283036e+00,\n",
       "         -1.91489501e+00, -1.89755528e+00, -1.88076799e+00, -1.86449459e+00,\n",
       "         -1.84870046e+00, -1.83335448e+00, -1.81842849e+00, -1.80389695e+00,\n",
       "         -1.78973664e+00, -1.77592637e+00, -1.76244673e+00, -1.74927992e+00,\n",
       "         -1.73640957e+00, -1.72382059e+00, -1.71149902e+00, -1.69943195e+00,\n",
       "         -1.68760738e+00, -1.67601417e+00, -1.66464194e+00, -1.65348100e+00,\n",
       "         -1.64252232e+00, -1.63175741e+00, -1.62117835e+00, -1.61077766e+00,\n",
       "         -1.60054837e+00, -1.59048386e+00, -1.58057792e+00, -1.57082470e+00,\n",
       "         -1.56121866e+00, -1.55175455e+00, -1.54242743e+00, -1.53323260e+00,\n",
       "         -1.52416559e+00, -1.51522219e+00, -1.50639836e+00, -1.49769029e+00,\n",
       "         -1.48909432e+00, -1.48060700e+00, -1.47222502e+00, -1.46394521e+00,\n",
       "         -1.45576457e+00, -1.44768020e+00, -1.43968936e+00, -1.43178940e+00,\n",
       "         -1.42397781e+00, -1.41625215e+00, -1.40861011e+00, -1.40104946e+00,\n",
       "         -1.39356806e+00, -1.38616386e+00, -1.37883488e+00, -1.37157923e+00,\n",
       "         -1.36439507e+00, -1.35728064e+00, -1.35023426e+00, -1.34325429e+00,\n",
       "         -1.33633916e+00, -1.32948735e+00, -1.32269739e+00, -1.31596787e+00,\n",
       "         -1.30929742e+00, -1.30268472e+00, -1.29612851e+00, -1.28962754e+00,\n",
       "         -1.28318061e+00, -1.27678659e+00, -1.27044434e+00, -1.26415279e+00,\n",
       "         -1.25791088e+00, -1.25171760e+00, -1.24557197e+00, -1.23947302e+00,\n",
       "         -1.23341983e+00, -1.22741150e+00, -1.22144716e+00, -1.21552595e+00,\n",
       "         -1.20964706e+00, -1.20380968e+00, -1.19801303e+00, -1.19225637e+00,\n",
       "         -1.18653894e+00, -1.18086004e+00, -1.17521896e+00, -1.16961504e+00,\n",
       "         -1.16404762e+00, -1.15851604e+00, -1.15301968e+00, -1.14755794e+00,\n",
       "         -1.14213022e+00, -1.13673593e+00, -1.13137453e+00, -1.12604544e+00,\n",
       "         -1.12074815e+00, -1.11548212e+00, -1.11024685e+00, -1.10504183e+00,\n",
       "         -1.09986657e+00, -1.09472061e+00, -1.08960347e+00, -1.08451471e+00,\n",
       "         -1.07945388e+00, -1.07442054e+00, -1.06941428e+00, -1.06443468e+00,\n",
       "         -1.05948133e+00, -1.05455385e+00, -1.04965183e+00, -1.04477491e+00,\n",
       "         -1.03992272e+00, -1.03509488e+00, -1.03029105e+00, -1.02551088e+00,\n",
       "         -1.02075403e+00, -1.01602016e+00, -1.01130896e+00, -1.00662009e+00,\n",
       "         -1.00195325e+00, -9.97308134e-01, -9.92684435e-01, -9.88081862e-01,\n",
       "         -9.83500126e-01, -9.78938943e-01, -9.74398036e-01, -9.69877132e-01,\n",
       "         -9.65375965e-01, -9.60894273e-01, -9.56431798e-01, -9.51988288e-01,\n",
       "         -9.47563496e-01, -9.43157179e-01, -9.38769098e-01, -9.34399019e-01,\n",
       "         -9.30046712e-01, -9.25711952e-01, -9.21394517e-01, -9.17094189e-01,\n",
       "         -9.12810755e-01, -9.08544003e-01, -9.04293727e-01, -9.00059725e-01,\n",
       "         -8.95841797e-01, -8.91639747e-01, -8.87453382e-01, -8.83282513e-01,\n",
       "         -8.79126953e-01, -8.74986520e-01, -8.70861032e-01, -8.66750313e-01,\n",
       "         -8.62654189e-01, -8.58572487e-01, -8.54505040e-01, -8.50451681e-01,\n",
       "         -8.46412247e-01, -8.42386576e-01, -8.38374511e-01, -8.34375896e-01,\n",
       "         -8.30390578e-01, -8.26418405e-01, -8.22459229e-01, -8.18512903e-01,\n",
       "         -8.14579283e-01, -8.10658228e-01, -8.06749596e-01, -8.02853251e-01,\n",
       "         -7.98969056e-01, -7.95096878e-01, -7.91236586e-01, -7.87388048e-01,\n",
       "         -7.83551137e-01, -7.79725727e-01, -7.75911693e-01, -7.72108914e-01,\n",
       "         -7.68317267e-01, -7.64536634e-01, -7.60766897e-01, -7.57007941e-01,\n",
       "         -7.53259650e-01, -7.49521913e-01, -7.45794618e-01, -7.42077655e-01,\n",
       "         -7.38370917e-01, -7.34674296e-01, -7.30987687e-01, -7.27310987e-01,\n",
       "         -7.23644092e-01, -7.19986902e-01, -7.16339316e-01, -7.12701237e-01,\n",
       "         -7.09072566e-01, -7.05453207e-01, -7.01843067e-01, -6.98242050e-01,\n",
       "         -6.94650066e-01, -6.91067021e-01, -6.87492827e-01, -6.83927394e-01,\n",
       "         -6.80370634e-01, -6.76822460e-01, -6.73282787e-01, -6.69751529e-01,\n",
       "         -6.66228604e-01, -6.62713928e-01, -6.59207419e-01, -6.55708997e-01,\n",
       "         -6.52218582e-01, -6.48736095e-01, -6.45261457e-01, -6.41794593e-01,\n",
       "         -6.38335425e-01, -6.34883879e-01, -6.31439880e-01, -6.28003354e-01,\n",
       "         -6.24574229e-01, -6.21152432e-01, -6.17737893e-01, -6.14330541e-01,\n",
       "         -6.10930306e-01, -6.07537121e-01, -6.04150915e-01, -6.00771623e-01,\n",
       "         -5.97399178e-01, -5.94033514e-01, -5.90674565e-01, -5.87322268e-01,\n",
       "         -5.83976557e-01, -5.80637371e-01, -5.77304647e-01, -5.73978322e-01,\n",
       "         -5.70658336e-01, -5.67344629e-01, -5.64037139e-01, -5.60735808e-01,\n",
       "         -5.57440577e-01, -5.54151389e-01, -5.50868184e-01, -5.47590907e-01,\n",
       "         -5.44319501e-01, -5.41053909e-01, -5.37794078e-01, -5.34539951e-01,\n",
       "         -5.31291475e-01, -5.28048596e-01, -5.24811260e-01, -5.21579416e-01,\n",
       "         -5.18353010e-01, -5.15131990e-01, -5.11916307e-01, -5.08705908e-01,\n",
       "         -5.05500744e-01, -5.02300765e-01, -4.99105921e-01, -4.95916163e-01,\n",
       "         -4.92731442e-01, -4.89551712e-01, -4.86376924e-01, -4.83207030e-01,\n",
       "         -4.80041984e-01, -4.76881740e-01, -4.73726251e-01, -4.70575473e-01,\n",
       "         -4.67429359e-01, -4.64287865e-01, -4.61150946e-01, -4.58018558e-01,\n",
       "         -4.54890659e-01, -4.51767203e-01, -4.48648148e-01, -4.45533453e-01,\n",
       "         -4.42423073e-01, -4.39316968e-01, -4.36215095e-01, -4.33117414e-01,\n",
       "         -4.30023884e-01, -4.26934463e-01, -4.23849112e-01, -4.20767790e-01,\n",
       "         -4.17690458e-01, -4.14617077e-01, -4.11547607e-01, -4.08482009e-01,\n",
       "         -4.05420246e-01, -4.02362278e-01, -3.99308069e-01, -3.96257579e-01,\n",
       "         -3.93210773e-01, -3.90167613e-01, -3.87128061e-01, -3.84092082e-01,\n",
       "         -3.81059639e-01, -3.78030696e-01, -3.75005217e-01, -3.71983167e-01,\n",
       "         -3.68964511e-01, -3.65949213e-01, -3.62937238e-01, -3.59928553e-01,\n",
       "         -3.56923122e-01, -3.53920912e-01, -3.50921888e-01, -3.47926017e-01,\n",
       "         -3.44933266e-01, -3.41943600e-01, -3.38956988e-01, -3.35973397e-01,\n",
       "         -3.32992793e-01, -3.30015145e-01, -3.27040420e-01, -3.24068585e-01,\n",
       "         -3.21099611e-01, -3.18133464e-01, -3.15170113e-01, -3.12209528e-01,\n",
       "         -3.09251676e-01, -3.06296528e-01, -3.03344052e-01, -3.00394218e-01,\n",
       "         -2.97446995e-01, -2.94502354e-01, -2.91560265e-01, -2.88620697e-01,\n",
       "         -2.85683620e-01, -2.82749007e-01, -2.79816826e-01, -2.76887049e-01,\n",
       "         -2.73959646e-01, -2.71034590e-01, -2.68111851e-01, -2.65191400e-01,\n",
       "         -2.62273209e-01, -2.59357251e-01, -2.56443495e-01, -2.53531916e-01,\n",
       "         -2.50622484e-01, -2.47715172e-01, -2.44809952e-01, -2.41906797e-01,\n",
       "         -2.39005679e-01, -2.36106572e-01, -2.33209448e-01, -2.30314280e-01,\n",
       "         -2.27421041e-01, -2.24529704e-01, -2.21640243e-01, -2.18752632e-01,\n",
       "         -2.15866843e-01, -2.12982852e-01, -2.10100630e-01, -2.07220153e-01,\n",
       "         -2.04341394e-01, -2.01464327e-01, -1.98588927e-01, -1.95715169e-01,\n",
       "         -1.92843025e-01, -1.89972472e-01, -1.87103483e-01, -1.84236033e-01,\n",
       "         -1.81370097e-01, -1.78505650e-01, -1.75642667e-01, -1.72781123e-01,\n",
       "         -1.69920994e-01, -1.67062253e-01, -1.64204877e-01, -1.61348842e-01,\n",
       "         -1.58494121e-01, -1.55640692e-01, -1.52788530e-01, -1.49937609e-01,\n",
       "         -1.47087907e-01, -1.44239399e-01, -1.41392061e-01, -1.38545869e-01,\n",
       "         -1.35700798e-01, -1.32856826e-01, -1.30013928e-01, -1.27172080e-01,\n",
       "         -1.24331259e-01, -1.21491441e-01, -1.18652602e-01, -1.15814719e-01,\n",
       "         -1.12977769e-01, -1.10141727e-01, -1.07306571e-01, -1.04472278e-01,\n",
       "         -1.01638823e-01, -9.88061846e-02, -9.59743385e-02, -9.31432618e-02,\n",
       "         -9.03129314e-02, -8.74833244e-02, -8.46544176e-02, -8.18261881e-02,\n",
       "         -7.89986130e-02, -7.61716693e-02, -7.33453343e-02, -7.05195850e-02,\n",
       "         -6.76943987e-02, -6.48697526e-02, -6.20456240e-02, -5.92219902e-02,\n",
       "         -5.63988285e-02, -5.35761162e-02, -5.07538307e-02, -4.79319494e-02,\n",
       "         -4.51104498e-02, -4.22893092e-02, -3.94685052e-02, -3.66480152e-02,\n",
       "         -3.38278167e-02, -3.10078872e-02, -2.81882043e-02, -2.53687454e-02,\n",
       "         -2.25494883e-02, -1.97304103e-02, -1.69114891e-02, -1.40927024e-02,\n",
       "         -1.12740275e-02, -8.45544229e-03, -5.63692421e-03, -2.81845091e-03,\n",
       "          0.00000000e+00,  2.81845091e-03,  5.63692421e-03,  8.45544229e-03,\n",
       "          1.12740275e-02,  1.40927024e-02,  1.69114891e-02,  1.97304103e-02,\n",
       "          2.25494883e-02,  2.53687454e-02,  2.81882043e-02,  3.10078872e-02,\n",
       "          3.38278167e-02,  3.66480152e-02,  3.94685052e-02,  4.22893092e-02,\n",
       "          4.51104498e-02,  4.79319494e-02,  5.07538307e-02,  5.35761162e-02,\n",
       "          5.63988285e-02,  5.92219902e-02,  6.20456240e-02,  6.48697526e-02,\n",
       "          6.76943987e-02,  7.05195850e-02,  7.33453343e-02,  7.61716693e-02,\n",
       "          7.89986130e-02,  8.18261881e-02,  8.46544176e-02,  8.74833244e-02,\n",
       "          9.03129314e-02,  9.31432618e-02,  9.59743385e-02,  9.88061846e-02,\n",
       "          1.01638823e-01,  1.04472278e-01,  1.07306571e-01,  1.10141727e-01,\n",
       "          1.12977769e-01,  1.15814719e-01,  1.18652602e-01,  1.21491441e-01,\n",
       "          1.24331259e-01,  1.27172080e-01,  1.30013928e-01,  1.32856826e-01,\n",
       "          1.35700798e-01,  1.38545869e-01,  1.41392061e-01,  1.44239399e-01,\n",
       "          1.47087907e-01,  1.49937609e-01,  1.52788530e-01,  1.55640692e-01,\n",
       "          1.58494121e-01,  1.61348842e-01,  1.64204877e-01,  1.67062253e-01,\n",
       "          1.69920994e-01,  1.72781123e-01,  1.75642667e-01,  1.78505650e-01,\n",
       "          1.81370097e-01,  1.84236033e-01,  1.87103483e-01,  1.89972472e-01,\n",
       "          1.92843025e-01,  1.95715169e-01,  1.98588927e-01,  2.01464327e-01,\n",
       "          2.04341394e-01,  2.07220153e-01,  2.10100630e-01,  2.12982852e-01,\n",
       "          2.15866843e-01,  2.18752632e-01,  2.21640243e-01,  2.24529704e-01,\n",
       "          2.27421041e-01,  2.30314280e-01,  2.33209448e-01,  2.36106572e-01,\n",
       "          2.39005679e-01,  2.41906797e-01,  2.44809952e-01,  2.47715172e-01,\n",
       "          2.50622484e-01,  2.53531916e-01,  2.56443495e-01,  2.59357251e-01,\n",
       "          2.62273209e-01,  2.65191400e-01,  2.68111851e-01,  2.71034590e-01,\n",
       "          2.73959646e-01,  2.76887049e-01,  2.79816826e-01,  2.82749007e-01,\n",
       "          2.85683620e-01,  2.88620697e-01,  2.91560265e-01,  2.94502354e-01,\n",
       "          2.97446995e-01,  3.00394218e-01,  3.03344052e-01,  3.06296528e-01,\n",
       "          3.09251676e-01,  3.12209528e-01,  3.15170113e-01,  3.18133464e-01,\n",
       "          3.21099611e-01,  3.24068585e-01,  3.27040420e-01,  3.30015145e-01,\n",
       "          3.32992793e-01,  3.35973397e-01,  3.38956988e-01,  3.41943600e-01,\n",
       "          3.44933266e-01,  3.47926017e-01,  3.50921888e-01,  3.53920912e-01,\n",
       "          3.56923122e-01,  3.59928553e-01,  3.62937238e-01,  3.65949213e-01,\n",
       "          3.68964511e-01,  3.71983167e-01,  3.75005217e-01,  3.78030696e-01,\n",
       "          3.81059639e-01,  3.84092082e-01,  3.87128061e-01,  3.90167613e-01,\n",
       "          3.93210773e-01,  3.96257579e-01,  3.99308069e-01,  4.02362278e-01,\n",
       "          4.05420246e-01,  4.08482009e-01,  4.11547607e-01,  4.14617077e-01,\n",
       "          4.17690458e-01,  4.20767790e-01,  4.23849112e-01,  4.26934463e-01,\n",
       "          4.30023884e-01,  4.33117414e-01,  4.36215095e-01,  4.39316968e-01,\n",
       "          4.42423073e-01,  4.45533453e-01,  4.48648148e-01,  4.51767203e-01,\n",
       "          4.54890659e-01,  4.58018558e-01,  4.61150946e-01,  4.64287865e-01,\n",
       "          4.67429359e-01,  4.70575473e-01,  4.73726251e-01,  4.76881740e-01,\n",
       "          4.80041984e-01,  4.83207030e-01,  4.86376924e-01,  4.89551712e-01,\n",
       "          4.92731442e-01,  4.95916163e-01,  4.99105921e-01,  5.02300765e-01,\n",
       "          5.05500744e-01,  5.08705908e-01,  5.11916307e-01,  5.15131990e-01,\n",
       "          5.18353010e-01,  5.21579416e-01,  5.24811260e-01,  5.28048596e-01,\n",
       "          5.31291475e-01,  5.34539951e-01,  5.37794078e-01,  5.41053909e-01,\n",
       "          5.44319501e-01,  5.47590907e-01,  5.50868184e-01,  5.54151389e-01,\n",
       "          5.57440577e-01,  5.60735808e-01,  5.64037139e-01,  5.67344629e-01,\n",
       "          5.70658336e-01,  5.73978322e-01,  5.77304647e-01,  5.80637371e-01,\n",
       "          5.83976557e-01,  5.87322268e-01,  5.90674565e-01,  5.94033514e-01,\n",
       "          5.97399178e-01,  6.00771623e-01,  6.04150915e-01,  6.07537121e-01,\n",
       "          6.10930306e-01,  6.14330541e-01,  6.17737893e-01,  6.21152432e-01,\n",
       "          6.24574229e-01,  6.28003354e-01,  6.31439880e-01,  6.34883879e-01,\n",
       "          6.38335425e-01,  6.41794593e-01,  6.45261457e-01,  6.48736095e-01,\n",
       "          6.52218582e-01,  6.55708997e-01,  6.59207419e-01,  6.62713928e-01,\n",
       "          6.66228604e-01,  6.69751529e-01,  6.73282787e-01,  6.76822460e-01,\n",
       "          6.80370634e-01,  6.83927394e-01,  6.87492827e-01,  6.91067021e-01,\n",
       "          6.94650066e-01,  6.98242050e-01,  7.01843067e-01,  7.05453207e-01,\n",
       "          7.09072566e-01,  7.12701237e-01,  7.16339316e-01,  7.19986902e-01,\n",
       "          7.23644092e-01,  7.27310987e-01,  7.30987687e-01,  7.34674296e-01,\n",
       "          7.38370917e-01,  7.42077655e-01,  7.45794618e-01,  7.49521913e-01,\n",
       "          7.53259650e-01,  7.57007941e-01,  7.60766897e-01,  7.64536634e-01,\n",
       "          7.68317267e-01,  7.72108914e-01,  7.75911693e-01,  7.79725727e-01,\n",
       "          7.83551137e-01,  7.87388048e-01,  7.91236586e-01,  7.95096878e-01,\n",
       "          7.98969056e-01,  8.02853251e-01,  8.06749596e-01,  8.10658228e-01,\n",
       "          8.14579283e-01,  8.18512903e-01,  8.22459229e-01,  8.26418405e-01,\n",
       "          8.30390578e-01,  8.34375896e-01,  8.38374511e-01,  8.42386576e-01,\n",
       "          8.46412247e-01,  8.50451681e-01,  8.54505040e-01,  8.58572487e-01,\n",
       "          8.62654189e-01,  8.66750313e-01,  8.70861032e-01,  8.74986520e-01,\n",
       "          8.79126953e-01,  8.83282513e-01,  8.87453382e-01,  8.91639747e-01,\n",
       "          8.95841797e-01,  9.00059725e-01,  9.04293727e-01,  9.08544003e-01,\n",
       "          9.12810755e-01,  9.17094189e-01,  9.21394517e-01,  9.25711952e-01,\n",
       "          9.30046712e-01,  9.34399019e-01,  9.38769098e-01,  9.43157179e-01,\n",
       "          9.47563496e-01,  9.51988288e-01,  9.56431798e-01,  9.60894273e-01,\n",
       "          9.65375965e-01,  9.69877132e-01,  9.74398036e-01,  9.78938943e-01,\n",
       "          9.83500126e-01,  9.88081862e-01,  9.92684435e-01,  9.97308134e-01,\n",
       "          1.00195325e+00,  1.00662009e+00,  1.01130896e+00,  1.01602016e+00,\n",
       "          1.02075403e+00,  1.02551088e+00,  1.03029105e+00,  1.03509488e+00,\n",
       "          1.03992272e+00,  1.04477491e+00,  1.04965183e+00,  1.05455385e+00,\n",
       "          1.05948133e+00,  1.06443468e+00,  1.06941428e+00,  1.07442054e+00,\n",
       "          1.07945388e+00,  1.08451471e+00,  1.08960347e+00,  1.09472061e+00,\n",
       "          1.09986657e+00,  1.10504183e+00,  1.11024685e+00,  1.11548212e+00,\n",
       "          1.12074815e+00,  1.12604544e+00,  1.13137453e+00,  1.13673593e+00,\n",
       "          1.14213022e+00,  1.14755794e+00,  1.15301968e+00,  1.15851604e+00,\n",
       "          1.16404762e+00,  1.16961504e+00,  1.17521896e+00,  1.18086004e+00,\n",
       "          1.18653894e+00,  1.19225637e+00,  1.19801303e+00,  1.20380968e+00,\n",
       "          1.20964706e+00,  1.21552595e+00,  1.22144716e+00,  1.22741150e+00,\n",
       "          1.23341983e+00,  1.23947302e+00,  1.24557197e+00,  1.25171760e+00,\n",
       "          1.25791088e+00,  1.26415279e+00,  1.27044434e+00,  1.27678659e+00,\n",
       "          1.28318061e+00,  1.28962754e+00,  1.29612851e+00,  1.30268472e+00,\n",
       "          1.30929742e+00,  1.31596787e+00,  1.32269739e+00,  1.32948735e+00,\n",
       "          1.33633916e+00,  1.34325429e+00,  1.35023426e+00,  1.35728064e+00,\n",
       "          1.36439507e+00,  1.37157923e+00,  1.37883488e+00,  1.38616386e+00,\n",
       "          1.39356806e+00,  1.40104946e+00,  1.40861011e+00,  1.41625215e+00,\n",
       "          1.42397781e+00,  1.43178940e+00,  1.43968936e+00,  1.44768020e+00,\n",
       "          1.45576457e+00,  1.46394521e+00,  1.47222502e+00,  1.48060700e+00,\n",
       "          1.48909432e+00,  1.49769029e+00,  1.50639836e+00,  1.51522219e+00,\n",
       "          1.52416559e+00,  1.53323260e+00,  1.54242743e+00,  1.55175455e+00,\n",
       "          1.56121866e+00,  1.57082470e+00,  1.58057792e+00,  1.59048386e+00,\n",
       "          1.60054837e+00,  1.61077766e+00,  1.62117835e+00,  1.63175741e+00,\n",
       "          1.64252232e+00,  1.65348100e+00,  1.66464194e+00,  1.67601417e+00,\n",
       "          1.68760738e+00,  1.69943195e+00,  1.71149902e+00,  1.72382059e+00,\n",
       "          1.73640957e+00,  1.74927992e+00,  1.76244673e+00,  1.77592637e+00,\n",
       "          1.78973664e+00,  1.80389695e+00,  1.81842849e+00,  1.83335448e+00,\n",
       "          1.84870046e+00,  1.86449459e+00,  1.88076799e+00,  1.89755528e+00,\n",
       "          1.91489501e+00,  1.93283036e+00,  1.95140991e+00,  1.97068857e+00,\n",
       "          1.99072878e+00,  2.01160192e+00,  2.03339015e+00,  2.05618875e+00,\n",
       "          2.08010906e+00,  2.10528238e+00,  2.13186508e+00,  2.16004554e+00,\n",
       "          2.19005361e+00,  2.22217393e+00,  2.25676508e+00,  2.29428798e+00,\n",
       "          2.33534957e+00,  2.38077264e+00,  2.43171381e+00,  2.48987563e+00,\n",
       "          2.55792154e+00,  2.64038499e+00,  2.74601536e+00,  2.89566187e+00,\n",
       "          3.16351215e+00]),\n",
       "  array([0, 0, 0, 0, 0, 0, 0, 0, 0, 0, 0, 0, 0, 0, 0, 0, 0, 0, 0, 0, 0, 0,\n",
       "         0, 0, 0, 0, 0, 0, 0, 0, 0, 0, 0, 0, 0, 0, 0, 0, 0, 0, 0, 0, 0, 0,\n",
       "         0, 0, 0, 0, 0, 0, 0, 0, 0, 0, 0, 0, 0, 0, 0, 0, 0, 0, 0, 0, 0, 0,\n",
       "         0, 0, 0, 0, 0, 0, 0, 0, 0, 0, 0, 0, 0, 0, 0, 0, 0, 0, 0, 0, 0, 0,\n",
       "         0, 0, 0, 0, 0, 0, 0, 0, 0, 0, 0, 0, 0, 0, 0, 0, 0, 0, 0, 0, 0, 0,\n",
       "         0, 0, 0, 0, 0, 0, 0, 0, 0, 0, 0, 0, 0, 0, 0, 0, 0, 0, 0, 0, 0, 0,\n",
       "         0, 0, 0, 0, 0, 0, 0, 0, 0, 0, 0, 0, 0, 0, 0, 0, 0, 0, 0, 0, 0, 0,\n",
       "         0, 0, 0, 0, 0, 0, 0, 0, 0, 0, 0, 0, 0, 0, 0, 0, 0, 0, 0, 0, 0, 0,\n",
       "         0, 0, 0, 0, 0, 0, 0, 0, 0, 0, 0, 0, 0, 0, 0, 0, 0, 0, 0, 0, 0, 0,\n",
       "         0, 0, 0, 0, 0, 0, 0, 0, 0, 0, 0, 0, 0, 0, 0, 0, 0, 0, 0, 0, 0, 0,\n",
       "         0, 0, 0, 0, 0, 0, 0, 0, 0, 0, 0, 0, 0, 0, 0, 0, 0, 0, 0, 0, 0, 0,\n",
       "         0, 0, 0, 0, 0, 0, 0, 0, 0, 0, 0, 0, 0, 0, 0, 0, 0, 0, 0, 0, 0, 0,\n",
       "         0, 0, 0, 0, 0, 0, 0, 0, 0, 0, 0, 0, 0, 0, 0, 0, 0, 0, 0, 0, 0, 0,\n",
       "         0, 0, 0, 0, 0, 0, 0, 0, 0, 0, 0, 0, 0, 0, 0, 0, 0, 0, 0, 0, 0, 0,\n",
       "         0, 0, 0, 0, 0, 0, 0, 0, 0, 0, 0, 0, 0, 0, 0, 0, 0, 0, 0, 0, 0, 0,\n",
       "         0, 0, 0, 0, 0, 0, 0, 0, 0, 0, 0, 0, 0, 0, 0, 0, 0, 0, 0, 0, 0, 0,\n",
       "         0, 0, 0, 0, 0, 0, 0, 0, 0, 0, 0, 0, 0, 0, 0, 0, 0, 0, 0, 0, 0, 0,\n",
       "         0, 0, 0, 0, 0, 0, 0, 0, 0, 0, 0, 0, 0, 0, 0, 0, 0, 0, 0, 0, 0, 0,\n",
       "         0, 0, 0, 0, 0, 0, 0, 0, 0, 0, 0, 0, 0, 0, 0, 0, 0, 0, 0, 0, 0, 0,\n",
       "         0, 0, 0, 0, 0, 0, 0, 0, 0, 0, 0, 0, 0, 0, 0, 0, 0, 0, 0, 0, 0, 0,\n",
       "         0, 0, 0, 0, 0, 0, 0, 0, 0, 0, 0, 0, 0, 0, 0, 0, 0, 0, 0, 0, 0, 0,\n",
       "         0, 0, 0, 0, 0, 0, 0, 0, 0, 0, 0, 0, 0, 0, 0, 0, 0, 0, 0, 0, 0, 0,\n",
       "         0, 0, 0, 0, 0, 0, 0, 0, 0, 0, 0, 0, 0, 0, 0, 0, 0, 0, 0, 0, 0, 0,\n",
       "         0, 0, 0, 0, 0, 0, 0, 0, 0, 0, 0, 0, 0, 0, 0, 0, 0, 0, 0, 0, 0, 0,\n",
       "         0, 0, 0, 0, 0, 0, 0, 0, 0, 0, 0, 0, 0, 0, 0, 0, 0, 0, 0, 0, 0, 0,\n",
       "         0, 0, 0, 0, 0, 0, 0, 0, 0, 0, 0, 0, 0, 0, 0, 0, 0, 0, 0, 0, 0, 0,\n",
       "         0, 0, 0, 0, 0, 0, 0, 0, 0, 0, 0, 0, 0, 0, 0, 0, 0, 0, 0, 0, 0, 0,\n",
       "         0, 0, 0, 0, 0, 0, 0, 0, 0, 0, 0, 0, 0, 0, 0, 0, 0, 0, 0, 0, 0, 0,\n",
       "         0, 0, 0, 0, 0, 0, 0, 0, 0, 0, 0, 0, 0, 0, 0, 0, 0, 0, 0, 0, 0, 0,\n",
       "         0, 0, 0, 0, 0, 0, 0, 0, 0, 0, 0, 0, 0, 0, 0, 0, 0, 0, 0, 0, 0, 0,\n",
       "         0, 0, 0, 0, 0, 0, 0, 0, 0, 0, 0, 0, 0, 0, 0, 0, 1, 1, 1, 1, 1, 1,\n",
       "         1, 1, 1, 1, 1, 1, 1, 1, 1, 1, 1, 1, 1, 1, 1, 1, 1, 1, 1, 1, 1, 1,\n",
       "         1, 1, 1, 1, 1, 1, 1, 1, 1, 1, 1, 1, 1, 1, 1, 1, 1, 1, 1, 1, 1, 1,\n",
       "         1, 1, 1, 1, 1, 1, 1, 1, 1, 1, 1, 1, 1, 1, 1, 1, 1, 1, 1, 1, 1, 1,\n",
       "         1, 1, 1, 1, 1, 1, 1, 1, 1, 1, 1, 1, 1, 1, 1, 1, 1, 1, 1, 1, 1, 1,\n",
       "         1, 1, 1, 1, 1, 1, 1, 1, 1, 1, 1, 1, 1, 1, 1, 1, 1, 1, 1, 1, 1, 1,\n",
       "         1, 1, 2, 2, 2, 2, 2, 2, 2, 2, 2, 2, 2, 2, 2, 2, 2, 2, 2, 2, 2, 2,\n",
       "         2, 2, 2, 2, 2, 2, 2, 2, 2, 2, 2, 2, 2, 2, 2, 2, 2, 2, 2, 2, 2, 2,\n",
       "         2, 2, 2, 2, 2, 2, 2, 2, 2, 2, 2, 2, 2, 2, 2, 2, 2, 2, 2, 2, 2, 2,\n",
       "         2, 2, 2, 2, 2, 2, 2, 2, 2, 2, 2, 2, 2, 2, 2, 2, 3, 3, 3, 3, 3, 4,\n",
       "         4, 4, 4, 5, 5, 5, 5, 5, 6], dtype=int64)),\n",
       " (0.5899923699995581, 0.3824521934758156, 0.7294679044868021))"
      ]
     },
     "execution_count": 38,
     "metadata": {},
     "output_type": "execute_result"
    },
    {
     "data": {
      "image/png": "[encoded data removed]",
      "text/plain": [
       "<Figure size 640x480 with 1 Axes>"
      ]
     },
     "metadata": {},
     "output_type": "display_data"
    }
   ],
   "source": [
    "stats.probplot(df['Parch'], plot = pylab)"
   ]
  },
  {
   "cell_type": "code",
   "execution_count": 39,
   "id": "8f4e3b5b",
   "metadata": {},
   "outputs": [
    {
     "data": {
      "image/png": "[encoded data removed]",
      "text/plain": [
       "<Figure size 1000x500 with 2 Axes>"
      ]
     },
     "metadata": {},
     "output_type": "display_data"
    }
   ],
   "source": [
    "plt.figure(figsize=(10,5))\n",
    "plt.subplot(1,2,1)\n",
    "sns.kdeplot(df['Parch'])\n",
    "plt.subplot(1,2,2)\n",
    "stats.probplot(df['Parch'],plot=pylab)\n",
    "plt.show()"
   ]
  },
  {
   "cell_type": "code",
   "execution_count": 40,
   "id": "10fb2dc4",
   "metadata": {},
   "outputs": [
    {
     "data": {
      "text/html": [
       "<div>\n",
       "<style scoped>\n",
       "    .dataframe tbody tr th:only-of-type {\n",
       "        vertical-align: middle;\n",
       "    }\n",
       "\n",
       "    .dataframe tbody tr th {\n",
       "        vertical-align: top;\n",
       "    }\n",
       "\n",
       "    .dataframe thead th {\n",
       "        text-align: right;\n",
       "    }\n",
       "</style>\n",
       "<table border=\"1\" class=\"dataframe\">\n",
       "  <thead>\n",
       "    <tr style=\"text-align: right;\">\n",
       "      <th></th>\n",
       "      <th>Survived</th>\n",
       "      <th>Pclass</th>\n",
       "      <th>Sex</th>\n",
       "      <th>Age</th>\n",
       "      <th>SibSp</th>\n",
       "      <th>Parch</th>\n",
       "      <th>Fare</th>\n",
       "      <th>Emabrked</th>\n",
       "    </tr>\n",
       "  </thead>\n",
       "  <tbody>\n",
       "    <tr>\n",
       "      <th>count</th>\n",
       "      <td>889.000000</td>\n",
       "      <td>889.000000</td>\n",
       "      <td>889.000000</td>\n",
       "      <td>889.000000</td>\n",
       "      <td>889.000000</td>\n",
       "      <td>889.000000</td>\n",
       "      <td>889.000000</td>\n",
       "      <td>889.000000</td>\n",
       "    </tr>\n",
       "    <tr>\n",
       "      <th>mean</th>\n",
       "      <td>0.382452</td>\n",
       "      <td>2.311586</td>\n",
       "      <td>0.649044</td>\n",
       "      <td>29.315152</td>\n",
       "      <td>0.524184</td>\n",
       "      <td>0.382452</td>\n",
       "      <td>32.096681</td>\n",
       "      <td>1.535433</td>\n",
       "    </tr>\n",
       "    <tr>\n",
       "      <th>std</th>\n",
       "      <td>0.486260</td>\n",
       "      <td>0.834700</td>\n",
       "      <td>0.477538</td>\n",
       "      <td>12.984932</td>\n",
       "      <td>1.103705</td>\n",
       "      <td>0.806761</td>\n",
       "      <td>49.697504</td>\n",
       "      <td>0.792088</td>\n",
       "    </tr>\n",
       "    <tr>\n",
       "      <th>min</th>\n",
       "      <td>0.000000</td>\n",
       "      <td>1.000000</td>\n",
       "      <td>0.000000</td>\n",
       "      <td>0.420000</td>\n",
       "      <td>0.000000</td>\n",
       "      <td>0.000000</td>\n",
       "      <td>0.000000</td>\n",
       "      <td>0.000000</td>\n",
       "    </tr>\n",
       "    <tr>\n",
       "      <th>25%</th>\n",
       "      <td>0.000000</td>\n",
       "      <td>2.000000</td>\n",
       "      <td>0.000000</td>\n",
       "      <td>22.000000</td>\n",
       "      <td>0.000000</td>\n",
       "      <td>0.000000</td>\n",
       "      <td>7.895800</td>\n",
       "      <td>1.000000</td>\n",
       "    </tr>\n",
       "    <tr>\n",
       "      <th>50%</th>\n",
       "      <td>0.000000</td>\n",
       "      <td>3.000000</td>\n",
       "      <td>1.000000</td>\n",
       "      <td>28.000000</td>\n",
       "      <td>0.000000</td>\n",
       "      <td>0.000000</td>\n",
       "      <td>14.454200</td>\n",
       "      <td>2.000000</td>\n",
       "    </tr>\n",
       "    <tr>\n",
       "      <th>75%</th>\n",
       "      <td>1.000000</td>\n",
       "      <td>3.000000</td>\n",
       "      <td>1.000000</td>\n",
       "      <td>35.000000</td>\n",
       "      <td>1.000000</td>\n",
       "      <td>0.000000</td>\n",
       "      <td>31.000000</td>\n",
       "      <td>2.000000</td>\n",
       "    </tr>\n",
       "    <tr>\n",
       "      <th>max</th>\n",
       "      <td>1.000000</td>\n",
       "      <td>3.000000</td>\n",
       "      <td>1.000000</td>\n",
       "      <td>80.000000</td>\n",
       "      <td>8.000000</td>\n",
       "      <td>6.000000</td>\n",
       "      <td>512.329200</td>\n",
       "      <td>2.000000</td>\n",
       "    </tr>\n",
       "  </tbody>\n",
       "</table>\n",
       "</div>"
      ],
      "text/plain": [
       "         Survived      Pclass         Sex         Age       SibSp       Parch  \\\n",
       "count  889.000000  889.000000  889.000000  889.000000  889.000000  889.000000   \n",
       "mean     0.382452    2.311586    0.649044   29.315152    0.524184    0.382452   \n",
       "std      0.486260    0.834700    0.477538   12.984932    1.103705    0.806761   \n",
       "min      0.000000    1.000000    0.000000    0.420000    0.000000    0.000000   \n",
       "25%      0.000000    2.000000    0.000000   22.000000    0.000000    0.000000   \n",
       "50%      0.000000    3.000000    1.000000   28.000000    0.000000    0.000000   \n",
       "75%      1.000000    3.000000    1.000000   35.000000    1.000000    0.000000   \n",
       "max      1.000000    3.000000    1.000000   80.000000    8.000000    6.000000   \n",
       "\n",
       "             Fare    Emabrked  \n",
       "count  889.000000  889.000000  \n",
       "mean    32.096681    1.535433  \n",
       "std     49.697504    0.792088  \n",
       "min      0.000000    0.000000  \n",
       "25%      7.895800    1.000000  \n",
       "50%     14.454200    2.000000  \n",
       "75%     31.000000    2.000000  \n",
       "max    512.329200    2.000000  "
      ]
     },
     "execution_count": 40,
     "metadata": {},
     "output_type": "execute_result"
    }
   ],
   "source": [
    "df.describe()"
   ]
  },
  {
   "cell_type": "markdown",
   "id": "038548db",
   "metadata": {},
   "source": [
    "# Seperating the output. "
   ]
  },
  {
   "cell_type": "code",
   "execution_count": 41,
   "id": "6718f634",
   "metadata": {},
   "outputs": [
    {
     "name": "stdout",
     "output_type": "stream",
     "text": [
      "Shape of X (889, 7)\n",
      "Shape of y: (889,)\n"
     ]
    }
   ],
   "source": [
    "X = df.drop(['Survived'], axis = 1)\n",
    "y = df['Survived']\n",
    "\n",
    "print(\"Shape of X\", X.shape)\n",
    "print(\"Shape of y:\", y.shape)"
   ]
  },
  {
   "cell_type": "code",
   "execution_count": 42,
   "id": "037dea8d",
   "metadata": {},
   "outputs": [
    {
     "data": {
      "text/plain": [
       "0    549\n",
       "1    340\n",
       "Name: Survived, dtype: int64"
      ]
     },
     "execution_count": 42,
     "metadata": {},
     "output_type": "execute_result"
    }
   ],
   "source": [
    "y.value_counts()"
   ]
  },
  {
   "cell_type": "markdown",
   "id": "e465e672",
   "metadata": {},
   "source": [
    "# Train_Test_Slipt. "
   ]
  },
  {
   "cell_type": "code",
   "execution_count": 43,
   "id": "c63205a7",
   "metadata": {},
   "outputs": [
    {
     "name": "stdout",
     "output_type": "stream",
     "text": [
      "Shape of X_train (595, 7)\n",
      "Shape of y_train: (595,)\n",
      "Shape of X_test (294, 7)\n",
      "Shape of y_test: (294,)\n"
     ]
    }
   ],
   "source": [
    "# splitting the data for model training\n",
    "\n",
    "# splitting the data into training and test set\n",
    "from sklearn.model_selection import train_test_split\n",
    "X_train,X_test,y_train,y_test=train_test_split(X,y,test_size=0.33, random_state=42)\n",
    "print(\"Shape of X_train\", X_train.shape)\n",
    "print(\"Shape of y_train:\", y_train.shape)\n",
    "print(\"Shape of X_test\", X_test.shape)\n",
    "print(\"Shape of y_test:\", y_test.shape)"
   ]
  },
  {
   "cell_type": "markdown",
   "id": "8eda5e6e",
   "metadata": {},
   "source": [
    "Here we are splitting the training data and testing data."
   ]
  },
  {
   "cell_type": "markdown",
   "id": "efc2de5f",
   "metadata": {},
   "source": [
    "# Normalization."
   ]
  },
  {
   "cell_type": "markdown",
   "id": "b4c0365b",
   "metadata": {},
   "source": [
    "Because our data does not follow normal distribution."
   ]
  },
  {
   "cell_type": "code",
   "execution_count": 44,
   "id": "3437f77b",
   "metadata": {},
   "outputs": [],
   "source": [
    "scaler = MinMaxScaler()"
   ]
  },
  {
   "cell_type": "code",
   "execution_count": 45,
   "id": "f501e5c8",
   "metadata": {},
   "outputs": [],
   "source": [
    "X_train1 = scaler.fit_transform(X_train)\n",
    "X_test1 = scaler.transform(X_test)"
   ]
  },
  {
   "cell_type": "code",
   "execution_count": 46,
   "id": "d6ce63f3",
   "metadata": {},
   "outputs": [
    {
     "data": {
      "text/plain": [
       "array([[0.        , 1.        , 0.67328474, ..., 0.        , 0.10122886,\n",
       "        1.        ],\n",
       "       [0.5       , 0.        , 0.42196532, ..., 0.        , 0.02537431,\n",
       "        1.        ],\n",
       "       [0.        , 1.        , 0.04498618, ..., 0.33333333, 0.15977676,\n",
       "        1.        ],\n",
       "       ...,\n",
       "       [0.        , 0.        , 0.59788892, ..., 0.        , 0.05061043,\n",
       "        1.        ],\n",
       "       [1.        , 0.        , 0.25860769, ..., 0.33333333, 0.06709553,\n",
       "        1.        ],\n",
       "       [1.        , 1.        , 0.40939935, ..., 0.        , 0.01689187,\n",
       "        1.        ]])"
      ]
     },
     "execution_count": 46,
     "metadata": {},
     "output_type": "execute_result"
    }
   ],
   "source": [
    "X_train1"
   ]
  },
  {
   "cell_type": "markdown",
   "id": "63de01bf",
   "metadata": {},
   "source": [
    "A we can see that Normalization has been complted and it has given the value between 0 and 1."
   ]
  },
  {
   "cell_type": "markdown",
   "id": "b02bbe2f",
   "metadata": {},
   "source": [
    "# Using an algorithm to find the accuracy (Logistic Regression)."
   ]
  },
  {
   "cell_type": "code",
   "execution_count": 47,
   "id": "99f210d7",
   "metadata": {},
   "outputs": [
    {
     "name": "stdout",
     "output_type": "stream",
     "text": [
      "Logistic Regression model accuracy(in %): 80.27210884353741\n"
     ]
    }
   ],
   "source": [
    "reg = linear_model.LogisticRegression()\n",
    "   \n",
    "# train the model using the training sets\n",
    "reg.fit(X_train1, y_train)\n",
    "  \n",
    "# making predictions on the testing set\n",
    "y_pred = reg.predict(X_test1)\n",
    "   \n",
    "# comparing actual response values (y_test) with predicted response values (y_pred)\n",
    "print(\"Logistic Regression model accuracy(in %):\", \n",
    "metrics.accuracy_score(y_test, y_pred)*100)"
   ]
  },
  {
   "cell_type": "markdown",
   "id": "011ced0f",
   "metadata": {},
   "source": [
    "As we can see here it has given the accuracy of 80 % which means its preety good, but i have not removed the outlier , otherwise we will be getting the accuracy till 90%."
   ]
  },
  {
   "cell_type": "markdown",
   "id": "6a3cd45a",
   "metadata": {},
   "source": [
    "# Confusion Matrix."
   ]
  },
  {
   "cell_type": "markdown",
   "id": "468a32e6",
   "metadata": {},
   "source": [
    "It is very important , because it helps us know the performance of the model."
   ]
  },
  {
   "cell_type": "code",
   "execution_count": 48,
   "id": "8682ce2f",
   "metadata": {},
   "outputs": [
    {
     "data": {
      "text/plain": [
       "<AxesSubplot: >"
      ]
     },
     "execution_count": 48,
     "metadata": {},
     "output_type": "execute_result"
    },
    {
     "data": {
      "image/png": "[encoded data removed]",
      "text/plain": [
       "<Figure size 640x480 with 2 Axes>"
      ]
     },
     "metadata": {},
     "output_type": "display_data"
    }
   ],
   "source": [
    "from sklearn.metrics import confusion_matrix\n",
    "cm = confusion_matrix(y_test, y_pred)\n",
    "sns.heatmap(cm, annot = True, cmap = 'viridis')"
   ]
  },
  {
   "cell_type": "markdown",
   "id": "a5cc69b1",
   "metadata": {},
   "source": [
    "This is the confusion matrix."
   ]
  },
  {
   "cell_type": "code",
   "execution_count": 49,
   "id": "520aad9c",
   "metadata": {},
   "outputs": [],
   "source": [
    "#y_test = np.random.binomial(1,.9,size = 1000)\n",
    "#y_pred = np.random.binomial(1,.9,size = 1000)\n",
    "\n",
    "#confusion_matrix = metrics.confusion_matrix(y_test, y_pred)\n",
    "\n",
    "#cm_display = metrics.ConfusionMatrixDisplay(confusion_matrix = confusion_matrix, display_labels = [False, True])\n",
    "\n",
    "#cm_display.plot()\n",
    "#plt.show()"
   ]
  },
  {
   "cell_type": "code",
   "execution_count": 50,
   "id": "e3bc4b3b",
   "metadata": {},
   "outputs": [],
   "source": [
    "#Accuracy = metrics.accuracy_score(y_test, y_pred)*100"
   ]
  },
  {
   "cell_type": "code",
   "execution_count": 51,
   "id": "d499da4b",
   "metadata": {},
   "outputs": [],
   "source": [
    "#Accuracy"
   ]
  },
  {
   "cell_type": "code",
   "execution_count": 52,
   "id": "b4fe5cf0",
   "metadata": {},
   "outputs": [],
   "source": [
    "#Precision = metrics.precision_score(y_test, y_pred)*100"
   ]
  },
  {
   "cell_type": "code",
   "execution_count": 53,
   "id": "76ed24d2",
   "metadata": {},
   "outputs": [],
   "source": [
    "#Sensitivity_recall = metrics.recall_score(y_test, y_pred)*100"
   ]
  },
  {
   "cell_type": "code",
   "execution_count": 54,
   "id": "a151ee42",
   "metadata": {},
   "outputs": [],
   "source": [
    "#Specificity = metrics.recall_score(y_test, y_pred, pos_label=0)*100"
   ]
  },
  {
   "cell_type": "code",
   "execution_count": 55,
   "id": "6603e3ed",
   "metadata": {},
   "outputs": [],
   "source": [
    "#F1_score = metrics.f1_score(y_test, y_pred)*100"
   ]
  },
  {
   "cell_type": "code",
   "execution_count": 56,
   "id": "7e6d72f7",
   "metadata": {},
   "outputs": [],
   "source": [
    "#metrics\n",
    "#print({\"Accuracy\":Accuracy,\"Precision\":Precision,\"Sensitivity_recall\":Sensitivity_recall,\"Specificity\":Specificity,\"F1_score\":F1_score})"
   ]
  },
  {
   "cell_type": "markdown",
   "id": "bb721f06",
   "metadata": {},
   "source": [
    "Actually here we don't need cunfusion matrix but incase for knowleedge purpose i have written the code.  "
   ]
  },
  {
   "cell_type": "markdown",
   "id": "cb6599fb",
   "metadata": {},
   "source": [
    "# Random forest ."
   ]
  },
  {
   "cell_type": "code",
   "execution_count": 57,
   "id": "a6462c6f",
   "metadata": {},
   "outputs": [],
   "source": [
    "from sklearn.ensemble import RandomForestClassifier"
   ]
  },
  {
   "cell_type": "code",
   "execution_count": 58,
   "id": "739cb101",
   "metadata": {},
   "outputs": [
    {
     "name": "stdout",
     "output_type": "stream",
     "text": [
      "ACCURACY OF THE MODEL:  76.87074829931973\n"
     ]
    }
   ],
   "source": [
    "# creating a RF classifier\n",
    "clf = RandomForestClassifier(n_estimators = 100) \n",
    " \n",
    "# Training the model on the training dataset\n",
    "# fit function is used to train the model using the training sets as parameters\n",
    "clf.fit(X_train1, y_train)\n",
    " \n",
    "# performing predictions on the test dataset\n",
    "y_pred = clf.predict(X_test1)\n",
    " \n",
    "# metrics are used to find accuracy or error\n",
    "from sklearn import metrics \n",
    " \n",
    "# using metrics module for accuracy calculation\n",
    "print(\"ACCURACY OF THE MODEL: \", metrics.accuracy_score(y_test, y_pred)*100)"
   ]
  },
  {
   "cell_type": "markdown",
   "id": "ad9b3eea",
   "metadata": {},
   "source": [
    "Here we have the accuracy of 77%, so we will go with logistic regression for now."
   ]
  },
  {
   "cell_type": "markdown",
   "id": "80991469",
   "metadata": {},
   "source": [
    "# Knn(k- nearest neighbors)."
   ]
  },
  {
   "cell_type": "code",
   "execution_count": 59,
   "id": "ef300fad",
   "metadata": {},
   "outputs": [],
   "source": [
    "from sklearn.model_selection import train_test_split\n",
    "from sklearn.neighbors import NearestNeighbors\n",
    "from sklearn.neighbors import KNeighborsClassifier\n",
    "from sklearn import metrics\n",
    "from sklearn.metrics import accuracy_score\n",
    "from sklearn.metrics import precision_recall_fscore_support\n",
    "from sklearn.model_selection import cross_val_score\n",
    "from sklearn.model_selection import KFold\n",
    "from collections import Counter\n",
    "from sklearn.model_selection import cross_validate"
   ]
  },
  {
   "cell_type": "code",
   "execution_count": 60,
   "id": "4c7f0002",
   "metadata": {},
   "outputs": [
    {
     "data": {
      "text/html": [
       "<style>#sk-container-id-1 {color: black;background-color: white;}#sk-container-id-1 pre{padding: 0;}#sk-container-id-1 div.sk-toggleable {background-color: white;}#sk-container-id-1 label.sk-toggleable__label {cursor: pointer;display: block;width: 100%;margin-bottom: 0;padding: 0.3em;box-sizing: border-box;text-align: center;}#sk-container-id-1 label.sk-toggleable__label-arrow:before {content: \"▸\";float: left;margin-right: 0.25em;color: #696969;}#sk-container-id-1 label.sk-toggleable__label-arrow:hover:before {color: black;}#sk-container-id-1 div.sk-estimator:hover label.sk-toggleable__label-arrow:before {color: black;}#sk-container-id-1 div.sk-toggleable__content {max-height: 0;max-width: 0;overflow: hidden;text-align: left;background-color: #f0f8ff;}#sk-container-id-1 div.sk-toggleable__content pre {margin: 0.2em;color: black;border-radius: 0.25em;background-color: #f0f8ff;}#sk-container-id-1 input.sk-toggleable__control:checked~div.sk-toggleable__content {max-height: 200px;max-width: 100%;overflow: auto;}#sk-container-id-1 input.sk-toggleable__control:checked~label.sk-toggleable__label-arrow:before {content: \"▾\";}#sk-container-id-1 div.sk-estimator input.sk-toggleable__control:checked~label.sk-toggleable__label {background-color: #d4ebff;}#sk-container-id-1 div.sk-label input.sk-toggleable__control:checked~label.sk-toggleable__label {background-color: #d4ebff;}#sk-container-id-1 input.sk-hidden--visually {border: 0;clip: rect(1px 1px 1px 1px);clip: rect(1px, 1px, 1px, 1px);height: 1px;margin: -1px;overflow: hidden;padding: 0;position: absolute;width: 1px;}#sk-container-id-1 div.sk-estimator {font-family: monospace;background-color: #f0f8ff;border: 1px dotted black;border-radius: 0.25em;box-sizing: border-box;margin-bottom: 0.5em;}#sk-container-id-1 div.sk-estimator:hover {background-color: #d4ebff;}#sk-container-id-1 div.sk-parallel-item::after {content: \"\";width: 100%;border-bottom: 1px solid gray;flex-grow: 1;}#sk-container-id-1 div.sk-label:hover label.sk-toggleable__label {background-color: #d4ebff;}#sk-container-id-1 div.sk-serial::before {content: \"\";position: absolute;border-left: 1px solid gray;box-sizing: border-box;top: 0;bottom: 0;left: 50%;z-index: 0;}#sk-container-id-1 div.sk-serial {display: flex;flex-direction: column;align-items: center;background-color: white;padding-right: 0.2em;padding-left: 0.2em;position: relative;}#sk-container-id-1 div.sk-item {position: relative;z-index: 1;}#sk-container-id-1 div.sk-parallel {display: flex;align-items: stretch;justify-content: center;background-color: white;position: relative;}#sk-container-id-1 div.sk-item::before, #sk-container-id-1 div.sk-parallel-item::before {content: \"\";position: absolute;border-left: 1px solid gray;box-sizing: border-box;top: 0;bottom: 0;left: 50%;z-index: -1;}#sk-container-id-1 div.sk-parallel-item {display: flex;flex-direction: column;z-index: 1;position: relative;background-color: white;}#sk-container-id-1 div.sk-parallel-item:first-child::after {align-self: flex-end;width: 50%;}#sk-container-id-1 div.sk-parallel-item:last-child::after {align-self: flex-start;width: 50%;}#sk-container-id-1 div.sk-parallel-item:only-child::after {width: 0;}#sk-container-id-1 div.sk-dashed-wrapped {border: 1px dashed gray;margin: 0 0.4em 0.5em 0.4em;box-sizing: border-box;padding-bottom: 0.4em;background-color: white;}#sk-container-id-1 div.sk-label label {font-family: monospace;font-weight: bold;display: inline-block;line-height: 1.2em;}#sk-container-id-1 div.sk-label-container {text-align: center;}#sk-container-id-1 div.sk-container {/* jupyter's `normalize.less` sets `[hidden] { display: none; }` but bootstrap.min.css set `[hidden] { display: none !important; }` so we also need the `!important` here to be able to override the default hidden behavior on the sphinx rendered scikit-learn.org. See: https://github.com/scikit-learn/scikit-learn/issues/21755 */display: inline-block !important;position: relative;}#sk-container-id-1 div.sk-text-repr-fallback {display: none;}</style><div id=\"sk-container-id-1\" class=\"sk-top-container\"><div class=\"sk-text-repr-fallback\"><pre>KNeighborsClassifier()</pre><b>In a Jupyter environment, please rerun this cell to show the HTML representation or trust the notebook. <br />On GitHub, the HTML representation is unable to render, please try loading this page with nbviewer.org.</b></div><div class=\"sk-container\" hidden><div class=\"sk-item\"><div class=\"sk-estimator sk-toggleable\"><input class=\"sk-toggleable__control sk-hidden--visually\" id=\"sk-estimator-id-1\" type=\"checkbox\" checked><label for=\"sk-estimator-id-1\" class=\"sk-toggleable__label sk-toggleable__label-arrow\">KNeighborsClassifier</label><div class=\"sk-toggleable__content\"><pre>KNeighborsClassifier()</pre></div></div></div></div></div>"
      ],
      "text/plain": [
       "KNeighborsClassifier()"
      ]
     },
     "execution_count": 60,
     "metadata": {},
     "output_type": "execute_result"
    }
   ],
   "source": [
    "knn= KNeighborsClassifier(n_neighbors=5)\n",
    "knn.fit(X_train,y_train)"
   ]
  },
  {
   "cell_type": "code",
   "execution_count": 61,
   "id": "dec00aec",
   "metadata": {},
   "outputs": [
    {
     "data": {
      "text/plain": [
       "69.04761904761905"
      ]
     },
     "execution_count": 61,
     "metadata": {},
     "output_type": "execute_result"
    }
   ],
   "source": [
    "knn.score(X_test,y_test)*100"
   ]
  },
  {
   "cell_type": "code",
   "execution_count": 62,
   "id": "757cd9f2",
   "metadata": {},
   "outputs": [],
   "source": [
    "neighbors = np.arange(1,14)\n",
    "train_accuracy =np.empty(len(neighbors))\n",
    "test_accuracy = np.empty(len(neighbors))"
   ]
  },
  {
   "cell_type": "markdown",
   "id": "5f16d73d",
   "metadata": {},
   "source": [
    "Here we have to give the range how much is necessary."
   ]
  },
  {
   "cell_type": "code",
   "execution_count": 63,
   "id": "adc1c905",
   "metadata": {},
   "outputs": [],
   "source": [
    "for i,k in enumerate(neighbors):\n",
    "         knn = KNeighborsClassifier(n_neighbors=k)\n",
    "knn.fit(X_train, y_train)\n",
    "train_accuracy[i] = knn.score(X_train, y_train)\n",
    "test_accuracy[i] = knn.score(X_test, y_test)"
   ]
  },
  {
   "cell_type": "markdown",
   "id": "88881a4f",
   "metadata": {},
   "source": [
    "Here we are training and testing the data and storing it into a new objet."
   ]
  },
  {
   "cell_type": "code",
   "execution_count": 64,
   "id": "3c844dbc",
   "metadata": {},
   "outputs": [
    {
     "data": {
      "image/png": "[encoded data removed]",
      "text/plain": [
       "<Figure size 640x480 with 1 Axes>"
      ]
     },
     "metadata": {},
     "output_type": "display_data"
    }
   ],
   "source": [
    "plt.title('k-NN Varying number of neighbors')\n",
    "plt.plot(neighbors, test_accuracy, label='Testing Accuracy')\n",
    "plt.plot(neighbors, train_accuracy, label='Training accuracy')\n",
    "plt.legend()\n",
    "plt.xlabel('Number of neighbors')\n",
    "plt.ylabel('Accuracy')\n",
    "plt.show()"
   ]
  },
  {
   "cell_type": "markdown",
   "id": "8d88d065",
   "metadata": {},
   "source": [
    "After plotting the graph we can see that from 8th range the testing accuracy is rising and from between 8 and 10 which means 9 it started decreasing, so this means our best value for finding the accuracy is 9.  "
   ]
  },
  {
   "cell_type": "code",
   "execution_count": 65,
   "id": "b484b216",
   "metadata": {},
   "outputs": [],
   "source": [
    "knn = KNeighborsClassifier(n_neighbors=9)"
   ]
  },
  {
   "cell_type": "code",
   "execution_count": 66,
   "id": "bfe3b3b5",
   "metadata": {},
   "outputs": [
    {
     "data": {
      "text/html": [
       "<style>#sk-container-id-2 {color: black;background-color: white;}#sk-container-id-2 pre{padding: 0;}#sk-container-id-2 div.sk-toggleable {background-color: white;}#sk-container-id-2 label.sk-toggleable__label {cursor: pointer;display: block;width: 100%;margin-bottom: 0;padding: 0.3em;box-sizing: border-box;text-align: center;}#sk-container-id-2 label.sk-toggleable__label-arrow:before {content: \"▸\";float: left;margin-right: 0.25em;color: #696969;}#sk-container-id-2 label.sk-toggleable__label-arrow:hover:before {color: black;}#sk-container-id-2 div.sk-estimator:hover label.sk-toggleable__label-arrow:before {color: black;}#sk-container-id-2 div.sk-toggleable__content {max-height: 0;max-width: 0;overflow: hidden;text-align: left;background-color: #f0f8ff;}#sk-container-id-2 div.sk-toggleable__content pre {margin: 0.2em;color: black;border-radius: 0.25em;background-color: #f0f8ff;}#sk-container-id-2 input.sk-toggleable__control:checked~div.sk-toggleable__content {max-height: 200px;max-width: 100%;overflow: auto;}#sk-container-id-2 input.sk-toggleable__control:checked~label.sk-toggleable__label-arrow:before {content: \"▾\";}#sk-container-id-2 div.sk-estimator input.sk-toggleable__control:checked~label.sk-toggleable__label {background-color: #d4ebff;}#sk-container-id-2 div.sk-label input.sk-toggleable__control:checked~label.sk-toggleable__label {background-color: #d4ebff;}#sk-container-id-2 input.sk-hidden--visually {border: 0;clip: rect(1px 1px 1px 1px);clip: rect(1px, 1px, 1px, 1px);height: 1px;margin: -1px;overflow: hidden;padding: 0;position: absolute;width: 1px;}#sk-container-id-2 div.sk-estimator {font-family: monospace;background-color: #f0f8ff;border: 1px dotted black;border-radius: 0.25em;box-sizing: border-box;margin-bottom: 0.5em;}#sk-container-id-2 div.sk-estimator:hover {background-color: #d4ebff;}#sk-container-id-2 div.sk-parallel-item::after {content: \"\";width: 100%;border-bottom: 1px solid gray;flex-grow: 1;}#sk-container-id-2 div.sk-label:hover label.sk-toggleable__label {background-color: #d4ebff;}#sk-container-id-2 div.sk-serial::before {content: \"\";position: absolute;border-left: 1px solid gray;box-sizing: border-box;top: 0;bottom: 0;left: 50%;z-index: 0;}#sk-container-id-2 div.sk-serial {display: flex;flex-direction: column;align-items: center;background-color: white;padding-right: 0.2em;padding-left: 0.2em;position: relative;}#sk-container-id-2 div.sk-item {position: relative;z-index: 1;}#sk-container-id-2 div.sk-parallel {display: flex;align-items: stretch;justify-content: center;background-color: white;position: relative;}#sk-container-id-2 div.sk-item::before, #sk-container-id-2 div.sk-parallel-item::before {content: \"\";position: absolute;border-left: 1px solid gray;box-sizing: border-box;top: 0;bottom: 0;left: 50%;z-index: -1;}#sk-container-id-2 div.sk-parallel-item {display: flex;flex-direction: column;z-index: 1;position: relative;background-color: white;}#sk-container-id-2 div.sk-parallel-item:first-child::after {align-self: flex-end;width: 50%;}#sk-container-id-2 div.sk-parallel-item:last-child::after {align-self: flex-start;width: 50%;}#sk-container-id-2 div.sk-parallel-item:only-child::after {width: 0;}#sk-container-id-2 div.sk-dashed-wrapped {border: 1px dashed gray;margin: 0 0.4em 0.5em 0.4em;box-sizing: border-box;padding-bottom: 0.4em;background-color: white;}#sk-container-id-2 div.sk-label label {font-family: monospace;font-weight: bold;display: inline-block;line-height: 1.2em;}#sk-container-id-2 div.sk-label-container {text-align: center;}#sk-container-id-2 div.sk-container {/* jupyter's `normalize.less` sets `[hidden] { display: none; }` but bootstrap.min.css set `[hidden] { display: none !important; }` so we also need the `!important` here to be able to override the default hidden behavior on the sphinx rendered scikit-learn.org. See: https://github.com/scikit-learn/scikit-learn/issues/21755 */display: inline-block !important;position: relative;}#sk-container-id-2 div.sk-text-repr-fallback {display: none;}</style><div id=\"sk-container-id-2\" class=\"sk-top-container\"><div class=\"sk-text-repr-fallback\"><pre>KNeighborsClassifier(n_neighbors=9)</pre><b>In a Jupyter environment, please rerun this cell to show the HTML representation or trust the notebook. <br />On GitHub, the HTML representation is unable to render, please try loading this page with nbviewer.org.</b></div><div class=\"sk-container\" hidden><div class=\"sk-item\"><div class=\"sk-estimator sk-toggleable\"><input class=\"sk-toggleable__control sk-hidden--visually\" id=\"sk-estimator-id-2\" type=\"checkbox\" checked><label for=\"sk-estimator-id-2\" class=\"sk-toggleable__label sk-toggleable__label-arrow\">KNeighborsClassifier</label><div class=\"sk-toggleable__content\"><pre>KNeighborsClassifier(n_neighbors=9)</pre></div></div></div></div></div>"
      ],
      "text/plain": [
       "KNeighborsClassifier(n_neighbors=9)"
      ]
     },
     "execution_count": 66,
     "metadata": {},
     "output_type": "execute_result"
    }
   ],
   "source": [
    "knn.fit(X_train,y_train)"
   ]
  },
  {
   "cell_type": "code",
   "execution_count": 67,
   "id": "a56c3ac3",
   "metadata": {},
   "outputs": [
    {
     "data": {
      "text/plain": [
       "72.78911564625851"
      ]
     },
     "execution_count": 67,
     "metadata": {},
     "output_type": "execute_result"
    }
   ],
   "source": [
    "knn.score(X_test,y_test)*100"
   ]
  },
  {
   "cell_type": "markdown",
   "id": "1a68c83e",
   "metadata": {},
   "source": [
    "Here we can see that our accuracy is 73%, again which  is less comapred to logistic regression , so i will go with logistic regression."
   ]
  },
  {
   "cell_type": "markdown",
   "id": "0972aff6",
   "metadata": {},
   "source": [
    "# Dumping the file."
   ]
  },
  {
   "cell_type": "code",
   "execution_count": 68,
   "id": "e0714a0d",
   "metadata": {},
   "outputs": [],
   "source": [
    "from re import template\n",
    "import numpy as np\n",
    "from flask import Flask, request, jsonify, render_template\n",
    "import pickle\n",
    "from joblib import dump, load"
   ]
  },
  {
   "cell_type": "code",
   "execution_count": 69,
   "id": "9f96fedf",
   "metadata": {},
   "outputs": [],
   "source": [
    "pickle.dump(reg, open('model.pkl','wb'))"
   ]
  },
  {
   "cell_type": "markdown",
   "id": "585e2d45",
   "metadata": {},
   "source": [
    "Here our whole model is completed so i will dump this file and go for Flask API ."
   ]
  },
  {
   "cell_type": "code",
   "execution_count": null,
   "id": "28e52286",
   "metadata": {},
   "outputs": [],
   "source": []
  }
 ],
 "metadata": {
  "kernelspec": {
   "display_name": "Python 3.11.0 64-bit",
   "language": "python",
   "name": "python3"
  },
  "language_info": {
   "codemirror_mode": {
    "name": "ipython",
    "version": 3
   },
   "file_extension": ".py",
   "mimetype": "text/x-python",
   "name": "python",
   "nbconvert_exporter": "python",
   "pygments_lexer": "ipython3",
   "version": "3.11.0"
  },
  "vscode": {
   "interpreter": {
    "hash": "bb47410fe0cf1fc4fc4ddee3d151e7ca79394a5b743b4a604a17843d8963272b"
   }
  }
 },
 "nbformat": 4,
 "nbformat_minor": 5
}
